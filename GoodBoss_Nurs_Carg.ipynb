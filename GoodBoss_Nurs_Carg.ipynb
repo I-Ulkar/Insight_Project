{
 "cells": [
  {
   "cell_type": "markdown",
   "metadata": {},
   "source": [
    "# Nursing and Caregiving facility specific results"
   ]
  },
  {
   "cell_type": "code",
   "execution_count": 1,
   "metadata": {},
   "outputs": [],
   "source": [
    "# LOAD PACKAGES\n",
    "\n",
    "import numpy as np\n",
    "import matplotlib.pyplot as plt\n",
    "import pandas as pd\n",
    "\n",
    "import os\n",
    "import pickle\n",
    "\n",
    "import matplotlib.pyplot as plt\n",
    "import seaborn as sb\n",
    "color = sb.color_palette()\n",
    "%matplotlib inline\n",
    "\n",
    "from sklearn import preprocessing as pp \n",
    "from scipy.stats import pearsonr\n",
    "import plotly.express as px\n",
    "from factor_analyzer import FactorAnalyzer\n",
    "from scipy.stats import pearsonr \n",
    "from sklearn.decomposition import PCA\n",
    "from sklearn.linear_model import LassoCV\n",
    "\n",
    "from scipy.stats import wilcoxon"
   ]
  },
  {
   "cell_type": "code",
   "execution_count": 2,
   "metadata": {},
   "outputs": [
    {
     "name": "stdout",
     "output_type": "stream",
     "text": [
      "/Users/Ulkar/Google Drive/DATA SCIENCE/Insight Project/Data\n"
     ]
    }
   ],
   "source": [
    "# setting working Directory\n",
    "os.chdir(\"/Users/Ulkar/Google Drive/DATA SCIENCE/Insight Project/Data\")\n",
    "current_path = os.getcwd()\n",
    "print(current_path)"
   ]
  },
  {
   "cell_type": "code",
   "execution_count": 3,
   "metadata": {},
   "outputs": [],
   "source": [
    "## Load All data\n",
    "df1= pd.read_csv(\"data2018.csv\", low_memory=False)\n",
    "df2= pd.read_csv(\"data2019.csv\", low_memory=False)\n",
    "df3= pd.read_csv(\"Febr2020o.csv\", low_memory=False)\n",
    "df_state= pd.read_csv(\"uszips.csv\", low_memory=False)\n",
    "dfmaster= pd.read_csv(\"/Users/Ulkar/Google Drive/DATA SCIENCE/Insight Project/Data/MasterData_new.csv\", low_memory=False)\n",
    "dfmng= pd.read_csv(\"/Users/Ulkar/Google Drive/DATA SCIENCE/Insight Project/Data/manager.csv\", low_memory=False)"
   ]
  },
  {
   "cell_type": "code",
   "execution_count": 4,
   "metadata": {},
   "outputs": [],
   "source": [
    "dfmaster['WorkZip_master']=(pd.to_numeric(dfmaster['WorkZip_master'], errors='coerce'))"
   ]
  },
  {
   "cell_type": "code",
   "execution_count": 5,
   "metadata": {},
   "outputs": [
    {
     "data": {
      "text/html": [
       "<div>\n",
       "<style scoped>\n",
       "    .dataframe tbody tr th:only-of-type {\n",
       "        vertical-align: middle;\n",
       "    }\n",
       "\n",
       "    .dataframe tbody tr th {\n",
       "        vertical-align: top;\n",
       "    }\n",
       "\n",
       "    .dataframe thead th {\n",
       "        text-align: right;\n",
       "    }\n",
       "</style>\n",
       "<table border=\"1\" class=\"dataframe\">\n",
       "  <thead>\n",
       "    <tr style=\"text-align: right;\">\n",
       "      <th></th>\n",
       "      <th>Employee ID</th>\n",
       "      <th>ManagerID</th>\n",
       "      <th>Demographics (Race)</th>\n",
       "      <th>Age_master</th>\n",
       "      <th>Female_master</th>\n",
       "      <th>Status_master</th>\n",
       "      <th>Pay type_master</th>\n",
       "      <th>WorkStatus</th>\n",
       "      <th>WorkStatus2_master</th>\n",
       "      <th>CurrentPay_master</th>\n",
       "      <th>...</th>\n",
       "      <th>Disabilities</th>\n",
       "      <th>Aug2018RespondentID</th>\n",
       "      <th>Feb2019SurveyCode</th>\n",
       "      <th>Fall(Aug)2019SurveyCode</th>\n",
       "      <th>Feb2020SurveyCode</th>\n",
       "      <th>2019surveycode</th>\n",
       "      <th>zip</th>\n",
       "      <th>state_id</th>\n",
       "      <th>state_name</th>\n",
       "      <th>_merge</th>\n",
       "    </tr>\n",
       "  </thead>\n",
       "  <tbody>\n",
       "    <tr>\n",
       "      <th>0</th>\n",
       "      <td>133267.0</td>\n",
       "      <td>126441.0</td>\n",
       "      <td>White</td>\n",
       "      <td>42.0</td>\n",
       "      <td>1.0</td>\n",
       "      <td>A</td>\n",
       "      <td>H</td>\n",
       "      <td>F</td>\n",
       "      <td>R</td>\n",
       "      <td>44.33</td>\n",
       "      <td>...</td>\n",
       "      <td>NaN</td>\n",
       "      <td>NaN</td>\n",
       "      <td>NaN</td>\n",
       "      <td>NaN</td>\n",
       "      <td>NaN</td>\n",
       "      <td>NaN</td>\n",
       "      <td>2719.0</td>\n",
       "      <td>MA</td>\n",
       "      <td>Massachusetts</td>\n",
       "      <td>both</td>\n",
       "    </tr>\n",
       "    <tr>\n",
       "      <th>1</th>\n",
       "      <td>101365.0</td>\n",
       "      <td>126441.0</td>\n",
       "      <td>White</td>\n",
       "      <td>54.0</td>\n",
       "      <td>1.0</td>\n",
       "      <td>T</td>\n",
       "      <td>H</td>\n",
       "      <td>P</td>\n",
       "      <td>T</td>\n",
       "      <td>36</td>\n",
       "      <td>...</td>\n",
       "      <td>NaN</td>\n",
       "      <td>NaN</td>\n",
       "      <td>NaN</td>\n",
       "      <td>NaN</td>\n",
       "      <td>NaN</td>\n",
       "      <td>NaN</td>\n",
       "      <td>2719.0</td>\n",
       "      <td>MA</td>\n",
       "      <td>Massachusetts</td>\n",
       "      <td>both</td>\n",
       "    </tr>\n",
       "    <tr>\n",
       "      <th>2</th>\n",
       "      <td>134205.0</td>\n",
       "      <td>126441.0</td>\n",
       "      <td>White</td>\n",
       "      <td>25.0</td>\n",
       "      <td>1.0</td>\n",
       "      <td>A</td>\n",
       "      <td>H</td>\n",
       "      <td>P</td>\n",
       "      <td>R</td>\n",
       "      <td>40.3</td>\n",
       "      <td>...</td>\n",
       "      <td>NaN</td>\n",
       "      <td>NaN</td>\n",
       "      <td>NaN</td>\n",
       "      <td>NaN</td>\n",
       "      <td>NaN</td>\n",
       "      <td>NaN</td>\n",
       "      <td>2719.0</td>\n",
       "      <td>MA</td>\n",
       "      <td>Massachusetts</td>\n",
       "      <td>both</td>\n",
       "    </tr>\n",
       "    <tr>\n",
       "      <th>3</th>\n",
       "      <td>124516.0</td>\n",
       "      <td>126441.0</td>\n",
       "      <td>White</td>\n",
       "      <td>52.0</td>\n",
       "      <td>1.0</td>\n",
       "      <td>T</td>\n",
       "      <td>H</td>\n",
       "      <td>P</td>\n",
       "      <td>T</td>\n",
       "      <td>50</td>\n",
       "      <td>...</td>\n",
       "      <td>NaN</td>\n",
       "      <td>NaN</td>\n",
       "      <td>NaN</td>\n",
       "      <td>NaN</td>\n",
       "      <td>NaN</td>\n",
       "      <td>NaN</td>\n",
       "      <td>2719.0</td>\n",
       "      <td>MA</td>\n",
       "      <td>Massachusetts</td>\n",
       "      <td>both</td>\n",
       "    </tr>\n",
       "    <tr>\n",
       "      <th>4</th>\n",
       "      <td>126438.0</td>\n",
       "      <td>126441.0</td>\n",
       "      <td>White</td>\n",
       "      <td>49.0</td>\n",
       "      <td>1.0</td>\n",
       "      <td>A</td>\n",
       "      <td>H</td>\n",
       "      <td>P</td>\n",
       "      <td>R</td>\n",
       "      <td>50.38</td>\n",
       "      <td>...</td>\n",
       "      <td>NaN</td>\n",
       "      <td>NaN</td>\n",
       "      <td>NaN</td>\n",
       "      <td>NaN</td>\n",
       "      <td>NaN</td>\n",
       "      <td>NaN</td>\n",
       "      <td>2719.0</td>\n",
       "      <td>MA</td>\n",
       "      <td>Massachusetts</td>\n",
       "      <td>both</td>\n",
       "    </tr>\n",
       "    <tr>\n",
       "      <th>...</th>\n",
       "      <td>...</td>\n",
       "      <td>...</td>\n",
       "      <td>...</td>\n",
       "      <td>...</td>\n",
       "      <td>...</td>\n",
       "      <td>...</td>\n",
       "      <td>...</td>\n",
       "      <td>...</td>\n",
       "      <td>...</td>\n",
       "      <td>...</td>\n",
       "      <td>...</td>\n",
       "      <td>...</td>\n",
       "      <td>...</td>\n",
       "      <td>...</td>\n",
       "      <td>...</td>\n",
       "      <td>...</td>\n",
       "      <td>...</td>\n",
       "      <td>...</td>\n",
       "      <td>...</td>\n",
       "      <td>...</td>\n",
       "      <td>...</td>\n",
       "    </tr>\n",
       "    <tr>\n",
       "      <th>33928</th>\n",
       "      <td>10215.0</td>\n",
       "      <td>25480.0</td>\n",
       "      <td>White</td>\n",
       "      <td>64.0</td>\n",
       "      <td>1.0</td>\n",
       "      <td>A</td>\n",
       "      <td>H</td>\n",
       "      <td>F</td>\n",
       "      <td>R</td>\n",
       "      <td>16.14</td>\n",
       "      <td>...</td>\n",
       "      <td>Yes, I have a disability</td>\n",
       "      <td>596876.0</td>\n",
       "      <td>Zuercher10215</td>\n",
       "      <td>Zuercher10215</td>\n",
       "      <td>zuercher10215</td>\n",
       "      <td>zuercher10215</td>\n",
       "      <td>45833.0</td>\n",
       "      <td>OH</td>\n",
       "      <td>Ohio</td>\n",
       "      <td>both</td>\n",
       "    </tr>\n",
       "    <tr>\n",
       "      <th>33929</th>\n",
       "      <td>106874.0</td>\n",
       "      <td>10274.0</td>\n",
       "      <td>Hispanic or Latino</td>\n",
       "      <td>20.0</td>\n",
       "      <td>1.0</td>\n",
       "      <td>T</td>\n",
       "      <td>H</td>\n",
       "      <td>P</td>\n",
       "      <td>R</td>\n",
       "      <td>12.32</td>\n",
       "      <td>...</td>\n",
       "      <td>NaN</td>\n",
       "      <td>NaN</td>\n",
       "      <td>Zuniga106874</td>\n",
       "      <td>Zuniga106874</td>\n",
       "      <td>NaN</td>\n",
       "      <td>zuniga106874</td>\n",
       "      <td>45856.0</td>\n",
       "      <td>OH</td>\n",
       "      <td>Ohio</td>\n",
       "      <td>both</td>\n",
       "    </tr>\n",
       "    <tr>\n",
       "      <th>33930</th>\n",
       "      <td>127672.0</td>\n",
       "      <td>126441.0</td>\n",
       "      <td>White</td>\n",
       "      <td>30.0</td>\n",
       "      <td>1.0</td>\n",
       "      <td>A</td>\n",
       "      <td>H</td>\n",
       "      <td>F</td>\n",
       "      <td>R</td>\n",
       "      <td>14.21</td>\n",
       "      <td>...</td>\n",
       "      <td>NaN</td>\n",
       "      <td>NaN</td>\n",
       "      <td>NaN</td>\n",
       "      <td>NaN</td>\n",
       "      <td>furtado127672</td>\n",
       "      <td>NaN</td>\n",
       "      <td>2719.0</td>\n",
       "      <td>MA</td>\n",
       "      <td>Massachusetts</td>\n",
       "      <td>both</td>\n",
       "    </tr>\n",
       "    <tr>\n",
       "      <th>33931</th>\n",
       "      <td>NaN</td>\n",
       "      <td>NaN</td>\n",
       "      <td>NaN</td>\n",
       "      <td>NaN</td>\n",
       "      <td>NaN</td>\n",
       "      <td>NaN</td>\n",
       "      <td>NaN</td>\n",
       "      <td>NaN</td>\n",
       "      <td>NaN</td>\n",
       "      <td>NaN</td>\n",
       "      <td>...</td>\n",
       "      <td>NaN</td>\n",
       "      <td>NaN</td>\n",
       "      <td>NaN</td>\n",
       "      <td>NaN</td>\n",
       "      <td>NaN</td>\n",
       "      <td>NaN</td>\n",
       "      <td>NaN</td>\n",
       "      <td>NaN</td>\n",
       "      <td>NaN</td>\n",
       "      <td>left_only</td>\n",
       "    </tr>\n",
       "    <tr>\n",
       "      <th>33932</th>\n",
       "      <td>NaN</td>\n",
       "      <td>NaN</td>\n",
       "      <td>NaN</td>\n",
       "      <td>NaN</td>\n",
       "      <td>NaN</td>\n",
       "      <td>NaN</td>\n",
       "      <td>NaN</td>\n",
       "      <td>NaN</td>\n",
       "      <td>NaN</td>\n",
       "      <td>NaN</td>\n",
       "      <td>...</td>\n",
       "      <td>10</td>\n",
       "      <td>NaN</td>\n",
       "      <td>NaN</td>\n",
       "      <td>NaN</td>\n",
       "      <td>NaN</td>\n",
       "      <td>NaN</td>\n",
       "      <td>NaN</td>\n",
       "      <td>NaN</td>\n",
       "      <td>NaN</td>\n",
       "      <td>left_only</td>\n",
       "    </tr>\n",
       "  </tbody>\n",
       "</table>\n",
       "<p>33933 rows × 41 columns</p>\n",
       "</div>"
      ],
      "text/plain": [
       "       Employee ID  ManagerID Demographics (Race)  Age_master  Female_master  \\\n",
       "0         133267.0   126441.0               White        42.0            1.0   \n",
       "1         101365.0   126441.0               White        54.0            1.0   \n",
       "2         134205.0   126441.0               White        25.0            1.0   \n",
       "3         124516.0   126441.0               White        52.0            1.0   \n",
       "4         126438.0   126441.0               White        49.0            1.0   \n",
       "...            ...        ...                 ...         ...            ...   \n",
       "33928      10215.0    25480.0               White        64.0            1.0   \n",
       "33929     106874.0    10274.0  Hispanic or Latino        20.0            1.0   \n",
       "33930     127672.0   126441.0               White        30.0            1.0   \n",
       "33931          NaN        NaN                 NaN         NaN            NaN   \n",
       "33932          NaN        NaN                 NaN         NaN            NaN   \n",
       "\n",
       "      Status_master Pay type_master WorkStatus WorkStatus2_master  \\\n",
       "0                 A               H          F                  R   \n",
       "1                 T               H          P                  T   \n",
       "2                 A               H          P                  R   \n",
       "3                 T               H          P                  T   \n",
       "4                 A               H          P                  R   \n",
       "...             ...             ...        ...                ...   \n",
       "33928             A               H          F                  R   \n",
       "33929             T               H          P                  R   \n",
       "33930             A               H          F                  R   \n",
       "33931           NaN             NaN        NaN                NaN   \n",
       "33932           NaN             NaN        NaN                NaN   \n",
       "\n",
       "      CurrentPay_master  ...              Disabilities Aug2018RespondentID  \\\n",
       "0                 44.33  ...                       NaN                 NaN   \n",
       "1                    36  ...                       NaN                 NaN   \n",
       "2                  40.3  ...                       NaN                 NaN   \n",
       "3                    50  ...                       NaN                 NaN   \n",
       "4                 50.38  ...                       NaN                 NaN   \n",
       "...                 ...  ...                       ...                 ...   \n",
       "33928             16.14  ...  Yes, I have a disability            596876.0   \n",
       "33929             12.32  ...                       NaN                 NaN   \n",
       "33930             14.21  ...                       NaN                 NaN   \n",
       "33931               NaN  ...                       NaN                 NaN   \n",
       "33932               NaN  ...                        10                 NaN   \n",
       "\n",
       "      Feb2019SurveyCode Fall(Aug)2019SurveyCode Feb2020SurveyCode  \\\n",
       "0                   NaN                     NaN               NaN   \n",
       "1                   NaN                     NaN               NaN   \n",
       "2                   NaN                     NaN               NaN   \n",
       "3                   NaN                     NaN               NaN   \n",
       "4                   NaN                     NaN               NaN   \n",
       "...                 ...                     ...               ...   \n",
       "33928     Zuercher10215           Zuercher10215     zuercher10215   \n",
       "33929      Zuniga106874            Zuniga106874               NaN   \n",
       "33930               NaN                     NaN     furtado127672   \n",
       "33931               NaN                     NaN               NaN   \n",
       "33932               NaN                     NaN               NaN   \n",
       "\n",
       "      2019surveycode      zip state_id     state_name     _merge  \n",
       "0                NaN   2719.0       MA  Massachusetts       both  \n",
       "1                NaN   2719.0       MA  Massachusetts       both  \n",
       "2                NaN   2719.0       MA  Massachusetts       both  \n",
       "3                NaN   2719.0       MA  Massachusetts       both  \n",
       "4                NaN   2719.0       MA  Massachusetts       both  \n",
       "...              ...      ...      ...            ...        ...  \n",
       "33928  zuercher10215  45833.0       OH           Ohio       both  \n",
       "33929   zuniga106874  45856.0       OH           Ohio       both  \n",
       "33930            NaN   2719.0       MA  Massachusetts       both  \n",
       "33931            NaN      NaN      NaN            NaN  left_only  \n",
       "33932            NaN      NaN      NaN            NaN  left_only  \n",
       "\n",
       "[33933 rows x 41 columns]"
      ]
     },
     "execution_count": 5,
     "metadata": {},
     "output_type": "execute_result"
    }
   ],
   "source": [
    "## Merge master data with Zipcode State data\n",
    "dfmaster2=pd.merge(dfmaster, df_state, how='left',  left_on=\"WorkZip_master\", right_on=\"zip\",  indicator=True)\n",
    "dfmaster2"
   ]
  },
  {
   "cell_type": "code",
   "execution_count": 6,
   "metadata": {},
   "outputs": [
    {
     "data": {
      "text/html": [
       "<div>\n",
       "<style scoped>\n",
       "    .dataframe tbody tr th:only-of-type {\n",
       "        vertical-align: middle;\n",
       "    }\n",
       "\n",
       "    .dataframe tbody tr th {\n",
       "        vertical-align: top;\n",
       "    }\n",
       "\n",
       "    .dataframe thead th {\n",
       "        text-align: right;\n",
       "    }\n",
       "</style>\n",
       "<table border=\"1\" class=\"dataframe\">\n",
       "  <thead>\n",
       "    <tr style=\"text-align: right;\">\n",
       "      <th></th>\n",
       "      <th>Employee ID</th>\n",
       "      <th>ManagerID</th>\n",
       "      <th>Demographics (Race)</th>\n",
       "      <th>Age_master</th>\n",
       "      <th>Female_master</th>\n",
       "      <th>Status_master</th>\n",
       "      <th>Pay type_master</th>\n",
       "      <th>WorkStatus</th>\n",
       "      <th>WorkStatus2_master</th>\n",
       "      <th>CurrentPay_master</th>\n",
       "      <th>...</th>\n",
       "      <th>DepartmentName</th>\n",
       "      <th>Disabilities</th>\n",
       "      <th>Aug2018RespondentID</th>\n",
       "      <th>Feb2019SurveyCode</th>\n",
       "      <th>Fall(Aug)2019SurveyCode</th>\n",
       "      <th>Feb2020SurveyCode</th>\n",
       "      <th>2019surveycode</th>\n",
       "      <th>zip</th>\n",
       "      <th>state_id</th>\n",
       "      <th>state_name</th>\n",
       "    </tr>\n",
       "    <tr>\n",
       "      <th>_merge</th>\n",
       "      <th></th>\n",
       "      <th></th>\n",
       "      <th></th>\n",
       "      <th></th>\n",
       "      <th></th>\n",
       "      <th></th>\n",
       "      <th></th>\n",
       "      <th></th>\n",
       "      <th></th>\n",
       "      <th></th>\n",
       "      <th></th>\n",
       "      <th></th>\n",
       "      <th></th>\n",
       "      <th></th>\n",
       "      <th></th>\n",
       "      <th></th>\n",
       "      <th></th>\n",
       "      <th></th>\n",
       "      <th></th>\n",
       "      <th></th>\n",
       "      <th></th>\n",
       "    </tr>\n",
       "  </thead>\n",
       "  <tbody>\n",
       "    <tr>\n",
       "      <th>left_only</th>\n",
       "      <td>3499</td>\n",
       "      <td>3475</td>\n",
       "      <td>2966</td>\n",
       "      <td>3499</td>\n",
       "      <td>3499</td>\n",
       "      <td>3499</td>\n",
       "      <td>3499</td>\n",
       "      <td>2862</td>\n",
       "      <td>2862</td>\n",
       "      <td>3498</td>\n",
       "      <td>...</td>\n",
       "      <td>825</td>\n",
       "      <td>825</td>\n",
       "      <td>840</td>\n",
       "      <td>993</td>\n",
       "      <td>1006</td>\n",
       "      <td>996</td>\n",
       "      <td>1089</td>\n",
       "      <td>0</td>\n",
       "      <td>0</td>\n",
       "      <td>0</td>\n",
       "    </tr>\n",
       "    <tr>\n",
       "      <th>right_only</th>\n",
       "      <td>0</td>\n",
       "      <td>0</td>\n",
       "      <td>0</td>\n",
       "      <td>0</td>\n",
       "      <td>0</td>\n",
       "      <td>0</td>\n",
       "      <td>0</td>\n",
       "      <td>0</td>\n",
       "      <td>0</td>\n",
       "      <td>0</td>\n",
       "      <td>...</td>\n",
       "      <td>0</td>\n",
       "      <td>0</td>\n",
       "      <td>0</td>\n",
       "      <td>0</td>\n",
       "      <td>0</td>\n",
       "      <td>0</td>\n",
       "      <td>0</td>\n",
       "      <td>0</td>\n",
       "      <td>0</td>\n",
       "      <td>0</td>\n",
       "    </tr>\n",
       "    <tr>\n",
       "      <th>both</th>\n",
       "      <td>30432</td>\n",
       "      <td>28782</td>\n",
       "      <td>24041</td>\n",
       "      <td>30432</td>\n",
       "      <td>30431</td>\n",
       "      <td>30432</td>\n",
       "      <td>29790</td>\n",
       "      <td>25626</td>\n",
       "      <td>25626</td>\n",
       "      <td>29728</td>\n",
       "      <td>...</td>\n",
       "      <td>7470</td>\n",
       "      <td>7470</td>\n",
       "      <td>8095</td>\n",
       "      <td>9737</td>\n",
       "      <td>9727</td>\n",
       "      <td>10000</td>\n",
       "      <td>11950</td>\n",
       "      <td>30432</td>\n",
       "      <td>30432</td>\n",
       "      <td>30432</td>\n",
       "    </tr>\n",
       "  </tbody>\n",
       "</table>\n",
       "<p>3 rows × 40 columns</p>\n",
       "</div>"
      ],
      "text/plain": [
       "            Employee ID  ManagerID  Demographics (Race)  Age_master  \\\n",
       "_merge                                                                \n",
       "left_only          3499       3475                 2966        3499   \n",
       "right_only            0          0                    0           0   \n",
       "both              30432      28782                24041       30432   \n",
       "\n",
       "            Female_master  Status_master  Pay type_master  WorkStatus  \\\n",
       "_merge                                                                  \n",
       "left_only            3499           3499             3499        2862   \n",
       "right_only              0              0                0           0   \n",
       "both                30431          30432            29790       25626   \n",
       "\n",
       "            WorkStatus2_master  CurrentPay_master  ...  DepartmentName  \\\n",
       "_merge                                             ...                   \n",
       "left_only                 2862               3498  ...             825   \n",
       "right_only                   0                  0  ...               0   \n",
       "both                     25626              29728  ...            7470   \n",
       "\n",
       "            Disabilities  Aug2018RespondentID  Feb2019SurveyCode  \\\n",
       "_merge                                                             \n",
       "left_only            825                  840                993   \n",
       "right_only             0                    0                  0   \n",
       "both                7470                 8095               9737   \n",
       "\n",
       "            Fall(Aug)2019SurveyCode  Feb2020SurveyCode  2019surveycode    zip  \\\n",
       "_merge                                                                          \n",
       "left_only                      1006                996            1089      0   \n",
       "right_only                        0                  0               0      0   \n",
       "both                           9727              10000           11950  30432   \n",
       "\n",
       "            state_id  state_name  \n",
       "_merge                            \n",
       "left_only          0           0  \n",
       "right_only         0           0  \n",
       "both           30432       30432  \n",
       "\n",
       "[3 rows x 40 columns]"
      ]
     },
     "execution_count": 6,
     "metadata": {},
     "output_type": "execute_result"
    }
   ],
   "source": [
    "dfmaster2.groupby([\"_merge\"]).count()"
   ]
  },
  {
   "cell_type": "code",
   "execution_count": 7,
   "metadata": {},
   "outputs": [],
   "source": [
    "dfmaster=dfmaster2.drop([\"_merge\"], axis=1) "
   ]
  },
  {
   "cell_type": "markdown",
   "metadata": {},
   "source": [
    "## DATA MERGING witt Employee demographics"
   ]
  },
  {
   "cell_type": "code",
   "execution_count": 8,
   "metadata": {},
   "outputs": [],
   "source": [
    "df2018=pd.merge(df1, dfmaster, how='left',  left_on=\"survey_code\", right_on=\"Aug2018RespondentID\",  indicator=True)\n",
    "df2019=pd.merge(df2, dfmaster, how='left',  left_on=\"survey_code\", right_on=\"2019surveycode\",  indicator=True)\n",
    "df2020=pd.merge(df3, dfmaster, how='left',  left_on=\"survey_code\", right_on=\"Feb2020SurveyCode\",  indicator=True)\n"
   ]
  },
  {
   "cell_type": "code",
   "execution_count": 9,
   "metadata": {},
   "outputs": [
    {
     "data": {
      "text/html": [
       "<div>\n",
       "<style scoped>\n",
       "    .dataframe tbody tr th:only-of-type {\n",
       "        vertical-align: middle;\n",
       "    }\n",
       "\n",
       "    .dataframe tbody tr th {\n",
       "        vertical-align: top;\n",
       "    }\n",
       "\n",
       "    .dataframe thead th {\n",
       "        text-align: right;\n",
       "    }\n",
       "</style>\n",
       "<table border=\"1\" class=\"dataframe\">\n",
       "  <thead>\n",
       "    <tr style=\"text-align: right;\">\n",
       "      <th></th>\n",
       "      <th>survey_code</th>\n",
       "      <th>submitted</th>\n",
       "      <th>ti_1</th>\n",
       "      <th>ti_2</th>\n",
       "      <th>ti_3</th>\n",
       "      <th>ti_4</th>\n",
       "      <th>ti_5</th>\n",
       "      <th>ti_6</th>\n",
       "      <th>ti_7</th>\n",
       "      <th>ti_8</th>\n",
       "      <th>...</th>\n",
       "      <th>DepartmentName_y</th>\n",
       "      <th>Disabilities</th>\n",
       "      <th>Aug2018RespondentID</th>\n",
       "      <th>Feb2019SurveyCode</th>\n",
       "      <th>Fall(Aug)2019SurveyCode</th>\n",
       "      <th>Feb2020SurveyCode</th>\n",
       "      <th>2019surveycode</th>\n",
       "      <th>zip</th>\n",
       "      <th>state_id</th>\n",
       "      <th>state_name</th>\n",
       "    </tr>\n",
       "    <tr>\n",
       "      <th>_merge</th>\n",
       "      <th></th>\n",
       "      <th></th>\n",
       "      <th></th>\n",
       "      <th></th>\n",
       "      <th></th>\n",
       "      <th></th>\n",
       "      <th></th>\n",
       "      <th></th>\n",
       "      <th></th>\n",
       "      <th></th>\n",
       "      <th></th>\n",
       "      <th></th>\n",
       "      <th></th>\n",
       "      <th></th>\n",
       "      <th></th>\n",
       "      <th></th>\n",
       "      <th></th>\n",
       "      <th></th>\n",
       "      <th></th>\n",
       "      <th></th>\n",
       "      <th></th>\n",
       "    </tr>\n",
       "  </thead>\n",
       "  <tbody>\n",
       "    <tr>\n",
       "      <th>left_only</th>\n",
       "      <td>396</td>\n",
       "      <td>396</td>\n",
       "      <td>396</td>\n",
       "      <td>396</td>\n",
       "      <td>396</td>\n",
       "      <td>396</td>\n",
       "      <td>396</td>\n",
       "      <td>396</td>\n",
       "      <td>396</td>\n",
       "      <td>396</td>\n",
       "      <td>...</td>\n",
       "      <td>0</td>\n",
       "      <td>0</td>\n",
       "      <td>0</td>\n",
       "      <td>0</td>\n",
       "      <td>0</td>\n",
       "      <td>0</td>\n",
       "      <td>0</td>\n",
       "      <td>0</td>\n",
       "      <td>0</td>\n",
       "      <td>0</td>\n",
       "    </tr>\n",
       "    <tr>\n",
       "      <th>right_only</th>\n",
       "      <td>0</td>\n",
       "      <td>0</td>\n",
       "      <td>0</td>\n",
       "      <td>0</td>\n",
       "      <td>0</td>\n",
       "      <td>0</td>\n",
       "      <td>0</td>\n",
       "      <td>0</td>\n",
       "      <td>0</td>\n",
       "      <td>0</td>\n",
       "      <td>...</td>\n",
       "      <td>0</td>\n",
       "      <td>0</td>\n",
       "      <td>0</td>\n",
       "      <td>0</td>\n",
       "      <td>0</td>\n",
       "      <td>0</td>\n",
       "      <td>0</td>\n",
       "      <td>0</td>\n",
       "      <td>0</td>\n",
       "      <td>0</td>\n",
       "    </tr>\n",
       "    <tr>\n",
       "      <th>both</th>\n",
       "      <td>8935</td>\n",
       "      <td>8935</td>\n",
       "      <td>8935</td>\n",
       "      <td>8935</td>\n",
       "      <td>8935</td>\n",
       "      <td>8935</td>\n",
       "      <td>8935</td>\n",
       "      <td>8935</td>\n",
       "      <td>8935</td>\n",
       "      <td>8935</td>\n",
       "      <td>...</td>\n",
       "      <td>8294</td>\n",
       "      <td>8294</td>\n",
       "      <td>8935</td>\n",
       "      <td>7323</td>\n",
       "      <td>6305</td>\n",
       "      <td>5639</td>\n",
       "      <td>7467</td>\n",
       "      <td>8095</td>\n",
       "      <td>8095</td>\n",
       "      <td>8095</td>\n",
       "    </tr>\n",
       "  </tbody>\n",
       "</table>\n",
       "<p>3 rows × 129 columns</p>\n",
       "</div>"
      ],
      "text/plain": [
       "            survey_code  submitted  ti_1  ti_2  ti_3  ti_4  ti_5  ti_6  ti_7  \\\n",
       "_merge                                                                         \n",
       "left_only           396        396   396   396   396   396   396   396   396   \n",
       "right_only            0          0     0     0     0     0     0     0     0   \n",
       "both               8935       8935  8935  8935  8935  8935  8935  8935  8935   \n",
       "\n",
       "            ti_8  ...  DepartmentName_y  Disabilities  Aug2018RespondentID  \\\n",
       "_merge            ...                                                        \n",
       "left_only    396  ...                 0             0                    0   \n",
       "right_only     0  ...                 0             0                    0   \n",
       "both        8935  ...              8294          8294                 8935   \n",
       "\n",
       "            Feb2019SurveyCode  Fall(Aug)2019SurveyCode  Feb2020SurveyCode  \\\n",
       "_merge                                                                      \n",
       "left_only                   0                        0                  0   \n",
       "right_only                  0                        0                  0   \n",
       "both                     7323                     6305               5639   \n",
       "\n",
       "            2019surveycode   zip  state_id  state_name  \n",
       "_merge                                                  \n",
       "left_only                0     0         0           0  \n",
       "right_only               0     0         0           0  \n",
       "both                  7467  8095      8095        8095  \n",
       "\n",
       "[3 rows x 129 columns]"
      ]
     },
     "execution_count": 9,
     "metadata": {},
     "output_type": "execute_result"
    }
   ],
   "source": [
    "df2018.groupby([\"_merge\"]).count()"
   ]
  },
  {
   "cell_type": "code",
   "execution_count": 10,
   "metadata": {},
   "outputs": [
    {
     "data": {
      "text/html": [
       "<div>\n",
       "<style scoped>\n",
       "    .dataframe tbody tr th:only-of-type {\n",
       "        vertical-align: middle;\n",
       "    }\n",
       "\n",
       "    .dataframe tbody tr th {\n",
       "        vertical-align: top;\n",
       "    }\n",
       "\n",
       "    .dataframe thead th {\n",
       "        text-align: right;\n",
       "    }\n",
       "</style>\n",
       "<table border=\"1\" class=\"dataframe\">\n",
       "  <thead>\n",
       "    <tr style=\"text-align: right;\">\n",
       "      <th></th>\n",
       "      <th>survey_code</th>\n",
       "      <th>submitted</th>\n",
       "      <th>ti_1</th>\n",
       "      <th>ti_2</th>\n",
       "      <th>ti_3</th>\n",
       "      <th>ti_4</th>\n",
       "      <th>ti_5</th>\n",
       "      <th>ti_6</th>\n",
       "      <th>ti_7</th>\n",
       "      <th>ti_8</th>\n",
       "      <th>...</th>\n",
       "      <th>DepartmentName_y</th>\n",
       "      <th>Disabilities</th>\n",
       "      <th>Aug2018RespondentID</th>\n",
       "      <th>Feb2019SurveyCode</th>\n",
       "      <th>Fall(Aug)2019SurveyCode</th>\n",
       "      <th>Feb2020SurveyCode</th>\n",
       "      <th>2019surveycode</th>\n",
       "      <th>zip</th>\n",
       "      <th>state_id</th>\n",
       "      <th>state_name</th>\n",
       "    </tr>\n",
       "    <tr>\n",
       "      <th>_merge</th>\n",
       "      <th></th>\n",
       "      <th></th>\n",
       "      <th></th>\n",
       "      <th></th>\n",
       "      <th></th>\n",
       "      <th></th>\n",
       "      <th></th>\n",
       "      <th></th>\n",
       "      <th></th>\n",
       "      <th></th>\n",
       "      <th></th>\n",
       "      <th></th>\n",
       "      <th></th>\n",
       "      <th></th>\n",
       "      <th></th>\n",
       "      <th></th>\n",
       "      <th></th>\n",
       "      <th></th>\n",
       "      <th></th>\n",
       "      <th></th>\n",
       "      <th></th>\n",
       "    </tr>\n",
       "  </thead>\n",
       "  <tbody>\n",
       "    <tr>\n",
       "      <th>left_only</th>\n",
       "      <td>1195</td>\n",
       "      <td>1195</td>\n",
       "      <td>1195</td>\n",
       "      <td>1195</td>\n",
       "      <td>1195</td>\n",
       "      <td>1195</td>\n",
       "      <td>1195</td>\n",
       "      <td>1195</td>\n",
       "      <td>1195</td>\n",
       "      <td>1195</td>\n",
       "      <td>...</td>\n",
       "      <td>0</td>\n",
       "      <td>0</td>\n",
       "      <td>0</td>\n",
       "      <td>0</td>\n",
       "      <td>0</td>\n",
       "      <td>0</td>\n",
       "      <td>0</td>\n",
       "      <td>0</td>\n",
       "      <td>0</td>\n",
       "      <td>0</td>\n",
       "    </tr>\n",
       "    <tr>\n",
       "      <th>right_only</th>\n",
       "      <td>0</td>\n",
       "      <td>0</td>\n",
       "      <td>0</td>\n",
       "      <td>0</td>\n",
       "      <td>0</td>\n",
       "      <td>0</td>\n",
       "      <td>0</td>\n",
       "      <td>0</td>\n",
       "      <td>0</td>\n",
       "      <td>0</td>\n",
       "      <td>...</td>\n",
       "      <td>0</td>\n",
       "      <td>0</td>\n",
       "      <td>0</td>\n",
       "      <td>0</td>\n",
       "      <td>0</td>\n",
       "      <td>0</td>\n",
       "      <td>0</td>\n",
       "      <td>0</td>\n",
       "      <td>0</td>\n",
       "      <td>0</td>\n",
       "    </tr>\n",
       "    <tr>\n",
       "      <th>both</th>\n",
       "      <td>18563</td>\n",
       "      <td>18563</td>\n",
       "      <td>18563</td>\n",
       "      <td>18563</td>\n",
       "      <td>18563</td>\n",
       "      <td>18563</td>\n",
       "      <td>18563</td>\n",
       "      <td>18563</td>\n",
       "      <td>18563</td>\n",
       "      <td>18563</td>\n",
       "      <td>...</td>\n",
       "      <td>11414</td>\n",
       "      <td>11414</td>\n",
       "      <td>12415</td>\n",
       "      <td>16715</td>\n",
       "      <td>16931</td>\n",
       "      <td>14242</td>\n",
       "      <td>18563</td>\n",
       "      <td>16915</td>\n",
       "      <td>16915</td>\n",
       "      <td>16915</td>\n",
       "    </tr>\n",
       "  </tbody>\n",
       "</table>\n",
       "<p>3 rows × 131 columns</p>\n",
       "</div>"
      ],
      "text/plain": [
       "            survey_code  submitted   ti_1   ti_2   ti_3   ti_4   ti_5   ti_6  \\\n",
       "_merge                                                                         \n",
       "left_only          1195       1195   1195   1195   1195   1195   1195   1195   \n",
       "right_only            0          0      0      0      0      0      0      0   \n",
       "both              18563      18563  18563  18563  18563  18563  18563  18563   \n",
       "\n",
       "             ti_7   ti_8  ...  DepartmentName_y  Disabilities  \\\n",
       "_merge                    ...                                   \n",
       "left_only    1195   1195  ...                 0             0   \n",
       "right_only      0      0  ...                 0             0   \n",
       "both        18563  18563  ...             11414         11414   \n",
       "\n",
       "            Aug2018RespondentID  Feb2019SurveyCode  Fall(Aug)2019SurveyCode  \\\n",
       "_merge                                                                        \n",
       "left_only                     0                  0                        0   \n",
       "right_only                    0                  0                        0   \n",
       "both                      12415              16715                    16931   \n",
       "\n",
       "            Feb2020SurveyCode  2019surveycode    zip  state_id  state_name  \n",
       "_merge                                                                      \n",
       "left_only                   0               0      0         0           0  \n",
       "right_only                  0               0      0         0           0  \n",
       "both                    14242           18563  16915     16915       16915  \n",
       "\n",
       "[3 rows x 131 columns]"
      ]
     },
     "execution_count": 10,
     "metadata": {},
     "output_type": "execute_result"
    }
   ],
   "source": [
    "df2019.groupby([\"_merge\"]).count()"
   ]
  },
  {
   "cell_type": "code",
   "execution_count": 11,
   "metadata": {},
   "outputs": [
    {
     "data": {
      "text/html": [
       "<div>\n",
       "<style scoped>\n",
       "    .dataframe tbody tr th:only-of-type {\n",
       "        vertical-align: middle;\n",
       "    }\n",
       "\n",
       "    .dataframe tbody tr th {\n",
       "        vertical-align: top;\n",
       "    }\n",
       "\n",
       "    .dataframe thead th {\n",
       "        text-align: right;\n",
       "    }\n",
       "</style>\n",
       "<table border=\"1\" class=\"dataframe\">\n",
       "  <thead>\n",
       "    <tr style=\"text-align: right;\">\n",
       "      <th></th>\n",
       "      <th>survey_code</th>\n",
       "      <th>submitted</th>\n",
       "      <th>ti_1</th>\n",
       "      <th>ti_2</th>\n",
       "      <th>ti_3</th>\n",
       "      <th>ti_4</th>\n",
       "      <th>ti_5</th>\n",
       "      <th>ti_6</th>\n",
       "      <th>ti_7</th>\n",
       "      <th>ti_8</th>\n",
       "      <th>...</th>\n",
       "      <th>DepartmentName_y</th>\n",
       "      <th>Disabilities</th>\n",
       "      <th>Aug2018RespondentID</th>\n",
       "      <th>Feb2019SurveyCode</th>\n",
       "      <th>Fall(Aug)2019SurveyCode</th>\n",
       "      <th>Feb2020SurveyCode</th>\n",
       "      <th>2019surveycode</th>\n",
       "      <th>zip</th>\n",
       "      <th>state_id</th>\n",
       "      <th>state_name</th>\n",
       "    </tr>\n",
       "    <tr>\n",
       "      <th>_merge</th>\n",
       "      <th></th>\n",
       "      <th></th>\n",
       "      <th></th>\n",
       "      <th></th>\n",
       "      <th></th>\n",
       "      <th></th>\n",
       "      <th></th>\n",
       "      <th></th>\n",
       "      <th></th>\n",
       "      <th></th>\n",
       "      <th></th>\n",
       "      <th></th>\n",
       "      <th></th>\n",
       "      <th></th>\n",
       "      <th></th>\n",
       "      <th></th>\n",
       "      <th></th>\n",
       "      <th></th>\n",
       "      <th></th>\n",
       "      <th></th>\n",
       "      <th></th>\n",
       "    </tr>\n",
       "  </thead>\n",
       "  <tbody>\n",
       "    <tr>\n",
       "      <th>left_only</th>\n",
       "      <td>633</td>\n",
       "      <td>633</td>\n",
       "      <td>633</td>\n",
       "      <td>633</td>\n",
       "      <td>633</td>\n",
       "      <td>633</td>\n",
       "      <td>633</td>\n",
       "      <td>633</td>\n",
       "      <td>633</td>\n",
       "      <td>633</td>\n",
       "      <td>...</td>\n",
       "      <td>0</td>\n",
       "      <td>0</td>\n",
       "      <td>0</td>\n",
       "      <td>0</td>\n",
       "      <td>0</td>\n",
       "      <td>0</td>\n",
       "      <td>0</td>\n",
       "      <td>0</td>\n",
       "      <td>0</td>\n",
       "      <td>0</td>\n",
       "    </tr>\n",
       "    <tr>\n",
       "      <th>right_only</th>\n",
       "      <td>0</td>\n",
       "      <td>0</td>\n",
       "      <td>0</td>\n",
       "      <td>0</td>\n",
       "      <td>0</td>\n",
       "      <td>0</td>\n",
       "      <td>0</td>\n",
       "      <td>0</td>\n",
       "      <td>0</td>\n",
       "      <td>0</td>\n",
       "      <td>...</td>\n",
       "      <td>0</td>\n",
       "      <td>0</td>\n",
       "      <td>0</td>\n",
       "      <td>0</td>\n",
       "      <td>0</td>\n",
       "      <td>0</td>\n",
       "      <td>0</td>\n",
       "      <td>0</td>\n",
       "      <td>0</td>\n",
       "      <td>0</td>\n",
       "    </tr>\n",
       "    <tr>\n",
       "      <th>both</th>\n",
       "      <td>10068</td>\n",
       "      <td>10068</td>\n",
       "      <td>10068</td>\n",
       "      <td>10068</td>\n",
       "      <td>10068</td>\n",
       "      <td>10068</td>\n",
       "      <td>10068</td>\n",
       "      <td>10068</td>\n",
       "      <td>10068</td>\n",
       "      <td>10068</td>\n",
       "      <td>...</td>\n",
       "      <td>4946</td>\n",
       "      <td>4946</td>\n",
       "      <td>5402</td>\n",
       "      <td>6827</td>\n",
       "      <td>7992</td>\n",
       "      <td>10068</td>\n",
       "      <td>8163</td>\n",
       "      <td>9154</td>\n",
       "      <td>9154</td>\n",
       "      <td>9154</td>\n",
       "    </tr>\n",
       "  </tbody>\n",
       "</table>\n",
       "<p>3 rows × 129 columns</p>\n",
       "</div>"
      ],
      "text/plain": [
       "            survey_code  submitted   ti_1   ti_2   ti_3   ti_4   ti_5   ti_6  \\\n",
       "_merge                                                                         \n",
       "left_only           633        633    633    633    633    633    633    633   \n",
       "right_only            0          0      0      0      0      0      0      0   \n",
       "both              10068      10068  10068  10068  10068  10068  10068  10068   \n",
       "\n",
       "             ti_7   ti_8  ...  DepartmentName_y  Disabilities  \\\n",
       "_merge                    ...                                   \n",
       "left_only     633    633  ...                 0             0   \n",
       "right_only      0      0  ...                 0             0   \n",
       "both        10068  10068  ...              4946          4946   \n",
       "\n",
       "            Aug2018RespondentID  Feb2019SurveyCode  Fall(Aug)2019SurveyCode  \\\n",
       "_merge                                                                        \n",
       "left_only                     0                  0                        0   \n",
       "right_only                    0                  0                        0   \n",
       "both                       5402               6827                     7992   \n",
       "\n",
       "            Feb2020SurveyCode  2019surveycode   zip  state_id  state_name  \n",
       "_merge                                                                     \n",
       "left_only                   0               0     0         0           0  \n",
       "right_only                  0               0     0         0           0  \n",
       "both                    10068            8163  9154      9154        9154  \n",
       "\n",
       "[3 rows x 129 columns]"
      ]
     },
     "execution_count": 11,
     "metadata": {},
     "output_type": "execute_result"
    }
   ],
   "source": [
    "df2020.groupby([\"_merge\"]).count()"
   ]
  },
  {
   "cell_type": "code",
   "execution_count": 13,
   "metadata": {},
   "outputs": [],
   "source": [
    "df2018=df2018.drop([\"_merge\"], axis=1)\n",
    "df2019=df2019.drop([\"_merge\"], axis=1)\n",
    "df2020=df2020.drop([\"_merge\"], axis=1)"
   ]
  },
  {
   "cell_type": "markdown",
   "metadata": {},
   "source": [
    "## DATA MERGING with Manager demographics"
   ]
  },
  {
   "cell_type": "code",
   "execution_count": 14,
   "metadata": {},
   "outputs": [],
   "source": [
    "df2018m=pd.merge(df2018, dfmng, how='left',  left_on=\"ManagerID\", right_on=\"ManagerID\", indicator=True)\n",
    "df2019m=pd.merge(df2019, dfmng, how='left',  left_on=\"ManagerID\", right_on=\"ManagerID\", indicator=True)\n",
    "df2020m=pd.merge(df2020, dfmng, how='left',  left_on=\"ManagerID\", right_on=\"ManagerID\", indicator=True)"
   ]
  },
  {
   "cell_type": "code",
   "execution_count": 15,
   "metadata": {},
   "outputs": [
    {
     "data": {
      "text/html": [
       "<div>\n",
       "<style scoped>\n",
       "    .dataframe tbody tr th:only-of-type {\n",
       "        vertical-align: middle;\n",
       "    }\n",
       "\n",
       "    .dataframe tbody tr th {\n",
       "        vertical-align: top;\n",
       "    }\n",
       "\n",
       "    .dataframe thead th {\n",
       "        text-align: right;\n",
       "    }\n",
       "</style>\n",
       "<table border=\"1\" class=\"dataframe\">\n",
       "  <thead>\n",
       "    <tr style=\"text-align: right;\">\n",
       "      <th></th>\n",
       "      <th>survey_code</th>\n",
       "      <th>submitted</th>\n",
       "      <th>ti_1</th>\n",
       "      <th>ti_2</th>\n",
       "      <th>ti_3</th>\n",
       "      <th>ti_4</th>\n",
       "      <th>ti_5</th>\n",
       "      <th>ti_6</th>\n",
       "      <th>ti_7</th>\n",
       "      <th>ti_8</th>\n",
       "      <th>...</th>\n",
       "      <th>Home Zip_m</th>\n",
       "      <th>THSHireDate_m</th>\n",
       "      <th>JobStartDate_m</th>\n",
       "      <th>manager_tenure_month</th>\n",
       "      <th>manager_tenure_month_ths</th>\n",
       "      <th>term_by_feb2020</th>\n",
       "      <th>TerminationDate_m</th>\n",
       "      <th>TerminationReason_m</th>\n",
       "      <th>DepartmentCode_m</th>\n",
       "      <th>DepartmentName_m</th>\n",
       "    </tr>\n",
       "    <tr>\n",
       "      <th>_merge</th>\n",
       "      <th></th>\n",
       "      <th></th>\n",
       "      <th></th>\n",
       "      <th></th>\n",
       "      <th></th>\n",
       "      <th></th>\n",
       "      <th></th>\n",
       "      <th></th>\n",
       "      <th></th>\n",
       "      <th></th>\n",
       "      <th></th>\n",
       "      <th></th>\n",
       "      <th></th>\n",
       "      <th></th>\n",
       "      <th></th>\n",
       "      <th></th>\n",
       "      <th></th>\n",
       "      <th></th>\n",
       "      <th></th>\n",
       "      <th></th>\n",
       "      <th></th>\n",
       "    </tr>\n",
       "  </thead>\n",
       "  <tbody>\n",
       "    <tr>\n",
       "      <th>left_only</th>\n",
       "      <td>859</td>\n",
       "      <td>859</td>\n",
       "      <td>859</td>\n",
       "      <td>859</td>\n",
       "      <td>859</td>\n",
       "      <td>859</td>\n",
       "      <td>859</td>\n",
       "      <td>859</td>\n",
       "      <td>859</td>\n",
       "      <td>859</td>\n",
       "      <td>...</td>\n",
       "      <td>0</td>\n",
       "      <td>0</td>\n",
       "      <td>0</td>\n",
       "      <td>0</td>\n",
       "      <td>0</td>\n",
       "      <td>0</td>\n",
       "      <td>0</td>\n",
       "      <td>0</td>\n",
       "      <td>0</td>\n",
       "      <td>0</td>\n",
       "    </tr>\n",
       "    <tr>\n",
       "      <th>right_only</th>\n",
       "      <td>0</td>\n",
       "      <td>0</td>\n",
       "      <td>0</td>\n",
       "      <td>0</td>\n",
       "      <td>0</td>\n",
       "      <td>0</td>\n",
       "      <td>0</td>\n",
       "      <td>0</td>\n",
       "      <td>0</td>\n",
       "      <td>0</td>\n",
       "      <td>...</td>\n",
       "      <td>0</td>\n",
       "      <td>0</td>\n",
       "      <td>0</td>\n",
       "      <td>0</td>\n",
       "      <td>0</td>\n",
       "      <td>0</td>\n",
       "      <td>0</td>\n",
       "      <td>0</td>\n",
       "      <td>0</td>\n",
       "      <td>0</td>\n",
       "    </tr>\n",
       "    <tr>\n",
       "      <th>both</th>\n",
       "      <td>8869</td>\n",
       "      <td>8869</td>\n",
       "      <td>8869</td>\n",
       "      <td>8869</td>\n",
       "      <td>8869</td>\n",
       "      <td>8869</td>\n",
       "      <td>8869</td>\n",
       "      <td>8869</td>\n",
       "      <td>8869</td>\n",
       "      <td>8869</td>\n",
       "      <td>...</td>\n",
       "      <td>8075</td>\n",
       "      <td>8075</td>\n",
       "      <td>8075</td>\n",
       "      <td>8075</td>\n",
       "      <td>8075</td>\n",
       "      <td>1266</td>\n",
       "      <td>1266</td>\n",
       "      <td>1215</td>\n",
       "      <td>5502</td>\n",
       "      <td>5502</td>\n",
       "    </tr>\n",
       "  </tbody>\n",
       "</table>\n",
       "<p>3 rows × 149 columns</p>\n",
       "</div>"
      ],
      "text/plain": [
       "            survey_code  submitted  ti_1  ti_2  ti_3  ti_4  ti_5  ti_6  ti_7  \\\n",
       "_merge                                                                         \n",
       "left_only           859        859   859   859   859   859   859   859   859   \n",
       "right_only            0          0     0     0     0     0     0     0     0   \n",
       "both               8869       8869  8869  8869  8869  8869  8869  8869  8869   \n",
       "\n",
       "            ti_8  ...  Home Zip_m  THSHireDate_m  JobStartDate_m  \\\n",
       "_merge            ...                                              \n",
       "left_only    859  ...           0              0               0   \n",
       "right_only     0  ...           0              0               0   \n",
       "both        8869  ...        8075           8075            8075   \n",
       "\n",
       "            manager_tenure_month  manager_tenure_month_ths  term_by_feb2020  \\\n",
       "_merge                                                                        \n",
       "left_only                      0                         0                0   \n",
       "right_only                     0                         0                0   \n",
       "both                        8075                      8075             1266   \n",
       "\n",
       "            TerminationDate_m  TerminationReason_m  DepartmentCode_m  \\\n",
       "_merge                                                                 \n",
       "left_only                   0                    0                 0   \n",
       "right_only                  0                    0                 0   \n",
       "both                     1266                 1215              5502   \n",
       "\n",
       "            DepartmentName_m  \n",
       "_merge                        \n",
       "left_only                  0  \n",
       "right_only                 0  \n",
       "both                    5502  \n",
       "\n",
       "[3 rows x 149 columns]"
      ]
     },
     "execution_count": 15,
     "metadata": {},
     "output_type": "execute_result"
    }
   ],
   "source": [
    "df2018m.groupby([\"_merge\"]).count()"
   ]
  },
  {
   "cell_type": "code",
   "execution_count": 16,
   "metadata": {},
   "outputs": [
    {
     "data": {
      "text/html": [
       "<div>\n",
       "<style scoped>\n",
       "    .dataframe tbody tr th:only-of-type {\n",
       "        vertical-align: middle;\n",
       "    }\n",
       "\n",
       "    .dataframe tbody tr th {\n",
       "        vertical-align: top;\n",
       "    }\n",
       "\n",
       "    .dataframe thead th {\n",
       "        text-align: right;\n",
       "    }\n",
       "</style>\n",
       "<table border=\"1\" class=\"dataframe\">\n",
       "  <thead>\n",
       "    <tr style=\"text-align: right;\">\n",
       "      <th></th>\n",
       "      <th>survey_code</th>\n",
       "      <th>submitted</th>\n",
       "      <th>ti_1</th>\n",
       "      <th>ti_2</th>\n",
       "      <th>ti_3</th>\n",
       "      <th>ti_4</th>\n",
       "      <th>ti_5</th>\n",
       "      <th>ti_6</th>\n",
       "      <th>ti_7</th>\n",
       "      <th>ti_8</th>\n",
       "      <th>...</th>\n",
       "      <th>Home Zip_m</th>\n",
       "      <th>THSHireDate_m</th>\n",
       "      <th>JobStartDate_m</th>\n",
       "      <th>manager_tenure_month</th>\n",
       "      <th>manager_tenure_month_ths</th>\n",
       "      <th>term_by_feb2020</th>\n",
       "      <th>TerminationDate_m</th>\n",
       "      <th>TerminationReason_m</th>\n",
       "      <th>DepartmentCode_m</th>\n",
       "      <th>DepartmentName_m</th>\n",
       "    </tr>\n",
       "    <tr>\n",
       "      <th>_merge</th>\n",
       "      <th></th>\n",
       "      <th></th>\n",
       "      <th></th>\n",
       "      <th></th>\n",
       "      <th></th>\n",
       "      <th></th>\n",
       "      <th></th>\n",
       "      <th></th>\n",
       "      <th></th>\n",
       "      <th></th>\n",
       "      <th></th>\n",
       "      <th></th>\n",
       "      <th></th>\n",
       "      <th></th>\n",
       "      <th></th>\n",
       "      <th></th>\n",
       "      <th></th>\n",
       "      <th></th>\n",
       "      <th></th>\n",
       "      <th></th>\n",
       "      <th></th>\n",
       "    </tr>\n",
       "  </thead>\n",
       "  <tbody>\n",
       "    <tr>\n",
       "      <th>left_only</th>\n",
       "      <td>2002</td>\n",
       "      <td>2002</td>\n",
       "      <td>2002</td>\n",
       "      <td>2002</td>\n",
       "      <td>2002</td>\n",
       "      <td>2002</td>\n",
       "      <td>2002</td>\n",
       "      <td>2002</td>\n",
       "      <td>2002</td>\n",
       "      <td>2002</td>\n",
       "      <td>...</td>\n",
       "      <td>0</td>\n",
       "      <td>0</td>\n",
       "      <td>0</td>\n",
       "      <td>0</td>\n",
       "      <td>0</td>\n",
       "      <td>0</td>\n",
       "      <td>0</td>\n",
       "      <td>0</td>\n",
       "      <td>0</td>\n",
       "      <td>0</td>\n",
       "    </tr>\n",
       "    <tr>\n",
       "      <th>right_only</th>\n",
       "      <td>0</td>\n",
       "      <td>0</td>\n",
       "      <td>0</td>\n",
       "      <td>0</td>\n",
       "      <td>0</td>\n",
       "      <td>0</td>\n",
       "      <td>0</td>\n",
       "      <td>0</td>\n",
       "      <td>0</td>\n",
       "      <td>0</td>\n",
       "      <td>...</td>\n",
       "      <td>0</td>\n",
       "      <td>0</td>\n",
       "      <td>0</td>\n",
       "      <td>0</td>\n",
       "      <td>0</td>\n",
       "      <td>0</td>\n",
       "      <td>0</td>\n",
       "      <td>0</td>\n",
       "      <td>0</td>\n",
       "      <td>0</td>\n",
       "    </tr>\n",
       "    <tr>\n",
       "      <th>both</th>\n",
       "      <td>18951</td>\n",
       "      <td>18951</td>\n",
       "      <td>18951</td>\n",
       "      <td>18951</td>\n",
       "      <td>18951</td>\n",
       "      <td>18951</td>\n",
       "      <td>18951</td>\n",
       "      <td>18951</td>\n",
       "      <td>18951</td>\n",
       "      <td>18951</td>\n",
       "      <td>...</td>\n",
       "      <td>16561</td>\n",
       "      <td>16561</td>\n",
       "      <td>16561</td>\n",
       "      <td>16561</td>\n",
       "      <td>16561</td>\n",
       "      <td>1729</td>\n",
       "      <td>1729</td>\n",
       "      <td>1647</td>\n",
       "      <td>11024</td>\n",
       "      <td>11024</td>\n",
       "    </tr>\n",
       "  </tbody>\n",
       "</table>\n",
       "<p>3 rows × 151 columns</p>\n",
       "</div>"
      ],
      "text/plain": [
       "            survey_code  submitted   ti_1   ti_2   ti_3   ti_4   ti_5   ti_6  \\\n",
       "_merge                                                                         \n",
       "left_only          2002       2002   2002   2002   2002   2002   2002   2002   \n",
       "right_only            0          0      0      0      0      0      0      0   \n",
       "both              18951      18951  18951  18951  18951  18951  18951  18951   \n",
       "\n",
       "             ti_7   ti_8  ...  Home Zip_m  THSHireDate_m  JobStartDate_m  \\\n",
       "_merge                    ...                                              \n",
       "left_only    2002   2002  ...           0              0               0   \n",
       "right_only      0      0  ...           0              0               0   \n",
       "both        18951  18951  ...       16561          16561           16561   \n",
       "\n",
       "            manager_tenure_month  manager_tenure_month_ths  term_by_feb2020  \\\n",
       "_merge                                                                        \n",
       "left_only                      0                         0                0   \n",
       "right_only                     0                         0                0   \n",
       "both                       16561                     16561             1729   \n",
       "\n",
       "            TerminationDate_m  TerminationReason_m  DepartmentCode_m  \\\n",
       "_merge                                                                 \n",
       "left_only                   0                    0                 0   \n",
       "right_only                  0                    0                 0   \n",
       "both                     1729                 1647             11024   \n",
       "\n",
       "            DepartmentName_m  \n",
       "_merge                        \n",
       "left_only                  0  \n",
       "right_only                 0  \n",
       "both                   11024  \n",
       "\n",
       "[3 rows x 151 columns]"
      ]
     },
     "execution_count": 16,
     "metadata": {},
     "output_type": "execute_result"
    }
   ],
   "source": [
    "df2019m.groupby([\"_merge\"]).count()"
   ]
  },
  {
   "cell_type": "code",
   "execution_count": 17,
   "metadata": {},
   "outputs": [
    {
     "data": {
      "text/html": [
       "<div>\n",
       "<style scoped>\n",
       "    .dataframe tbody tr th:only-of-type {\n",
       "        vertical-align: middle;\n",
       "    }\n",
       "\n",
       "    .dataframe tbody tr th {\n",
       "        vertical-align: top;\n",
       "    }\n",
       "\n",
       "    .dataframe thead th {\n",
       "        text-align: right;\n",
       "    }\n",
       "</style>\n",
       "<table border=\"1\" class=\"dataframe\">\n",
       "  <thead>\n",
       "    <tr style=\"text-align: right;\">\n",
       "      <th></th>\n",
       "      <th>survey_code</th>\n",
       "      <th>submitted</th>\n",
       "      <th>ti_1</th>\n",
       "      <th>ti_2</th>\n",
       "      <th>ti_3</th>\n",
       "      <th>ti_4</th>\n",
       "      <th>ti_5</th>\n",
       "      <th>ti_6</th>\n",
       "      <th>ti_7</th>\n",
       "      <th>ti_8</th>\n",
       "      <th>...</th>\n",
       "      <th>Home Zip_m</th>\n",
       "      <th>THSHireDate_m</th>\n",
       "      <th>JobStartDate_m</th>\n",
       "      <th>manager_tenure_month</th>\n",
       "      <th>manager_tenure_month_ths</th>\n",
       "      <th>term_by_feb2020</th>\n",
       "      <th>TerminationDate_m</th>\n",
       "      <th>TerminationReason_m</th>\n",
       "      <th>DepartmentCode_m</th>\n",
       "      <th>DepartmentName_m</th>\n",
       "    </tr>\n",
       "    <tr>\n",
       "      <th>_merge</th>\n",
       "      <th></th>\n",
       "      <th></th>\n",
       "      <th></th>\n",
       "      <th></th>\n",
       "      <th></th>\n",
       "      <th></th>\n",
       "      <th></th>\n",
       "      <th></th>\n",
       "      <th></th>\n",
       "      <th></th>\n",
       "      <th></th>\n",
       "      <th></th>\n",
       "      <th></th>\n",
       "      <th></th>\n",
       "      <th></th>\n",
       "      <th></th>\n",
       "      <th></th>\n",
       "      <th></th>\n",
       "      <th></th>\n",
       "      <th></th>\n",
       "      <th></th>\n",
       "    </tr>\n",
       "  </thead>\n",
       "  <tbody>\n",
       "    <tr>\n",
       "      <th>left_only</th>\n",
       "      <td>1167</td>\n",
       "      <td>1167</td>\n",
       "      <td>1167</td>\n",
       "      <td>1167</td>\n",
       "      <td>1167</td>\n",
       "      <td>1167</td>\n",
       "      <td>1167</td>\n",
       "      <td>1167</td>\n",
       "      <td>1167</td>\n",
       "      <td>1167</td>\n",
       "      <td>...</td>\n",
       "      <td>0</td>\n",
       "      <td>0</td>\n",
       "      <td>0</td>\n",
       "      <td>0</td>\n",
       "      <td>0</td>\n",
       "      <td>0</td>\n",
       "      <td>0</td>\n",
       "      <td>0</td>\n",
       "      <td>0</td>\n",
       "      <td>0</td>\n",
       "    </tr>\n",
       "    <tr>\n",
       "      <th>right_only</th>\n",
       "      <td>0</td>\n",
       "      <td>0</td>\n",
       "      <td>0</td>\n",
       "      <td>0</td>\n",
       "      <td>0</td>\n",
       "      <td>0</td>\n",
       "      <td>0</td>\n",
       "      <td>0</td>\n",
       "      <td>0</td>\n",
       "      <td>0</td>\n",
       "      <td>...</td>\n",
       "      <td>0</td>\n",
       "      <td>0</td>\n",
       "      <td>0</td>\n",
       "      <td>0</td>\n",
       "      <td>0</td>\n",
       "      <td>0</td>\n",
       "      <td>0</td>\n",
       "      <td>0</td>\n",
       "      <td>0</td>\n",
       "      <td>0</td>\n",
       "    </tr>\n",
       "    <tr>\n",
       "      <th>both</th>\n",
       "      <td>10167</td>\n",
       "      <td>10167</td>\n",
       "      <td>10167</td>\n",
       "      <td>10167</td>\n",
       "      <td>10167</td>\n",
       "      <td>10167</td>\n",
       "      <td>10167</td>\n",
       "      <td>10167</td>\n",
       "      <td>10167</td>\n",
       "      <td>10167</td>\n",
       "      <td>...</td>\n",
       "      <td>8901</td>\n",
       "      <td>8901</td>\n",
       "      <td>8901</td>\n",
       "      <td>8901</td>\n",
       "      <td>8901</td>\n",
       "      <td>593</td>\n",
       "      <td>593</td>\n",
       "      <td>562</td>\n",
       "      <td>5701</td>\n",
       "      <td>5701</td>\n",
       "    </tr>\n",
       "  </tbody>\n",
       "</table>\n",
       "<p>3 rows × 149 columns</p>\n",
       "</div>"
      ],
      "text/plain": [
       "            survey_code  submitted   ti_1   ti_2   ti_3   ti_4   ti_5   ti_6  \\\n",
       "_merge                                                                         \n",
       "left_only          1167       1167   1167   1167   1167   1167   1167   1167   \n",
       "right_only            0          0      0      0      0      0      0      0   \n",
       "both              10167      10167  10167  10167  10167  10167  10167  10167   \n",
       "\n",
       "             ti_7   ti_8  ...  Home Zip_m  THSHireDate_m  JobStartDate_m  \\\n",
       "_merge                    ...                                              \n",
       "left_only    1167   1167  ...           0              0               0   \n",
       "right_only      0      0  ...           0              0               0   \n",
       "both        10167  10167  ...        8901           8901            8901   \n",
       "\n",
       "            manager_tenure_month  manager_tenure_month_ths  term_by_feb2020  \\\n",
       "_merge                                                                        \n",
       "left_only                      0                         0                0   \n",
       "right_only                     0                         0                0   \n",
       "both                        8901                      8901              593   \n",
       "\n",
       "            TerminationDate_m  TerminationReason_m  DepartmentCode_m  \\\n",
       "_merge                                                                 \n",
       "left_only                   0                    0                 0   \n",
       "right_only                  0                    0                 0   \n",
       "both                      593                  562              5701   \n",
       "\n",
       "            DepartmentName_m  \n",
       "_merge                        \n",
       "left_only                  0  \n",
       "right_only                 0  \n",
       "both                    5701  \n",
       "\n",
       "[3 rows x 149 columns]"
      ]
     },
     "execution_count": 17,
     "metadata": {},
     "output_type": "execute_result"
    }
   ],
   "source": [
    "df2020m.groupby([\"_merge\"]).count()"
   ]
  },
  {
   "cell_type": "code",
   "execution_count": 18,
   "metadata": {},
   "outputs": [
    {
     "data": {
      "text/plain": [
       "(9728, 150)"
      ]
     },
     "execution_count": 18,
     "metadata": {},
     "output_type": "execute_result"
    }
   ],
   "source": [
    "df2018m.shape"
   ]
  },
  {
   "cell_type": "code",
   "execution_count": 19,
   "metadata": {},
   "outputs": [
    {
     "data": {
      "text/plain": [
       "(20953, 152)"
      ]
     },
     "execution_count": 19,
     "metadata": {},
     "output_type": "execute_result"
    }
   ],
   "source": [
    "df2019m.shape"
   ]
  },
  {
   "cell_type": "code",
   "execution_count": 20,
   "metadata": {},
   "outputs": [
    {
     "data": {
      "text/plain": [
       "(11334, 150)"
      ]
     },
     "execution_count": 20,
     "metadata": {},
     "output_type": "execute_result"
    }
   ],
   "source": [
    "df2020m.shape"
   ]
  },
  {
   "cell_type": "code",
   "execution_count": 21,
   "metadata": {},
   "outputs": [],
   "source": [
    "data_all=pd.concat([df2018m, df2019m, df2020m])  ## put all survey together\n",
    "data_all=data_all[data_all[\"_merge\"]==\"both\"] ## save only matched columns"
   ]
  },
  {
   "cell_type": "markdown",
   "metadata": {},
   "source": [
    "## FEATURE Normalizing"
   ]
  },
  {
   "cell_type": "code",
   "execution_count": 22,
   "metadata": {},
   "outputs": [],
   "source": [
    "# Turn Current Pay into float\n",
    "data_all['CurrentPay_m']=(pd.to_numeric(data_all['CurrentPay_m'], errors='coerce'))\n",
    "data_all['CurrentPay_master']=(pd.to_numeric(data_all['CurrentPay_master'], errors='coerce'))\n",
    "\n",
    "# Replace missing values with median (if skewed) and mean value\n",
    "data_all['CurrentPay_m'].fillna(data_all['CurrentPay_m'].mean(), inplace=True)\n",
    "data_all['CurrentPay_master'].fillna(data_all['CurrentPay_master'].median(), inplace=True)\n",
    "\n"
   ]
  },
  {
   "cell_type": "markdown",
   "metadata": {},
   "source": [
    "### Check the distribution"
   ]
  },
  {
   "cell_type": "code",
   "execution_count": 23,
   "metadata": {},
   "outputs": [
    {
     "data": {
      "text/plain": [
       "<seaborn.axisgrid.FacetGrid at 0x7ff32d967a90>"
      ]
     },
     "execution_count": 23,
     "metadata": {},
     "output_type": "execute_result"
    },
    {
     "data": {
      "image/png": "[encoded data removed]",
      "text/plain": [
       "<Figure size 360x360 with 1 Axes>"
      ]
     },
     "metadata": {
      "needs_background": "light"
     },
     "output_type": "display_data"
    },
    {
     "data": {
      "image/png": "[encoded data removed]",
      "text/plain": [
       "<Figure size 360x360 with 1 Axes>"
      ]
     },
     "metadata": {
      "needs_background": "light"
     },
     "output_type": "display_data"
    }
   ],
   "source": [
    "sb.displot(data_all['CurrentPay_m'])\n",
    "sb.displot(data_all['CurrentPay_master'])"
   ]
  },
  {
   "cell_type": "code",
   "execution_count": 24,
   "metadata": {},
   "outputs": [],
   "source": [
    "#data_all['CurrentPay_m_logged']=np.log(data_all['CurrentPay_m'])\n",
    "data_all['CurrentPay_master_logged']=np.log(data_all['CurrentPay_master'])"
   ]
  },
  {
   "cell_type": "code",
   "execution_count": 25,
   "metadata": {},
   "outputs": [
    {
     "data": {
      "text/plain": [
       "<seaborn.axisgrid.FacetGrid at 0x7ff32dd429d0>"
      ]
     },
     "execution_count": 25,
     "metadata": {},
     "output_type": "execute_result"
    },
    {
     "data": {
      "image/png": "[encoded data removed]",
      "text/plain": [
       "<Figure size 360x360 with 1 Axes>"
      ]
     },
     "metadata": {
      "needs_background": "light"
     },
     "output_type": "display_data"
    },
    {
     "data": {
      "image/png": "[encoded data removed]",
      "text/plain": [
       "<Figure size 360x360 with 1 Axes>"
      ]
     },
     "metadata": {
      "needs_background": "light"
     },
     "output_type": "display_data"
    },
    {
     "data": {
      "image/png": "[encoded data removed]",
      "text/plain": [
       "<Figure size 360x360 with 1 Axes>"
      ]
     },
     "metadata": {
      "needs_background": "light"
     },
     "output_type": "display_data"
    }
   ],
   "source": [
    "# Transform Age and Tenure to float objects\n",
    "data_all['Age_m']=(pd.to_numeric(data_all['Age_m'], errors='coerce'))\n",
    "data_all['manager_tenure_month']=(pd.to_numeric(data_all['manager_tenure_month'], errors='coerce'))\n",
    "data_all['manager_tenure_month_ths']=(pd.to_numeric(data_all['manager_tenure_month_ths'], errors='coerce'))\n",
    "\n",
    "# Examine distribution\n",
    "sb.displot(data_all['Age_m'])\n",
    "sb.displot(data_all['manager_tenure_month'])\n",
    "sb.displot(data_all['manager_tenure_month_ths'])"
   ]
  },
  {
   "cell_type": "markdown",
   "metadata": {},
   "source": [
    "## Tenure is very positively sckewed. Fill missing values with median and log transform"
   ]
  },
  {
   "cell_type": "code",
   "execution_count": 26,
   "metadata": {},
   "outputs": [
    {
     "data": {
      "text/plain": [
       "<seaborn.axisgrid.FacetGrid at 0x7ff32e3c1850>"
      ]
     },
     "execution_count": 26,
     "metadata": {},
     "output_type": "execute_result"
    },
    {
     "data": {
      "image/png": "[encoded data removed]",
      "text/plain": [
       "<Figure size 360x360 with 1 Axes>"
      ]
     },
     "metadata": {
      "needs_background": "light"
     },
     "output_type": "display_data"
    },
    {
     "data": {
      "image/png": "[encoded data removed]",
      "text/plain": [
       "<Figure size 360x360 with 1 Axes>"
      ]
     },
     "metadata": {
      "needs_background": "light"
     },
     "output_type": "display_data"
    }
   ],
   "source": [
    "# fill in missing values for Age and Tenure\n",
    "data_all['Age_m'].fillna(data_all['Age_m'].mean(), inplace=True)\n",
    "data_all['manager_tenure_month'].fillna(data_all['manager_tenure_month'].median(), inplace=True)\n",
    "data_all['manager_tenure_month_ths'].fillna(data_all['manager_tenure_month_ths'].median(), inplace=True)\n",
    "\n",
    "# Log transfor tenure. (+1 to avoid dealing with zero log)\n",
    "data_all['tenure_logged']=np.log(data_all['manager_tenure_month']+1)\n",
    "data_all['tenure_logged_ths']=np.log(data_all['manager_tenure_month_ths']+1)\n",
    "sb.displot(data_all['tenure_logged'])\n",
    "sb.displot(data_all['tenure_logged_ths'])"
   ]
  },
  {
   "cell_type": "code",
   "execution_count": null,
   "metadata": {},
   "outputs": [],
   "source": []
  },
  {
   "cell_type": "code",
   "execution_count": 27,
   "metadata": {},
   "outputs": [],
   "source": [
    "# Check location of missing values\n",
    "data_all.loc[(data_all['Female_m'].isnull()) | (data_all['Race_m'].isnull())]\n",
    "\n",
    "# Drop rows with missing Female and Race values\n",
    "data_all2 = data_all[pd.notnull(data_all['Female_m'])]\n",
    "data_all2 = data_all2[pd.notnull(data_all2['Race_m'])]"
   ]
  },
  {
   "cell_type": "markdown",
   "metadata": {},
   "source": [
    "## Managers only with 5 and more reports"
   ]
  },
  {
   "cell_type": "code",
   "execution_count": 28,
   "metadata": {},
   "outputs": [],
   "source": [
    "# Aggregate for manager and each survey\n",
    "count_mng=data_all2.groupby(['ManagerID', 'SurveyYear', 'SurveyMonth']).count()\n",
    "\n",
    "# Drop those that have less than 5 reports\n",
    "count_mng=count_mng[count_mng[\"survey_code\"]>=5]\n",
    "\n",
    "index1 = pd.MultiIndex.from_arrays([data_all2[col] for col in ['ManagerID', 'SurveyYear', 'SurveyMonth']])\n",
    "\n",
    "# Keep only managers that have 5+ reports in the main dataset\n",
    "data_all3=data_all2.loc[index1.isin(count_mng.index)]"
   ]
  },
  {
   "cell_type": "code",
   "execution_count": 29,
   "metadata": {},
   "outputs": [],
   "source": [
    "# Create dataset of questions\n",
    "quest60=data_all3.iloc[:, 2:62]\n",
    "\n",
    "y_quest=data_all3[[\"ti_1\", \"ti_2\", \"ti_3\", \"ti_4\", \"ti_5\", \"ti_8\", \"ti_10\", \"ti_11\", \"ti_12\", \"ti_16\", \"ti_17\", \"ti_23\",\n",
    "                    \"ti_25\", \"ti_26\", \"ti_27\", \"ti_28\", \"ti_29\", \"ti_30\", \"ti_32\", \"ti_33\", \"ti_35\", \"ti_36\", \"ti_37\", \"ti_38\",\n",
    "                \"ti_40\", \"ti_41\", \"ti_42\", \"ti_44\", \"ti_45\", \"ti_48\", \"ti_49\", \"ti_50\", \"ti_51\", \"ti_52\", \"ti_53\", \"ti_55\", \"ti_56\", \n",
    "                \"ti_57\", \"ti_58\", \"ti_59\", \"ti_60\"]]"
   ]
  },
  {
   "cell_type": "code",
   "execution_count": 30,
   "metadata": {},
   "outputs": [
    {
     "name": "stderr",
     "output_type": "stream",
     "text": [
      "<ipython-input-30-0cefe09ecdd1>:2: UserWarning: Pandas doesn't allow columns to be created via a new attribute name - see https://pandas.pydata.org/pandas-docs/stable/indexing.html#attribute-access\n",
      "  data_all3.Location = data_all3['LocationName_y'].map(str.strip)\n"
     ]
    }
   ],
   "source": [
    "## Create dictionary of Locations\n",
    "data_all3.Location = data_all3['LocationName_y'].map(str.strip)\n",
    "all_locations = data_all3.Location.unique()\n",
    "locations = len(all_locations)\n",
    "location_lookup = dict(zip(all_locations, range(locations)))\n",
    "\n"
   ]
  },
  {
   "cell_type": "code",
   "execution_count": 31,
   "metadata": {},
   "outputs": [
    {
     "data": {
      "text/plain": [
       "<AxesSubplot:>"
      ]
     },
     "execution_count": 31,
     "metadata": {},
     "output_type": "execute_result"
    },
    {
     "data": {
      "image/png": "[encoded data removed]",
      "text/plain": [
       "<Figure size 432x288 with 1 Axes>"
      ]
     },
     "metadata": {
      "needs_background": "light"
     },
     "output_type": "display_data"
    }
   ],
   "source": [
    "# Check the skewness of survey responses\n",
    "skewv=quest60.skew(axis=0)\n",
    "sb.scatterplot(data=skewv)\n",
    "\n",
    "# All questions are negatively skewed. "
   ]
  },
  {
   "cell_type": "markdown",
   "metadata": {},
   "source": [
    "# PART 1. Creating input variables"
   ]
  },
  {
   "cell_type": "markdown",
   "metadata": {},
   "source": [
    "## GROUP CENTERING DATA"
   ]
  },
  {
   "cell_type": "code",
   "execution_count": null,
   "metadata": {},
   "outputs": [],
   "source": [
    "data_all3['Survey_no'] = 0\n",
    "data_all3.loc[(data_all3['SurveyYear']==2018) & (data_all3['SurveyMonth']==8),'Survey_no'] = 1\n",
    "data_all3.loc[(data_all3['SurveyYear']==2019) & (data_all3['SurveyMonth']==3),'Survey_no'] = 2\n",
    "data_all3.loc[(data_all3['SurveyYear']==2019) & (data_all3['SurveyMonth']==8),'Survey_no'] = 3\n",
    "data_all3.loc[(data_all3['SurveyYear']==2020) & (data_all3['SurveyMonth']==2),'Survey_no'] = 4"
   ]
  },
  {
   "cell_type": "code",
   "execution_count": 33,
   "metadata": {},
   "outputs": [],
   "source": [
    "# Group Centering all 60 questions\n",
    "temp_data=data_all3[['ManagerID','Survey_no']]\n",
    "\n",
    "temp_data=pd.concat([temp_data, quest60], axis=1)\n",
    "means = temp_data.groupby(['ManagerID', 'Survey_no']).transform('mean')\n",
    "temp_data2 = temp_data - means\n"
   ]
  },
  {
   "cell_type": "code",
   "execution_count": 34,
   "metadata": {},
   "outputs": [
    {
     "data": {
      "text/plain": [
       "Index(['ti_1', 'ti_10', 'ti_11', 'ti_12', 'ti_13', 'ti_14', 'ti_15', 'ti_16',\n",
       "       'ti_17', 'ti_18', 'ti_19', 'ti_2', 'ti_20', 'ti_21', 'ti_22', 'ti_23',\n",
       "       'ti_24', 'ti_25', 'ti_26', 'ti_27', 'ti_28', 'ti_29', 'ti_3', 'ti_30',\n",
       "       'ti_31', 'ti_32', 'ti_33', 'ti_34', 'ti_35', 'ti_36', 'ti_37', 'ti_38',\n",
       "       'ti_39', 'ti_4', 'ti_40', 'ti_41', 'ti_42', 'ti_43', 'ti_44', 'ti_45',\n",
       "       'ti_46', 'ti_47', 'ti_48', 'ti_49', 'ti_5', 'ti_50', 'ti_51', 'ti_52',\n",
       "       'ti_53', 'ti_54', 'ti_55', 'ti_56', 'ti_57', 'ti_58', 'ti_59', 'ti_6',\n",
       "       'ti_60', 'ti_7', 'ti_8', 'ti_9'],\n",
       "      dtype='object')"
      ]
     },
     "execution_count": 34,
     "metadata": {},
     "output_type": "execute_result"
    }
   ],
   "source": [
    "quest60_2=temp_data2.iloc[:, 2:62]\n",
    "quest60_2.columns"
   ]
  },
  {
   "cell_type": "code",
   "execution_count": 35,
   "metadata": {},
   "outputs": [
    {
     "data": {
      "text/plain": [
       "count    2.885700e+04\n",
       "mean    -1.822094e-17\n",
       "std      9.974247e-01\n",
       "min     -4.681818e+00\n",
       "25%     -4.545455e-01\n",
       "50%      2.307692e-01\n",
       "75%      6.551724e-01\n",
       "max      3.200000e+00\n",
       "Name: ti_47, dtype: float64"
      ]
     },
     "execution_count": 35,
     "metadata": {},
     "output_type": "execute_result"
    },
    {
     "data": {
      "image/png": "[encoded data removed]",
      "text/plain": [
       "<Figure size 360x360 with 1 Axes>"
      ]
     },
     "metadata": {
      "needs_background": "light"
     },
     "output_type": "display_data"
    }
   ],
   "source": [
    "# Plot for question 6\n",
    "sb.displot(quest60_2['ti_47'])  # average\n",
    "quest60_2['ti_47'].describe()"
   ]
  },
  {
   "cell_type": "code",
   "execution_count": 36,
   "metadata": {},
   "outputs": [],
   "source": [
    "x_man_quest=quest60_2[[\"ti_6\", \"ti_7\", \"ti_9\", \"ti_13\", \"ti_14\", \"ti_15\", \"ti_18\", \"ti_19\", \"ti_20\", \"ti_21\", \"ti_22\", \"ti_24\", \"ti_31\",\n",
    "                    \"ti_34\", \"ti_39\", \"ti_43\", \"ti_46\", \"ti_47\", \"ti_54\"]]\n"
   ]
  },
  {
   "cell_type": "markdown",
   "metadata": {},
   "source": [
    "# PART 2. Creating Y variable"
   ]
  },
  {
   "cell_type": "markdown",
   "metadata": {},
   "source": [
    "## Factor analysis with 41 survey responses"
   ]
  },
  {
   "cell_type": "code",
   "execution_count": 37,
   "metadata": {},
   "outputs": [
    {
     "data": {
      "text/plain": [
       "(1006828.1470279451, 0.0)"
      ]
     },
     "execution_count": 37,
     "metadata": {},
     "output_type": "execute_result"
    }
   ],
   "source": [
    "## Factor Adequcy test\n",
    "from factor_analyzer.factor_analyzer import calculate_bartlett_sphericity\n",
    "chi_square_value,p_value=calculate_bartlett_sphericity(y_quest)\n",
    "chi_square_value, p_value"
   ]
  },
  {
   "cell_type": "code",
   "execution_count": 38,
   "metadata": {},
   "outputs": [
    {
     "name": "stderr",
     "output_type": "stream",
     "text": [
      "/Users/Ulkar/opt/anaconda3/envs/insight/lib/python3.8/site-packages/factor_analyzer/utils.py:248: UserWarning: The inverse of the variance-covariance matrix was calculated using the Moore-Penrose generalized matrix inversion, due to its determinant being at or very close to zero.\n",
      "  warnings.warn('The inverse of the variance-covariance matrix '\n"
     ]
    },
    {
     "data": {
      "text/plain": [
       "0.9914144142733702"
      ]
     },
     "execution_count": 38,
     "metadata": {},
     "output_type": "execute_result"
    }
   ],
   "source": [
    "# KMO test\n",
    "from factor_analyzer.factor_analyzer import calculate_kmo\n",
    "kmo_all,kmo_model=calculate_kmo(y_quest)\n",
    "kmo_model\n",
    "#0.99  This value indicates that you can proceed with your planned factor analysis."
   ]
  },
  {
   "cell_type": "code",
   "execution_count": 39,
   "metadata": {},
   "outputs": [
    {
     "name": "stdout",
     "output_type": "stream",
     "text": [
      "[23.75742228  1.37417903  1.02928488  0.86178106  0.77822821  0.75070015\n",
      "  0.63823722  0.58127127  0.54142308  0.51377016  0.49476705  0.47265638\n",
      "  0.45316951  0.44199174  0.42435609  0.41513377  0.40015291  0.38371694\n",
      "  0.37530905  0.36858936  0.36297212  0.34938978  0.3432485   0.33490774\n",
      "  0.32515495  0.32007077  0.31036618  0.30713698  0.30267488  0.29546396\n",
      "  0.28646453  0.2854251   0.27652523  0.26698189  0.24643766  0.24302491\n",
      "  0.23075291  0.22909111  0.22053377  0.2055564   0.20168049]\n"
     ]
    },
    {
     "data": {
      "image/png": "[encoded data removed]",
      "text/plain": [
       "<Figure size 432x288 with 1 Axes>"
      ]
     },
     "metadata": {
      "needs_background": "light"
     },
     "output_type": "display_data"
    }
   ],
   "source": [
    "# Create factor analysis object and perform factor analysis\n",
    "fa = FactorAnalyzer(rotation=None, n_factors=20)\n",
    "fa.fit(y_quest)\n",
    "ev, v = fa.get_eigenvalues()  # for eigen values\n",
    "plt.scatter(range(1,y_quest.shape[1]+1),ev)\n",
    "print(ev)  # only three factors arabove 1, so run analysis with 3 factors and get the factor loadings.  \n"
   ]
  },
  {
   "cell_type": "code",
   "execution_count": 40,
   "metadata": {},
   "outputs": [],
   "source": [
    "# factor analysis with three factors\n",
    "fa_y = FactorAnalyzer(n_factors=3, rotation='varimax')\n",
    "y_quest_transformed=fa_y.fit_transform(y_quest)\n",
    "\n",
    "#Create the factors\n",
    "# Depends on which questions load into which factors\n",
    "# Many iterations showed that question loadings do not change much\n",
    "#factor1 = quest60[[\"ti_3\", \"ti_4\", \"ti_5\", \"ti_10\", \"ti_12\", \"ti_26\", \"ti_28\", \"ti_29\", \"ti_40\"]]\n",
    "happiness_f = y_quest[[\"ti_37\", \"ti_48\", \"ti_51\", \"ti_53\", \"ti_55\", \"ti_60\" ]]\n",
    "#fair_treatment = quest60[[\"ti_27\",\"ti_32\", \"ti_36\", \"ti_42\"]]\n",
    "happiness_y=y_quest_transformed[:, 1]\n",
    "\n",
    "#loads = fa_y.loadings_\n",
    "#print(loads)"
   ]
  },
  {
   "cell_type": "code",
   "execution_count": 41,
   "metadata": {},
   "outputs": [
    {
     "data": {
      "text/plain": [
       "(array([10.58262935,  8.44380655,  6.03186785]),\n",
       " array([0.25811291, 0.2059465 , 0.14711873]),\n",
       " array([0.25811291, 0.46405941, 0.61117814]))"
      ]
     },
     "execution_count": 41,
     "metadata": {},
     "output_type": "execute_result"
    }
   ],
   "source": [
    "fa_y.get_factor_variance()"
   ]
  },
  {
   "cell_type": "code",
   "execution_count": 43,
   "metadata": {},
   "outputs": [
    {
     "name": "stderr",
     "output_type": "stream",
     "text": [
      "<ipython-input-43-40e905664eee>:1: SettingWithCopyWarning: \n",
      "A value is trying to be set on a copy of a slice from a DataFrame.\n",
      "Try using .loc[row_indexer,col_indexer] = value instead\n",
      "\n",
      "See the caveats in the documentation: https://pandas.pydata.org/pandas-docs/stable/user_guide/indexing.html#returning-a-view-versus-a-copy\n",
      "  data_all3['happiness_y']=happiness_y\n"
     ]
    }
   ],
   "source": [
    "data_all3['happiness_y']=happiness_y"
   ]
  },
  {
   "cell_type": "markdown",
   "metadata": {},
   "source": [
    "## Check distribution of Redpondent level Happiness Index"
   ]
  },
  {
   "cell_type": "code",
   "execution_count": 46,
   "metadata": {},
   "outputs": [
    {
     "data": {
      "text/plain": [
       "<seaborn.axisgrid.FacetGrid at 0x7ff32e2f66d0>"
      ]
     },
     "execution_count": 46,
     "metadata": {},
     "output_type": "execute_result"
    },
    {
     "data": {
      "image/png": "[encoded data removed]",
      "text/plain": [
       "<Figure size 360x360 with 1 Axes>"
      ]
     },
     "metadata": {
      "needs_background": "light"
     },
     "output_type": "display_data"
    }
   ],
   "source": [
    "sb.displot(data_all3['happiness_y'])"
   ]
  },
  {
   "cell_type": "markdown",
   "metadata": {},
   "source": [
    "# Part3:  Create Manager level demographic variables dataset"
   ]
  },
  {
   "cell_type": "code",
   "execution_count": 45,
   "metadata": {},
   "outputs": [],
   "source": [
    "mng_demog=data_all3[[\"ManagerID\", \"Survey_no\", \"Location Name_m\", \"state_id\", \"Status_m\", \"Work Status_m\", \n",
    "                     \"Female_m\",\"Age_m\",  \"tenure_logged\", 'tenure_logged_ths', \"CurrentPay_m\", ]]\n",
    "\n",
    "mng_demog_df=pd.DataFrame(mng_demog)\n",
    "mng_demog_df.reset_index(inplace=True)\n",
    "\n",
    "#mng_demog_df.to_csv(\"manager_demog.csv\", index=False)"
   ]
  },
  {
   "cell_type": "markdown",
   "metadata": {},
   "source": [
    "## Check distribution of Manager level demographics"
   ]
  },
  {
   "cell_type": "code",
   "execution_count": 50,
   "metadata": {},
   "outputs": [
    {
     "data": {
      "text/plain": [
       "<seaborn.axisgrid.FacetGrid at 0x7ff33b71d070>"
      ]
     },
     "execution_count": 50,
     "metadata": {},
     "output_type": "execute_result"
    },
    {
     "data": {
      "image/png": "[encoded data removed]",
      "text/plain": [
       "<Figure size 360x360 with 1 Axes>"
      ]
     },
     "metadata": {
      "needs_background": "light"
     },
     "output_type": "display_data"
    },
    {
     "data": {
      "image/png": "[encoded data removed]",
      "text/plain": [
       "<Figure size 360x360 with 1 Axes>"
      ]
     },
     "metadata": {
      "needs_background": "light"
     },
     "output_type": "display_data"
    },
    {
     "data": {
      "image/png": "[encoded data removed]",
      "text/plain": [
       "<Figure size 360x360 with 1 Axes>"
      ]
     },
     "metadata": {
      "needs_background": "light"
     },
     "output_type": "display_data"
    },
    {
     "data": {
      "image/png": "[encoded data removed]",
      "text/plain": [
       "<Figure size 360x360 with 1 Axes>"
      ]
     },
     "metadata": {
      "needs_background": "light"
     },
     "output_type": "display_data"
    },
    {
     "data": {
      "image/png": "[encoded data removed]",
      "text/plain": [
       "<Figure size 360x360 with 1 Axes>"
      ]
     },
     "metadata": {
      "needs_background": "light"
     },
     "output_type": "display_data"
    }
   ],
   "source": [
    "sb.displot(mng_demog_df['Age_m'])  # Age is normally distributed. \n",
    "\n",
    "sb.displot(mng_demog_df['tenure_logged']) # tenure also normally distributed\n",
    "sb.displot(mng_demog_df['tenure_logged_ths'])\n",
    "sb.displot(mng_demog_df['CurrentPay_m'])   # log transform needed\n",
    "mng_demog_df['CurrentPay_logged']=np.log(mng_demog_df['CurrentPay_m'])\n",
    "sb.displot(mng_demog_df['CurrentPay_logged'])"
   ]
  },
  {
   "cell_type": "markdown",
   "metadata": {},
   "source": [
    "## SCALE all variables"
   ]
  },
  {
   "cell_type": "code",
   "execution_count": 52,
   "metadata": {},
   "outputs": [
    {
     "name": "stderr",
     "output_type": "stream",
     "text": [
      "<ipython-input-52-f7ae5de9f6bd>:20: SettingWithCopyWarning: \n",
      "A value is trying to be set on a copy of a slice from a DataFrame.\n",
      "Try using .loc[row_indexer,col_indexer] = value instead\n",
      "\n",
      "See the caveats in the documentation: https://pandas.pydata.org/pandas-docs/stable/user_guide/indexing.html#returning-a-view-versus-a-copy\n",
      "  data_all3['happiness_y']=sc.fit_transform(data_all3['happiness_y'].values.reshape(-1,1))\n",
      "/Users/Ulkar/opt/anaconda3/envs/insight/lib/python3.8/site-packages/category_encoders/utils.py:21: FutureWarning: is_categorical is deprecated and will be removed in a future version.  Use is_categorical_dtype instead\n",
      "  elif pd.api.types.is_categorical(cols):\n"
     ]
    }
   ],
   "source": [
    "## All the necessary variables are created. \n",
    "\n",
    "# 1. Scale Manager Level Demographic data\n",
    "from sklearn.preprocessing import StandardScaler\n",
    "sc = StandardScaler()\n",
    "mng_demog_df['CurrentPay_logged']=sc.fit_transform(mng_demog_df['CurrentPay_logged'].values.reshape(-1,1))\n",
    "mng_demog_df['tenure_logged']=sc.fit_transform(mng_demog_df['tenure_logged'].values.reshape(-1,1))\n",
    "mng_demog_df['tenure_logged_ths']=sc.fit_transform(mng_demog_df['tenure_logged_ths'].values.reshape(-1,1))\n",
    "mng_demog_df['Age_m']=sc.fit_transform(mng_demog_df['Age_m'].values.reshape(-1,1))\n",
    "\n",
    "\n",
    "  ## Encodong categorial variables\n",
    "mng_demog_df=pd.get_dummies(mng_demog_df, columns=[ \"Status_m\", \"Work Status_m\", \"state_id\" ], \n",
    "                            prefix=['status', 'ws', 'state'], drop_first=True)\n",
    "\n",
    "\n",
    "\n",
    "\n",
    "# 2. Scale output (happiness feature) Already within -3 and 3. \n",
    "data_all3['happiness_y']=sc.fit_transform(data_all3['happiness_y'].values.reshape(-1,1))\n",
    "\n",
    "\n",
    "## Mean Encode Race.\n",
    "   \n",
    "from category_encoders import TargetEncoder\n",
    "xx_r=data_all3[['Race_m']]\n",
    "yy_r=data_all3[['happiness_y']]\n",
    " \n",
    "mean_ec = TargetEncoder(cols=['Race_m'])\n",
    "Race_ec=mean_ec.fit_transform(xx_r, yy_r)\n",
    "\n",
    "\n",
    "\n",
    "#3. Scale input features\n",
    "x_man_quest_sc=pd.DataFrame(sc.fit_transform(x_man_quest))  # This strips names of columns. So add column names back\n",
    "\n",
    "x_man_quest_sc.columns=[\"ti_6\", \"ti_7\", \"ti_9\", \"ti_13\", \"ti_14\", \"ti_15\", \"ti_18\", \"ti_19\", \"ti_20\", \"ti_21\", \"ti_22\", \"ti_24\", \"ti_31\",\n",
    "                    \"ti_34\", \"ti_39\", \"ti_43\", \"ti_46\", \"ti_47\", \"ti_54\"]\n",
    "\n",
    "\n"
   ]
  },
  {
   "cell_type": "code",
   "execution_count": 53,
   "metadata": {},
   "outputs": [],
   "source": [
    "Race_ec=Race_ec.reset_index(drop=True)"
   ]
  },
  {
   "cell_type": "code",
   "execution_count": 54,
   "metadata": {},
   "outputs": [
    {
     "data": {
      "text/plain": [
       "(28857, 44)"
      ]
     },
     "execution_count": 54,
     "metadata": {},
     "output_type": "execute_result"
    }
   ],
   "source": [
    "## MERGING ALL INTO ONE FILE\n",
    "\n",
    "datas2=pd.concat([mng_demog_df, Race_ec, x_man_quest_sc], axis=1)  # with target encoding\n",
    "datas2.shape"
   ]
  },
  {
   "cell_type": "code",
   "execution_count": 55,
   "metadata": {},
   "outputs": [],
   "source": [
    "datas2\n",
    "datas2.reset_index(inplace=True)\n",
    "datas2=datas2.iloc[:, 1:]"
   ]
  },
  {
   "cell_type": "code",
   "execution_count": 56,
   "metadata": {},
   "outputs": [],
   "source": [
    "happiness=data_all3[['happiness_y']]\n",
    "happiness.reset_index(inplace=True)\n",
    "happiness=happiness.iloc[:, 1:]"
   ]
  },
  {
   "cell_type": "code",
   "execution_count": 57,
   "metadata": {},
   "outputs": [
    {
     "data": {
      "text/html": [
       "<div>\n",
       "<style scoped>\n",
       "    .dataframe tbody tr th:only-of-type {\n",
       "        vertical-align: middle;\n",
       "    }\n",
       "\n",
       "    .dataframe tbody tr th {\n",
       "        vertical-align: top;\n",
       "    }\n",
       "\n",
       "    .dataframe thead th {\n",
       "        text-align: right;\n",
       "    }\n",
       "</style>\n",
       "<table border=\"1\" class=\"dataframe\">\n",
       "  <thead>\n",
       "    <tr style=\"text-align: right;\">\n",
       "      <th></th>\n",
       "      <th>happiness_y</th>\n",
       "    </tr>\n",
       "  </thead>\n",
       "  <tbody>\n",
       "    <tr>\n",
       "      <th>0</th>\n",
       "      <td>0.330082</td>\n",
       "    </tr>\n",
       "    <tr>\n",
       "      <th>1</th>\n",
       "      <td>0.484300</td>\n",
       "    </tr>\n",
       "    <tr>\n",
       "      <th>2</th>\n",
       "      <td>0.330082</td>\n",
       "    </tr>\n",
       "    <tr>\n",
       "      <th>3</th>\n",
       "      <td>-0.974117</td>\n",
       "    </tr>\n",
       "    <tr>\n",
       "      <th>4</th>\n",
       "      <td>0.256832</td>\n",
       "    </tr>\n",
       "    <tr>\n",
       "      <th>...</th>\n",
       "      <td>...</td>\n",
       "    </tr>\n",
       "    <tr>\n",
       "      <th>28852</th>\n",
       "      <td>-0.009674</td>\n",
       "    </tr>\n",
       "    <tr>\n",
       "      <th>28853</th>\n",
       "      <td>-0.334737</td>\n",
       "    </tr>\n",
       "    <tr>\n",
       "      <th>28854</th>\n",
       "      <td>0.603573</td>\n",
       "    </tr>\n",
       "    <tr>\n",
       "      <th>28855</th>\n",
       "      <td>0.330082</td>\n",
       "    </tr>\n",
       "    <tr>\n",
       "      <th>28856</th>\n",
       "      <td>-3.032364</td>\n",
       "    </tr>\n",
       "  </tbody>\n",
       "</table>\n",
       "<p>28857 rows × 1 columns</p>\n",
       "</div>"
      ],
      "text/plain": [
       "       happiness_y\n",
       "0         0.330082\n",
       "1         0.484300\n",
       "2         0.330082\n",
       "3        -0.974117\n",
       "4         0.256832\n",
       "...            ...\n",
       "28852    -0.009674\n",
       "28853    -0.334737\n",
       "28854     0.603573\n",
       "28855     0.330082\n",
       "28856    -3.032364\n",
       "\n",
       "[28857 rows x 1 columns]"
      ]
     },
     "execution_count": 57,
     "metadata": {},
     "output_type": "execute_result"
    }
   ],
   "source": [
    "happiness"
   ]
  },
  {
   "cell_type": "code",
   "execution_count": 59,
   "metadata": {},
   "outputs": [],
   "source": [
    "## Add happiness to this data\n",
    "\n",
    "datas2=pd.concat([datas2, happiness], axis=1) \n",
    "datas2.reset_index(inplace=True)"
   ]
  },
  {
   "cell_type": "code",
   "execution_count": 61,
   "metadata": {},
   "outputs": [],
   "source": [
    "department=data_all3[['ManagerID', 'Survey_no', 'DepartmentName_y']]\n",
    "department.reset_index(inplace=True)"
   ]
  },
  {
   "cell_type": "code",
   "execution_count": 62,
   "metadata": {},
   "outputs": [],
   "source": [
    "## ADD DEPARTMENT NAMES TO THE DATA\n",
    "datas2=pd.merge(datas2, department, how='left', indicator=True)"
   ]
  },
  {
   "cell_type": "code",
   "execution_count": 63,
   "metadata": {},
   "outputs": [
    {
     "data": {
      "text/html": [
       "<div>\n",
       "<style scoped>\n",
       "    .dataframe tbody tr th:only-of-type {\n",
       "        vertical-align: middle;\n",
       "    }\n",
       "\n",
       "    .dataframe tbody tr th {\n",
       "        vertical-align: top;\n",
       "    }\n",
       "\n",
       "    .dataframe thead th {\n",
       "        text-align: right;\n",
       "    }\n",
       "</style>\n",
       "<table border=\"1\" class=\"dataframe\">\n",
       "  <thead>\n",
       "    <tr style=\"text-align: right;\">\n",
       "      <th></th>\n",
       "      <th>level_0</th>\n",
       "      <th>index</th>\n",
       "      <th>ManagerID</th>\n",
       "      <th>Survey_no</th>\n",
       "      <th>Location Name_m</th>\n",
       "      <th>Female_m</th>\n",
       "      <th>Age_m</th>\n",
       "      <th>tenure_logged</th>\n",
       "      <th>tenure_logged_ths</th>\n",
       "      <th>CurrentPay_m</th>\n",
       "      <th>...</th>\n",
       "      <th>ti_24</th>\n",
       "      <th>ti_31</th>\n",
       "      <th>ti_34</th>\n",
       "      <th>ti_39</th>\n",
       "      <th>ti_43</th>\n",
       "      <th>ti_46</th>\n",
       "      <th>ti_47</th>\n",
       "      <th>ti_54</th>\n",
       "      <th>happiness_y</th>\n",
       "      <th>DepartmentName_y</th>\n",
       "    </tr>\n",
       "    <tr>\n",
       "      <th>_merge</th>\n",
       "      <th></th>\n",
       "      <th></th>\n",
       "      <th></th>\n",
       "      <th></th>\n",
       "      <th></th>\n",
       "      <th></th>\n",
       "      <th></th>\n",
       "      <th></th>\n",
       "      <th></th>\n",
       "      <th></th>\n",
       "      <th></th>\n",
       "      <th></th>\n",
       "      <th></th>\n",
       "      <th></th>\n",
       "      <th></th>\n",
       "      <th></th>\n",
       "      <th></th>\n",
       "      <th></th>\n",
       "      <th></th>\n",
       "      <th></th>\n",
       "      <th></th>\n",
       "    </tr>\n",
       "  </thead>\n",
       "  <tbody>\n",
       "    <tr>\n",
       "      <th>left_only</th>\n",
       "      <td>0</td>\n",
       "      <td>0</td>\n",
       "      <td>0</td>\n",
       "      <td>0</td>\n",
       "      <td>0</td>\n",
       "      <td>0</td>\n",
       "      <td>0</td>\n",
       "      <td>0</td>\n",
       "      <td>0</td>\n",
       "      <td>0</td>\n",
       "      <td>...</td>\n",
       "      <td>0</td>\n",
       "      <td>0</td>\n",
       "      <td>0</td>\n",
       "      <td>0</td>\n",
       "      <td>0</td>\n",
       "      <td>0</td>\n",
       "      <td>0</td>\n",
       "      <td>0</td>\n",
       "      <td>0</td>\n",
       "      <td>0</td>\n",
       "    </tr>\n",
       "    <tr>\n",
       "      <th>right_only</th>\n",
       "      <td>0</td>\n",
       "      <td>0</td>\n",
       "      <td>0</td>\n",
       "      <td>0</td>\n",
       "      <td>0</td>\n",
       "      <td>0</td>\n",
       "      <td>0</td>\n",
       "      <td>0</td>\n",
       "      <td>0</td>\n",
       "      <td>0</td>\n",
       "      <td>...</td>\n",
       "      <td>0</td>\n",
       "      <td>0</td>\n",
       "      <td>0</td>\n",
       "      <td>0</td>\n",
       "      <td>0</td>\n",
       "      <td>0</td>\n",
       "      <td>0</td>\n",
       "      <td>0</td>\n",
       "      <td>0</td>\n",
       "      <td>0</td>\n",
       "    </tr>\n",
       "    <tr>\n",
       "      <th>both</th>\n",
       "      <td>28857</td>\n",
       "      <td>28857</td>\n",
       "      <td>28857</td>\n",
       "      <td>28857</td>\n",
       "      <td>28857</td>\n",
       "      <td>28857</td>\n",
       "      <td>28857</td>\n",
       "      <td>28857</td>\n",
       "      <td>28857</td>\n",
       "      <td>28857</td>\n",
       "      <td>...</td>\n",
       "      <td>28857</td>\n",
       "      <td>28857</td>\n",
       "      <td>28857</td>\n",
       "      <td>28857</td>\n",
       "      <td>28857</td>\n",
       "      <td>28857</td>\n",
       "      <td>28857</td>\n",
       "      <td>28857</td>\n",
       "      <td>28857</td>\n",
       "      <td>18901</td>\n",
       "    </tr>\n",
       "  </tbody>\n",
       "</table>\n",
       "<p>3 rows × 47 columns</p>\n",
       "</div>"
      ],
      "text/plain": [
       "            level_0  index  ManagerID  Survey_no  Location Name_m  Female_m  \\\n",
       "_merge                                                                        \n",
       "left_only         0      0          0          0                0         0   \n",
       "right_only        0      0          0          0                0         0   \n",
       "both          28857  28857      28857      28857            28857     28857   \n",
       "\n",
       "            Age_m  tenure_logged  tenure_logged_ths  CurrentPay_m  ...  ti_24  \\\n",
       "_merge                                                             ...          \n",
       "left_only       0              0                  0             0  ...      0   \n",
       "right_only      0              0                  0             0  ...      0   \n",
       "both        28857          28857              28857         28857  ...  28857   \n",
       "\n",
       "            ti_31  ti_34  ti_39  ti_43  ti_46  ti_47  ti_54  happiness_y  \\\n",
       "_merge                                                                     \n",
       "left_only       0      0      0      0      0      0      0            0   \n",
       "right_only      0      0      0      0      0      0      0            0   \n",
       "both        28857  28857  28857  28857  28857  28857  28857        28857   \n",
       "\n",
       "            DepartmentName_y  \n",
       "_merge                        \n",
       "left_only                  0  \n",
       "right_only                 0  \n",
       "both                   18901  \n",
       "\n",
       "[3 rows x 47 columns]"
      ]
     },
     "execution_count": 63,
     "metadata": {},
     "output_type": "execute_result"
    }
   ],
   "source": [
    "datas2.groupby([\"_merge\"]).count()"
   ]
  },
  {
   "cell_type": "code",
   "execution_count": 64,
   "metadata": {},
   "outputs": [],
   "source": [
    "datas2=datas2.iloc[:, 2:]"
   ]
  },
  {
   "cell_type": "markdown",
   "metadata": {},
   "source": [
    "# 1/a  departments of nursing and caregiving only\n"
   ]
  },
  {
   "cell_type": "code",
   "execution_count": 65,
   "metadata": {},
   "outputs": [],
   "source": [
    "## SUBSET AND GET ONLY NURSING AND CAREGIVING (NC)\n",
    "\n",
    "data_nc=datas2.loc[(datas2['DepartmentName_y'] == 'Caregiver') | (datas2['DepartmentName_y'] == 'Nursing')]"
   ]
  },
  {
   "cell_type": "markdown",
   "metadata": {},
   "source": [
    "# PART 4 REGRESSION"
   ]
  },
  {
   "cell_type": "code",
   "execution_count": 67,
   "metadata": {},
   "outputs": [],
   "source": [
    "x_19=data_nc[[\"ti_6\", \"ti_7\", \"ti_9\", \"ti_13\", \"ti_14\", \"ti_15\", \"ti_18\", \"ti_19\", \"ti_20\", \"ti_21\", \"ti_22\", \"ti_24\", \"ti_31\",\n",
    "                    \"ti_34\", \"ti_39\", \"ti_43\", \"ti_46\", \"ti_47\", \"ti_54\"]]\n",
    "\n",
    "x_demog2=data_nc[[\"Female_m\", 'Race_m', \"Age_m\", \"tenure_logged\", \"tenure_logged_ths\", \"CurrentPay_m\",\n",
    "                   'status_D', 'status_L', 'status_P', 'status_T', 'ws_P', 'state_IL',\n",
    "               'state_IN','state_KY','state_MA','state_MI','state_NM','state_OH','state_PA','state_TN']]\n",
    "\n",
    "x_19_demog2=pd.concat([x_19, x_demog2], axis=1)\n",
    "\n",
    "y=data_nc['happiness_y']"
   ]
  },
  {
   "cell_type": "code",
   "execution_count": 68,
   "metadata": {},
   "outputs": [
    {
     "data": {
      "text/html": [
       "<div>\n",
       "<style scoped>\n",
       "    .dataframe tbody tr th:only-of-type {\n",
       "        vertical-align: middle;\n",
       "    }\n",
       "\n",
       "    .dataframe tbody tr th {\n",
       "        vertical-align: top;\n",
       "    }\n",
       "\n",
       "    .dataframe thead th {\n",
       "        text-align: right;\n",
       "    }\n",
       "</style>\n",
       "<table border=\"1\" class=\"dataframe\">\n",
       "  <thead>\n",
       "    <tr style=\"text-align: right;\">\n",
       "      <th></th>\n",
       "      <th>ti_6</th>\n",
       "      <th>ti_7</th>\n",
       "      <th>ti_9</th>\n",
       "      <th>ti_13</th>\n",
       "      <th>ti_14</th>\n",
       "      <th>ti_15</th>\n",
       "      <th>ti_18</th>\n",
       "      <th>ti_19</th>\n",
       "      <th>ti_20</th>\n",
       "      <th>ti_21</th>\n",
       "      <th>...</th>\n",
       "      <th>ws_P</th>\n",
       "      <th>state_IL</th>\n",
       "      <th>state_IN</th>\n",
       "      <th>state_KY</th>\n",
       "      <th>state_MA</th>\n",
       "      <th>state_MI</th>\n",
       "      <th>state_NM</th>\n",
       "      <th>state_OH</th>\n",
       "      <th>state_PA</th>\n",
       "      <th>state_TN</th>\n",
       "    </tr>\n",
       "  </thead>\n",
       "  <tbody>\n",
       "    <tr>\n",
       "      <th>1070</th>\n",
       "      <td>1.466884e+00</td>\n",
       "      <td>1.028162e+00</td>\n",
       "      <td>1.259808e+00</td>\n",
       "      <td>1.184186e+00</td>\n",
       "      <td>1.222600e+00</td>\n",
       "      <td>5.075430e-01</td>\n",
       "      <td>0.997280</td>\n",
       "      <td>1.320831e+00</td>\n",
       "      <td>1.177045e+00</td>\n",
       "      <td>1.198125e+00</td>\n",
       "      <td>...</td>\n",
       "      <td>0</td>\n",
       "      <td>0</td>\n",
       "      <td>0</td>\n",
       "      <td>0</td>\n",
       "      <td>0</td>\n",
       "      <td>0</td>\n",
       "      <td>0</td>\n",
       "      <td>1</td>\n",
       "      <td>0</td>\n",
       "      <td>0</td>\n",
       "    </tr>\n",
       "    <tr>\n",
       "      <th>1102</th>\n",
       "      <td>4.000594e-01</td>\n",
       "      <td>3.544286e-18</td>\n",
       "      <td>-7.558851e-01</td>\n",
       "      <td>1.315762e-01</td>\n",
       "      <td>1.358444e-01</td>\n",
       "      <td>-5.075430e-01</td>\n",
       "      <td>0.000000</td>\n",
       "      <td>2.641661e-01</td>\n",
       "      <td>-1.177045e+00</td>\n",
       "      <td>-7.188752e-01</td>\n",
       "      <td>...</td>\n",
       "      <td>0</td>\n",
       "      <td>0</td>\n",
       "      <td>0</td>\n",
       "      <td>0</td>\n",
       "      <td>0</td>\n",
       "      <td>0</td>\n",
       "      <td>0</td>\n",
       "      <td>1</td>\n",
       "      <td>0</td>\n",
       "      <td>0</td>\n",
       "    </tr>\n",
       "    <tr>\n",
       "      <th>1103</th>\n",
       "      <td>-3.678707e-02</td>\n",
       "      <td>-9.218007e-01</td>\n",
       "      <td>-9.383401e-01</td>\n",
       "      <td>-1.814844e-01</td>\n",
       "      <td>1.086756e+00</td>\n",
       "      <td>-8.050682e-01</td>\n",
       "      <td>0.275112</td>\n",
       "      <td>-1.858272e+00</td>\n",
       "      <td>-1.258220e+00</td>\n",
       "      <td>-5.949312e-01</td>\n",
       "      <td>...</td>\n",
       "      <td>0</td>\n",
       "      <td>0</td>\n",
       "      <td>0</td>\n",
       "      <td>0</td>\n",
       "      <td>0</td>\n",
       "      <td>0</td>\n",
       "      <td>0</td>\n",
       "      <td>1</td>\n",
       "      <td>0</td>\n",
       "      <td>0</td>\n",
       "    </tr>\n",
       "    <tr>\n",
       "      <th>1104</th>\n",
       "      <td>-5.020353e-01</td>\n",
       "      <td>-3.931209e-01</td>\n",
       "      <td>-2.667830e-01</td>\n",
       "      <td>-4.024684e-01</td>\n",
       "      <td>-5.753412e-01</td>\n",
       "      <td>-2.686992e-01</td>\n",
       "      <td>1.818569</td>\n",
       "      <td>-1.367448e+00</td>\n",
       "      <td>-9.693308e-01</td>\n",
       "      <td>-9.585003e-01</td>\n",
       "      <td>...</td>\n",
       "      <td>0</td>\n",
       "      <td>0</td>\n",
       "      <td>1</td>\n",
       "      <td>0</td>\n",
       "      <td>0</td>\n",
       "      <td>0</td>\n",
       "      <td>0</td>\n",
       "      <td>0</td>\n",
       "      <td>0</td>\n",
       "      <td>0</td>\n",
       "    </tr>\n",
       "    <tr>\n",
       "      <th>1105</th>\n",
       "      <td>2.807434e-01</td>\n",
       "      <td>1.893983e-01</td>\n",
       "      <td>1.193503e+00</td>\n",
       "      <td>1.357312e+00</td>\n",
       "      <td>4.861801e-01</td>\n",
       "      <td>3.472663e-01</td>\n",
       "      <td>1.469676</td>\n",
       "      <td>1.362541e+00</td>\n",
       "      <td>1.084120e+00</td>\n",
       "      <td>4.035791e-01</td>\n",
       "      <td>...</td>\n",
       "      <td>0</td>\n",
       "      <td>0</td>\n",
       "      <td>1</td>\n",
       "      <td>0</td>\n",
       "      <td>0</td>\n",
       "      <td>0</td>\n",
       "      <td>0</td>\n",
       "      <td>0</td>\n",
       "      <td>0</td>\n",
       "      <td>0</td>\n",
       "    </tr>\n",
       "    <tr>\n",
       "      <th>...</th>\n",
       "      <td>...</td>\n",
       "      <td>...</td>\n",
       "      <td>...</td>\n",
       "      <td>...</td>\n",
       "      <td>...</td>\n",
       "      <td>...</td>\n",
       "      <td>...</td>\n",
       "      <td>...</td>\n",
       "      <td>...</td>\n",
       "      <td>...</td>\n",
       "      <td>...</td>\n",
       "      <td>...</td>\n",
       "      <td>...</td>\n",
       "      <td>...</td>\n",
       "      <td>...</td>\n",
       "      <td>...</td>\n",
       "      <td>...</td>\n",
       "      <td>...</td>\n",
       "      <td>...</td>\n",
       "      <td>...</td>\n",
       "      <td>...</td>\n",
       "    </tr>\n",
       "    <tr>\n",
       "      <th>28844</th>\n",
       "      <td>-2.438457e+00</td>\n",
       "      <td>-2.496966e+00</td>\n",
       "      <td>-2.591606e+00</td>\n",
       "      <td>-2.405965e+00</td>\n",
       "      <td>-2.794514e+00</td>\n",
       "      <td>-2.755234e+00</td>\n",
       "      <td>-1.282217</td>\n",
       "      <td>-2.566185e+00</td>\n",
       "      <td>-3.362984e+00</td>\n",
       "      <td>-2.327786e+00</td>\n",
       "      <td>...</td>\n",
       "      <td>0</td>\n",
       "      <td>0</td>\n",
       "      <td>1</td>\n",
       "      <td>0</td>\n",
       "      <td>0</td>\n",
       "      <td>0</td>\n",
       "      <td>0</td>\n",
       "      <td>0</td>\n",
       "      <td>0</td>\n",
       "      <td>0</td>\n",
       "    </tr>\n",
       "    <tr>\n",
       "      <th>28845</th>\n",
       "      <td>-2.000297e-01</td>\n",
       "      <td>6.426015e-01</td>\n",
       "      <td>6.928946e-01</td>\n",
       "      <td>5.920929e-01</td>\n",
       "      <td>5.433778e-01</td>\n",
       "      <td>1.332300e+00</td>\n",
       "      <td>0.872620</td>\n",
       "      <td>7.924984e-01</td>\n",
       "      <td>8.827834e-01</td>\n",
       "      <td>1.198125e+00</td>\n",
       "      <td>...</td>\n",
       "      <td>0</td>\n",
       "      <td>0</td>\n",
       "      <td>0</td>\n",
       "      <td>0</td>\n",
       "      <td>0</td>\n",
       "      <td>0</td>\n",
       "      <td>0</td>\n",
       "      <td>1</td>\n",
       "      <td>0</td>\n",
       "      <td>0</td>\n",
       "    </tr>\n",
       "    <tr>\n",
       "      <th>28846</th>\n",
       "      <td>6.667656e-01</td>\n",
       "      <td>5.140812e-01</td>\n",
       "      <td>5.039234e-01</td>\n",
       "      <td>5.263048e-01</td>\n",
       "      <td>2.716889e-01</td>\n",
       "      <td>3.806573e-01</td>\n",
       "      <td>0.747960</td>\n",
       "      <td>5.283323e-01</td>\n",
       "      <td>2.942611e-01</td>\n",
       "      <td>4.792502e-01</td>\n",
       "      <td>...</td>\n",
       "      <td>0</td>\n",
       "      <td>0</td>\n",
       "      <td>0</td>\n",
       "      <td>1</td>\n",
       "      <td>0</td>\n",
       "      <td>0</td>\n",
       "      <td>0</td>\n",
       "      <td>0</td>\n",
       "      <td>0</td>\n",
       "      <td>0</td>\n",
       "    </tr>\n",
       "    <tr>\n",
       "      <th>28849</th>\n",
       "      <td>7.355128e-18</td>\n",
       "      <td>3.544286e-18</td>\n",
       "      <td>-3.226093e-18</td>\n",
       "      <td>1.555097e-18</td>\n",
       "      <td>-3.211088e-18</td>\n",
       "      <td>-7.998193e-18</td>\n",
       "      <td>0.000000</td>\n",
       "      <td>-4.162901e-18</td>\n",
       "      <td>-4.057513e-18</td>\n",
       "      <td>-9.440419e-19</td>\n",
       "      <td>...</td>\n",
       "      <td>0</td>\n",
       "      <td>0</td>\n",
       "      <td>1</td>\n",
       "      <td>0</td>\n",
       "      <td>0</td>\n",
       "      <td>0</td>\n",
       "      <td>0</td>\n",
       "      <td>0</td>\n",
       "      <td>0</td>\n",
       "      <td>0</td>\n",
       "    </tr>\n",
       "    <tr>\n",
       "      <th>28853</th>\n",
       "      <td>-2.074382e-01</td>\n",
       "      <td>-1.142403e-01</td>\n",
       "      <td>-1.119830e+00</td>\n",
       "      <td>-2.339132e-01</td>\n",
       "      <td>-2.113136e-01</td>\n",
       "      <td>-1.127873e+00</td>\n",
       "      <td>-1.939155</td>\n",
       "      <td>-1.291479e+00</td>\n",
       "      <td>-4.904352e-01</td>\n",
       "      <td>-3.008626e+00</td>\n",
       "      <td>...</td>\n",
       "      <td>0</td>\n",
       "      <td>0</td>\n",
       "      <td>1</td>\n",
       "      <td>0</td>\n",
       "      <td>0</td>\n",
       "      <td>0</td>\n",
       "      <td>0</td>\n",
       "      <td>0</td>\n",
       "      <td>0</td>\n",
       "      <td>0</td>\n",
       "    </tr>\n",
       "  </tbody>\n",
       "</table>\n",
       "<p>7668 rows × 39 columns</p>\n",
       "</div>"
      ],
      "text/plain": [
       "               ti_6          ti_7          ti_9         ti_13         ti_14  \\\n",
       "1070   1.466884e+00  1.028162e+00  1.259808e+00  1.184186e+00  1.222600e+00   \n",
       "1102   4.000594e-01  3.544286e-18 -7.558851e-01  1.315762e-01  1.358444e-01   \n",
       "1103  -3.678707e-02 -9.218007e-01 -9.383401e-01 -1.814844e-01  1.086756e+00   \n",
       "1104  -5.020353e-01 -3.931209e-01 -2.667830e-01 -4.024684e-01 -5.753412e-01   \n",
       "1105   2.807434e-01  1.893983e-01  1.193503e+00  1.357312e+00  4.861801e-01   \n",
       "...             ...           ...           ...           ...           ...   \n",
       "28844 -2.438457e+00 -2.496966e+00 -2.591606e+00 -2.405965e+00 -2.794514e+00   \n",
       "28845 -2.000297e-01  6.426015e-01  6.928946e-01  5.920929e-01  5.433778e-01   \n",
       "28846  6.667656e-01  5.140812e-01  5.039234e-01  5.263048e-01  2.716889e-01   \n",
       "28849  7.355128e-18  3.544286e-18 -3.226093e-18  1.555097e-18 -3.211088e-18   \n",
       "28853 -2.074382e-01 -1.142403e-01 -1.119830e+00 -2.339132e-01 -2.113136e-01   \n",
       "\n",
       "              ti_15     ti_18         ti_19         ti_20         ti_21  ...  \\\n",
       "1070   5.075430e-01  0.997280  1.320831e+00  1.177045e+00  1.198125e+00  ...   \n",
       "1102  -5.075430e-01  0.000000  2.641661e-01 -1.177045e+00 -7.188752e-01  ...   \n",
       "1103  -8.050682e-01  0.275112 -1.858272e+00 -1.258220e+00 -5.949312e-01  ...   \n",
       "1104  -2.686992e-01  1.818569 -1.367448e+00 -9.693308e-01 -9.585003e-01  ...   \n",
       "1105   3.472663e-01  1.469676  1.362541e+00  1.084120e+00  4.035791e-01  ...   \n",
       "...             ...       ...           ...           ...           ...  ...   \n",
       "28844 -2.755234e+00 -1.282217 -2.566185e+00 -3.362984e+00 -2.327786e+00  ...   \n",
       "28845  1.332300e+00  0.872620  7.924984e-01  8.827834e-01  1.198125e+00  ...   \n",
       "28846  3.806573e-01  0.747960  5.283323e-01  2.942611e-01  4.792502e-01  ...   \n",
       "28849 -7.998193e-18  0.000000 -4.162901e-18 -4.057513e-18 -9.440419e-19  ...   \n",
       "28853 -1.127873e+00 -1.939155 -1.291479e+00 -4.904352e-01 -3.008626e+00  ...   \n",
       "\n",
       "       ws_P  state_IL  state_IN  state_KY  state_MA  state_MI  state_NM  \\\n",
       "1070      0         0         0         0         0         0         0   \n",
       "1102      0         0         0         0         0         0         0   \n",
       "1103      0         0         0         0         0         0         0   \n",
       "1104      0         0         1         0         0         0         0   \n",
       "1105      0         0         1         0         0         0         0   \n",
       "...     ...       ...       ...       ...       ...       ...       ...   \n",
       "28844     0         0         1         0         0         0         0   \n",
       "28845     0         0         0         0         0         0         0   \n",
       "28846     0         0         0         1         0         0         0   \n",
       "28849     0         0         1         0         0         0         0   \n",
       "28853     0         0         1         0         0         0         0   \n",
       "\n",
       "       state_OH  state_PA  state_TN  \n",
       "1070          1         0         0  \n",
       "1102          1         0         0  \n",
       "1103          1         0         0  \n",
       "1104          0         0         0  \n",
       "1105          0         0         0  \n",
       "...         ...       ...       ...  \n",
       "28844         0         0         0  \n",
       "28845         1         0         0  \n",
       "28846         0         0         0  \n",
       "28849         0         0         0  \n",
       "28853         0         0         0  \n",
       "\n",
       "[7668 rows x 39 columns]"
      ]
     },
     "execution_count": 68,
     "metadata": {},
     "output_type": "execute_result"
    }
   ],
   "source": [
    "x_19_demog2"
   ]
  },
  {
   "cell_type": "markdown",
   "metadata": {},
   "source": [
    "## RUN LASSO FOR FEATURE SELECTION"
   ]
  },
  {
   "cell_type": "code",
   "execution_count": 69,
   "metadata": {},
   "outputs": [],
   "source": [
    "from sklearn import linear_model\n",
    "from sklearn.linear_model import Lasso\n",
    "from sklearn.model_selection import train_test_split\n",
    "from sklearn.metrics import r2_score"
   ]
  },
  {
   "cell_type": "code",
   "execution_count": 71,
   "metadata": {},
   "outputs": [],
   "source": [
    "# RUN LASSO 10000 times and save features with high predictive power\n",
    "\n",
    "x_lasso = x_19_demog2\n",
    "y_lasso = y\n",
    "\n",
    "train_number = 10000\n",
    "\n",
    "\n",
    "# before loop\n",
    "test_r_squared = np.zeros((train_number,1))\n",
    "train_r_squared = np.zeros((train_number,1))\n",
    "lasso_alpha = np.zeros((train_number,1))\n",
    "lasso_coef = np.zeros((train_number, x_lasso.shape[1]))\n",
    "\n",
    "\n",
    "for trialNo in range(train_number):\n",
    "    \n",
    "    #SAMPLE SPLIT: 75-25\n",
    "    x_lasso_train, x_lasso_test, y_lasso_train, y_lasso_test = train_test_split(x_lasso, y_lasso, test_size=0.25)\n",
    "\n",
    "    reg = LassoCV(cv=5).fit(x_lasso_train, y_lasso_train)\n",
    "\n",
    "    YpredLasso = reg.predict(x_lasso_test)\n",
    "    YpredLasso_train = reg.predict(x_lasso_train)\n",
    "    \n",
    "    test_r_squared[trialNo] = r2_score(y_lasso_test, YpredLasso)\n",
    "    train_r_squared[trialNo] = r2_score(y_lasso_train, YpredLasso_train)\n",
    "    lasso_coef[trialNo,:] = reg.coef_ \n"
   ]
  },
  {
   "cell_type": "code",
   "execution_count": 72,
   "metadata": {},
   "outputs": [
    {
     "name": "stderr",
     "output_type": "stream",
     "text": [
      "/Users/Ulkar/opt/anaconda3/envs/insight/lib/python3.8/site-packages/seaborn/distributions.py:2551: FutureWarning: `distplot` is a deprecated function and will be removed in a future version. Please adapt your code to use either `displot` (a figure-level function with similar flexibility) or `histplot` (an axes-level function for histograms).\n",
      "  warnings.warn(msg, FutureWarning)\n",
      "/Users/Ulkar/opt/anaconda3/envs/insight/lib/python3.8/site-packages/seaborn/distributions.py:2551: FutureWarning: `distplot` is a deprecated function and will be removed in a future version. Please adapt your code to use either `displot` (a figure-level function with similar flexibility) or `histplot` (an axes-level function for histograms).\n",
      "  warnings.warn(msg, FutureWarning)\n"
     ]
    },
    {
     "data": {
      "image/png": "[encoded data removed]",
      "text/plain": [
       "<Figure size 432x288 with 1 Axes>"
      ]
     },
     "metadata": {
      "needs_background": "light"
     },
     "output_type": "display_data"
    }
   ],
   "source": [
    "#Distribution of R-squared for test and train set\n",
    "test_r_squared_df=pd.DataFrame(data=test_r_squared)\n",
    "test_r_squared_df.rename(columns = {0:'coefficient of determination'}, inplace = True) \n",
    "\n",
    "train_r_squared_df=pd.DataFrame(data=train_r_squared)\n",
    "train_r_squared_df.rename(columns = {0:'coefficient of determination_train'}, inplace = True) \n",
    "\n",
    "sb.distplot(test_r_squared_df)\n",
    "sb.despine()\n",
    "sb.distplot(train_r_squared_df)\n",
    "sb.despine()"
   ]
  },
  {
   "cell_type": "code",
   "execution_count": 73,
   "metadata": {},
   "outputs": [
    {
     "data": {
      "text/plain": [
       "<matplotlib.collections.PathCollection at 0x7ff33da3f790>"
      ]
     },
     "execution_count": 73,
     "metadata": {},
     "output_type": "execute_result"
    },
    {
     "data": {
      "image/png": "[encoded data removed]",
      "text/plain": [
       "<Figure size 432x288 with 1 Axes>"
      ]
     },
     "metadata": {
      "needs_background": "light"
     },
     "output_type": "display_data"
    }
   ],
   "source": [
    "plt.scatter(YCV_test, YpredLassoCV)"
   ]
  },
  {
   "cell_type": "markdown",
   "metadata": {},
   "source": [
    "### Check top features"
   ]
  },
  {
   "cell_type": "code",
   "execution_count": 74,
   "metadata": {},
   "outputs": [
    {
     "data": {
      "text/plain": [
       "[<matplotlib.lines.Line2D at 0x7ff337a16670>]"
      ]
     },
     "execution_count": 74,
     "metadata": {},
     "output_type": "execute_result"
    },
    {
     "data": {
      "image/png": "[encoded data removed]",
      "text/plain": [
       "<Figure size 432x288 with 1 Axes>"
      ]
     },
     "metadata": {
      "needs_background": "light"
     },
     "output_type": "display_data"
    }
   ],
   "source": [
    "lasso_coef_df = pd.DataFrame(data=lasso_coef)\n",
    "\n",
    "mean_coef=lasso_coef_df.mean()\n",
    "\n",
    "plt.plot(mean_coef,alpha=0.6,linestyle='none',marker='*',markersize=8,color='blue') "
   ]
  },
  {
   "cell_type": "code",
   "execution_count": 75,
   "metadata": {},
   "outputs": [
    {
     "data": {
      "text/plain": [
       "Int64Index([17, 32, 15, 10, 16,  8, 31, 14, 18, 28,  4,  1,  7, 22,  3,  5, 36,\n",
       "            11, 38, 23, 34, 19,  0,  2,  6, 37, 21, 24, 13,  9, 30, 26, 29, 27,\n",
       "            12, 25, 20, 33, 35],\n",
       "           dtype='int64')"
      ]
     },
     "execution_count": 75,
     "metadata": {},
     "output_type": "execute_result"
    }
   ],
   "source": [
    "abs_mean_coef=abs(mean_coef)\n",
    "top_coef=abs_mean_coef.sort_values(ascending=False)\n",
    "top_coef.index"
   ]
  },
  {
   "cell_type": "markdown",
   "metadata": {},
   "source": [
    "## RUN REGRESSION WITH TOP FEATURES"
   ]
  },
  {
   "cell_type": "code",
   "execution_count": 77,
   "metadata": {},
   "outputs": [],
   "source": [
    "# GET ONLY 10 features.\n",
    "\n",
    "\n",
    "all_x = x_19_demog2\n",
    "\n",
    "features_number = 10\n",
    "#get the top n features\n",
    "top_coef=abs_mean_coef.sort_values(ascending=False)\n",
    "\n",
    "lasso10_features = all_x.iloc[:,top_coef.index[0]]\n",
    "\n",
    "for features in range(features_number-1):\n",
    "    lasso10_features = pd.concat([lasso10_features, all_x.iloc[:,top_coef.index[features+1]]], axis = 1)\n",
    "\n",
    "    \n",
    "x_linear = lasso10_features\n",
    "y_linear = y\n",
    "\n",
    "train_number = 10000\n",
    "\n",
    "#initialize\n",
    "linear_r_squared = np.zeros((train_number,1))\n",
    "linear_r_squared_train = np.zeros((train_number,1))\n",
    "linear_coef = np.zeros((train_number,x_linear.shape[1]))\n",
    "\n",
    "for trialNo in range(train_number):\n",
    "    \n",
    "    #split Test and Train set 0.25 %\n",
    "    xlin_train, xlin_test, ylin_train, ylin_test = train_test_split(x_linear, y_linear, test_size=0.25)\n",
    "    \n",
    "    linear_reg = linear_model.LinearRegression()\n",
    "    \n",
    "    model = linear_reg.fit(xlin_train, ylin_train)\n",
    "    \n",
    "    Ypred_lin_train = linear_reg.predict(xlin_train)\n",
    "    Ypred_lin = linear_reg.predict(xlin_test)\n",
    "    \n",
    "    linear_r_squared_train[trialNo] = r2_score(ylin_train, Ypred_lin_train)\n",
    "    linear_r_squared[trialNo] = r2_score(ylin_test, Ypred_lin)\n",
    "    linear_coef[trialNo,:] = linear_reg.coef_"
   ]
  },
  {
   "cell_type": "code",
   "execution_count": 78,
   "metadata": {},
   "outputs": [
    {
     "name": "stderr",
     "output_type": "stream",
     "text": [
      "/Users/Ulkar/opt/anaconda3/envs/insight/lib/python3.8/site-packages/seaborn/distributions.py:2551: FutureWarning: `distplot` is a deprecated function and will be removed in a future version. Please adapt your code to use either `displot` (a figure-level function with similar flexibility) or `histplot` (an axes-level function for histograms).\n",
      "  warnings.warn(msg, FutureWarning)\n"
     ]
    },
    {
     "data": {
      "image/png": "[encoded data removed]",
      "text/plain": [
       "<Figure size 432x288 with 1 Axes>"
      ]
     },
     "metadata": {
      "needs_background": "light"
     },
     "output_type": "display_data"
    }
   ],
   "source": [
    "#Distribution of R-squared\n",
    "r2_df=pd.DataFrame(data=linear_r_squared)\n",
    "r2_df.rename(columns = {0:'coefficient of determination'}, inplace = True) \n",
    "\n",
    "r2_df_train=pd.DataFrame(data=linear_r_squared_train)\n",
    "r2_df_train.rename(columns = {0:'coefficient of determination_train'}, inplace = True) \n",
    "\n",
    "#sb.distplot(r2_df_train)\n",
    "#sb.despine()\n",
    "sb.distplot(r2_df)\n",
    "sb.despine()"
   ]
  },
  {
   "cell_type": "code",
   "execution_count": 79,
   "metadata": {},
   "outputs": [
    {
     "name": "stdout",
     "output_type": "stream",
     "text": [
      "0.3216711696829141\n"
     ]
    }
   ],
   "source": [
    "r2=linear_r_squared.mean()\n",
    "print(r2)"
   ]
  },
  {
   "cell_type": "markdown",
   "metadata": {},
   "source": [
    "### PLOT PREDICTION AGAINS ACTUAL VALUES"
   ]
  },
  {
   "cell_type": "code",
   "execution_count": 80,
   "metadata": {},
   "outputs": [
    {
     "data": {
      "text/plain": [
       "Text(0, 0.5, 'Observed Values')"
      ]
     },
     "execution_count": 80,
     "metadata": {},
     "output_type": "execute_result"
    },
    {
     "data": {
      "image/png": "[encoded data removed]",
      "text/plain": [
       "<Figure size 432x288 with 1 Axes>"
      ]
     },
     "metadata": {
      "needs_background": "light"
     },
     "output_type": "display_data"
    }
   ],
   "source": [
    "plt.scatter(Yl_test, Ypredl)\n",
    "plt.title(\"Employee Satisfaction\")\n",
    "\n",
    "plt.xlabel(\"Predicted Values\")\n",
    "plt.ylabel(\"Observed Values\")"
   ]
  },
  {
   "cell_type": "code",
   "execution_count": 81,
   "metadata": {},
   "outputs": [
    {
     "data": {
      "text/plain": [
       "<seaborn.axisgrid.FacetGrid at 0x7ff337a2ef40>"
      ]
     },
     "execution_count": 81,
     "metadata": {},
     "output_type": "execute_result"
    },
    {
     "data": {
      "image/png": "[encoded data removed]",
      "text/plain": [
       "<Figure size 360x360 with 1 Axes>"
      ]
     },
     "metadata": {
      "needs_background": "light"
     },
     "output_type": "display_data"
    }
   ],
   "source": [
    "\n",
    "plot_pred = pd.DataFrame({'Observed': Yl_test, 'Predicted': Ypredl})\n",
    "sb.lmplot(x='Predicted', y='Observed', data=plot_pred)\n"
   ]
  },
  {
   "cell_type": "code",
   "execution_count": 82,
   "metadata": {},
   "outputs": [
    {
     "data": {
      "text/plain": [
       "[<matplotlib.lines.Line2D at 0x7ff338e54250>]"
      ]
     },
     "execution_count": 82,
     "metadata": {},
     "output_type": "execute_result"
    },
    {
     "data": {
      "image/png": "[encoded data removed]",
      "text/plain": [
       "<Figure size 432x288 with 1 Axes>"
      ]
     },
     "metadata": {
      "needs_background": "light"
     },
     "output_type": "display_data"
    }
   ],
   "source": [
    "#Average weight of the coefficient for each feature\n",
    "linear_coef_df = pd.DataFrame(data=linear_coef)\n",
    "\n",
    "mean_linear_coef=linear_coef_df.mean()\n",
    "\n",
    "plt.plot(mean_linear_coef,alpha=0.7,linestyle='none',marker='o',markersize=10,color='green') "
   ]
  },
  {
   "cell_type": "code",
   "execution_count": 83,
   "metadata": {},
   "outputs": [
    {
     "data": {
      "text/plain": [
       "0    0.259543\n",
       "1    0.190477\n",
       "2    0.155262\n",
       "3   -0.176396\n",
       "4    0.112209\n",
       "5    0.103375\n",
       "6    0.110802\n",
       "7    0.092568\n",
       "8    0.083356\n",
       "9   -0.147142\n",
       "dtype: float64"
      ]
     },
     "execution_count": 83,
     "metadata": {},
     "output_type": "execute_result"
    }
   ],
   "source": [
    "mean_linear_coef"
   ]
  },
  {
   "cell_type": "code",
   "execution_count": 84,
   "metadata": {},
   "outputs": [
    {
     "data": {
      "text/plain": [
       "0    0.259543\n",
       "1    0.190477\n",
       "3    0.176396\n",
       "2    0.155262\n",
       "9    0.147142\n",
       "4    0.112209\n",
       "6    0.110802\n",
       "5    0.103375\n",
       "7    0.092568\n",
       "8    0.083356\n",
       "dtype: float64"
      ]
     },
     "execution_count": 84,
     "metadata": {},
     "output_type": "execute_result"
    }
   ],
   "source": [
    "abs_mean_coef=abs(mean_linear_coef)\n",
    "top_coef=abs_mean_coef.sort_values(ascending=False)\n",
    "top_coef\n"
   ]
  },
  {
   "cell_type": "code",
   "execution_count": 85,
   "metadata": {},
   "outputs": [
    {
     "data": {
      "text/plain": [
       "0    0.259543\n",
       "1    0.190477\n",
       "2    0.155262\n",
       "3   -0.176396\n",
       "4    0.112209\n",
       "5    0.103375\n",
       "6    0.110802\n",
       "7    0.092568\n",
       "8    0.083356\n",
       "9   -0.147142\n",
       "dtype: float64"
      ]
     },
     "execution_count": 85,
     "metadata": {},
     "output_type": "execute_result"
    }
   ],
   "source": [
    "mean_linear_coef"
   ]
  },
  {
   "cell_type": "code",
   "execution_count": 89,
   "metadata": {},
   "outputs": [],
   "source": [
    "mean_linear_coef=pd.DataFrame(mean_linear_coef)\n",
    "list_names=('ti_47', 'state_KY', 'ti_43','ti_22','ti_46', 'ti_20', 'state_IN', 'ti_39', 'ti_54', 'status_T')\n",
    "\n",
    "mean_linear_coef['names']=list_names\n",
    "mean_linear_coef=mean_linear_coef.set_index('names')"
   ]
  },
  {
   "cell_type": "code",
   "execution_count": 90,
   "metadata": {},
   "outputs": [
    {
     "data": {
      "text/plain": [
       "Text(0.5, 1.0, 'Feature Importance')"
      ]
     },
     "execution_count": 90,
     "metadata": {},
     "output_type": "execute_result"
    },
    {
     "data": {
      "image/png": "[encoded data removed]",
      "text/plain": [
       "<Figure size 432x288 with 1 Axes>"
      ]
     },
     "metadata": {
      "needs_background": "light"
     },
     "output_type": "display_data"
    }
   ],
   "source": [
    "my_colors = ['brown','pink', 'red', 'green', 'blue', 'cyan','orange','purple', 'red', 'green']\n",
    "coef= mean_linear_coef[0]\n",
    "coef=coef.sort_values(ascending=False)\n",
    "import matplotlib\n",
    "fig, ax = plt.subplots()\n",
    "matplotlib.rcParams['figure.figsize'] = (6.0, 8.0)\n",
    "coef.plot(kind = \"barh\", color=my_colors)\n",
    "plt.title(\"Feature Importance\")"
   ]
  },
  {
   "cell_type": "markdown",
   "metadata": {},
   "source": [
    "## RANDOM FOREST"
   ]
  },
  {
   "cell_type": "code",
   "execution_count": null,
   "metadata": {},
   "outputs": [],
   "source": [
    "\n",
    "\n",
    "## RUN RANDOM FOREST\n",
    "\n",
    "# decision tree for feature importance on a regression problem\n",
    "from sklearn.ensemble import RandomForestRegressor\n",
    "from sklearn.model_selection import train_test_split\n",
    "\n",
    "X_train, X_test, y_train, y_test = train_test_split(x_linear, y_linear, test_size = 0.2, random_state = 0)\n",
    "\n",
    "\n",
    "# define the model\n",
    "regressor = RandomForestRegressor(n_estimators = 10, random_state = 0)\n",
    "\n",
    "\n",
    "# fit the model\n",
    "regressor.fit(X_train, y_train)\n",
    "\n",
    "# get importance\n",
    "importance = regressor.feature_importances_\n",
    "\n",
    "#summarize feature importance\n",
    "for i,v in enumerate(importance):\n",
    "    print('Feature: %0d, Score: %.5f' % (i,v))\n",
    "\n",
    "# plot feature importance\n",
    "plt.bar([x for x in range(len(importance))], importance)\n",
    "plt.show()\n",
    "\n",
    "y_pred = regressor.predict(X_test)\n",
    "from sklearn.metrics import r2_score\n",
    "r2_score(y_test, y_pred)"
   ]
  }
 ],
 "metadata": {
  "kernelspec": {
   "display_name": "insight",
   "language": "python",
   "name": "insight"
  },
  "language_info": {
   "codemirror_mode": {
    "name": "ipython",
    "version": 3
   },
   "file_extension": ".py",
   "mimetype": "text/x-python",
   "name": "python",
   "nbconvert_exporter": "python",
   "pygments_lexer": "ipython3",
   "version": "3.8.5"
  }
 },
 "nbformat": 4,
 "nbformat_minor": 4
}
