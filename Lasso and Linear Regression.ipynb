{
 "cells": [
  {
   "cell_type": "markdown",
   "metadata": {},
   "source": [
    "# Load all files from DataEDA3 and run Lasso\n",
    "\n",
    "### Load all features and combine them\n",
    "\n",
    "- Answers to 19 questions about managers\n",
    "\n",
    "- manager demographics\n",
    "\n",
    "### Run lasso regression 1000 times\n",
    "\n",
    "- Split the data to test and train 1000 times and run lasso regression (with cross validation for the best alpha to use)\n",
    "\n",
    "- Find the important features\n",
    "\n",
    "- Save the combined features and the results from the lasso regression.\n",
    "\n",
    "### Run Linear regression 1000 times\n",
    "- Plot important features"
   ]
  },
  {
   "cell_type": "code",
   "execution_count": null,
   "metadata": {},
   "outputs": [],
   "source": [
    "import numpy as np\n",
    "import matplotlib.pyplot as plt\n",
    "import pandas as pd\n",
    "\n",
    "import os\n",
    "import pickle\n",
    "\n",
    "from sklearn import preprocessing as pp \n",
    "from scipy.stats import pearsonr\n",
    "from sklearn import linear_model\n",
    "from sklearn.linear_model import Lasso\n",
    "from sklearn.model_selection import train_test_split\n",
    "from sklearn.metrics import r2_score\n",
    "from scipy.stats import pearsonr \n",
    "from sklearn.decomposition import PCA\n",
    "from sklearn.linear_model import LassoCV\n",
    "\n",
    "from scipy.stats import wilcoxon\n",
    "\n",
    "#happiness_dataset.to_pickle(\"./y.pkl\")\n",
    "#x_quest.to_pickle(\"./x_quest19.pkl\")"
   ]
  },
  {
   "cell_type": "code",
   "execution_count": 65,
   "metadata": {},
   "outputs": [],
   "source": [
    "\n",
    "import matplotlib.pyplot as plt\n",
    "import seaborn as sb\n",
    "color = sb.color_palette()\n",
    "%matplotlib inline"
   ]
  },
  {
   "cell_type": "code",
   "execution_count": 4,
   "metadata": {},
   "outputs": [
    {
     "name": "stdout",
     "output_type": "stream",
     "text": [
      "/Users/Ulkar/Google Drive/DATA SCIENCE/Insight Project/Code\n"
     ]
    }
   ],
   "source": [
    "current_path = \"/Users/Ulkar/Google Drive/DATA SCIENCE/Insight Project/Code\"\n",
    "print(current_path)"
   ]
  },
  {
   "cell_type": "code",
   "execution_count": 68,
   "metadata": {},
   "outputs": [],
   "source": [
    "xx_dataset = pd.read_pickle(\"/Users/Ulkar/Google Drive/DATA SCIENCE/Insight Project/Code/xx.pkl\")\n",
    "y_data = pd.read_pickle(\"/Users/Ulkar/Google Drive/DATA SCIENCE/Insight Project/Code/y.pkl\")\n",
    "xx_quest = pd.read_pickle(\"/Users/Ulkar/Google Drive/DATA SCIENCE/Insight Project/Code/x_quest19.pkl\")"
   ]
  },
  {
   "cell_type": "code",
   "execution_count": 69,
   "metadata": {},
   "outputs": [
    {
     "data": {
      "text/html": [
       "<div>\n",
       "<style scoped>\n",
       "    .dataframe tbody tr th:only-of-type {\n",
       "        vertical-align: middle;\n",
       "    }\n",
       "\n",
       "    .dataframe tbody tr th {\n",
       "        vertical-align: top;\n",
       "    }\n",
       "\n",
       "    .dataframe thead th {\n",
       "        text-align: right;\n",
       "    }\n",
       "</style>\n",
       "<table border=\"1\" class=\"dataframe\">\n",
       "  <thead>\n",
       "    <tr style=\"text-align: right;\">\n",
       "      <th></th>\n",
       "      <th>Race1</th>\n",
       "      <th>Race2</th>\n",
       "      <th>Race3</th>\n",
       "      <th>Race4</th>\n",
       "      <th>Race5</th>\n",
       "      <th>Race6</th>\n",
       "      <th>Age</th>\n",
       "      <th>female</th>\n",
       "      <th>tenure</th>\n",
       "      <th>pay</th>\n",
       "    </tr>\n",
       "  </thead>\n",
       "  <tbody>\n",
       "    <tr>\n",
       "      <th>0</th>\n",
       "      <td>0</td>\n",
       "      <td>0</td>\n",
       "      <td>0</td>\n",
       "      <td>0</td>\n",
       "      <td>0</td>\n",
       "      <td>1</td>\n",
       "      <td>1.33126</td>\n",
       "      <td>0.545481</td>\n",
       "      <td>0.179013</td>\n",
       "      <td>-0.0996565</td>\n",
       "    </tr>\n",
       "    <tr>\n",
       "      <th>1</th>\n",
       "      <td>0</td>\n",
       "      <td>0</td>\n",
       "      <td>0</td>\n",
       "      <td>0</td>\n",
       "      <td>0</td>\n",
       "      <td>1</td>\n",
       "      <td>0.0146793</td>\n",
       "      <td>0.545481</td>\n",
       "      <td>-0.769565</td>\n",
       "      <td>-0.0996565</td>\n",
       "    </tr>\n",
       "    <tr>\n",
       "      <th>2</th>\n",
       "      <td>0</td>\n",
       "      <td>0</td>\n",
       "      <td>0</td>\n",
       "      <td>0</td>\n",
       "      <td>0</td>\n",
       "      <td>1</td>\n",
       "      <td>0.419782</td>\n",
       "      <td>-1.83325</td>\n",
       "      <td>2.20098</td>\n",
       "      <td>-0.0996565</td>\n",
       "    </tr>\n",
       "    <tr>\n",
       "      <th>3</th>\n",
       "      <td>0</td>\n",
       "      <td>0</td>\n",
       "      <td>0</td>\n",
       "      <td>0</td>\n",
       "      <td>0</td>\n",
       "      <td>1</td>\n",
       "      <td>2.14147</td>\n",
       "      <td>-1.83325</td>\n",
       "      <td>-0.644752</td>\n",
       "      <td>-0.0996565</td>\n",
       "    </tr>\n",
       "    <tr>\n",
       "      <th>4</th>\n",
       "      <td>0</td>\n",
       "      <td>0</td>\n",
       "      <td>0</td>\n",
       "      <td>0</td>\n",
       "      <td>0</td>\n",
       "      <td>1</td>\n",
       "      <td>0.419782</td>\n",
       "      <td>0.545481</td>\n",
       "      <td>-0.120538</td>\n",
       "      <td>-0.0996565</td>\n",
       "    </tr>\n",
       "    <tr>\n",
       "      <th>...</th>\n",
       "      <td>...</td>\n",
       "      <td>...</td>\n",
       "      <td>...</td>\n",
       "      <td>...</td>\n",
       "      <td>...</td>\n",
       "      <td>...</td>\n",
       "      <td>...</td>\n",
       "      <td>...</td>\n",
       "      <td>...</td>\n",
       "      <td>...</td>\n",
       "    </tr>\n",
       "    <tr>\n",
       "      <th>7936</th>\n",
       "      <td>0</td>\n",
       "      <td>0</td>\n",
       "      <td>0</td>\n",
       "      <td>0</td>\n",
       "      <td>0</td>\n",
       "      <td>1</td>\n",
       "      <td>1.22999</td>\n",
       "      <td>0.545481</td>\n",
       "      <td>-0.81949</td>\n",
       "      <td>-0.293779</td>\n",
       "    </tr>\n",
       "    <tr>\n",
       "      <th>7937</th>\n",
       "      <td>0</td>\n",
       "      <td>0</td>\n",
       "      <td>0</td>\n",
       "      <td>0</td>\n",
       "      <td>0</td>\n",
       "      <td>1</td>\n",
       "      <td>0.419782</td>\n",
       "      <td>0.545481</td>\n",
       "      <td>-0.295276</td>\n",
       "      <td>0.404066</td>\n",
       "    </tr>\n",
       "    <tr>\n",
       "      <th>7938</th>\n",
       "      <td>0</td>\n",
       "      <td>0</td>\n",
       "      <td>0</td>\n",
       "      <td>0</td>\n",
       "      <td>0</td>\n",
       "      <td>1</td>\n",
       "      <td>1.33126</td>\n",
       "      <td>0.545481</td>\n",
       "      <td>-0.370164</td>\n",
       "      <td>-1.35681</td>\n",
       "    </tr>\n",
       "    <tr>\n",
       "      <th>7939</th>\n",
       "      <td>0</td>\n",
       "      <td>0</td>\n",
       "      <td>0</td>\n",
       "      <td>0</td>\n",
       "      <td>0</td>\n",
       "      <td>1</td>\n",
       "      <td>-0.795526</td>\n",
       "      <td>-1.83325</td>\n",
       "      <td>0.378714</td>\n",
       "      <td>0.765189</td>\n",
       "    </tr>\n",
       "    <tr>\n",
       "      <th>7940</th>\n",
       "      <td>0</td>\n",
       "      <td>0</td>\n",
       "      <td>0</td>\n",
       "      <td>0</td>\n",
       "      <td>0</td>\n",
       "      <td>1</td>\n",
       "      <td>-1.09935</td>\n",
       "      <td>0.545481</td>\n",
       "      <td>-0.470014</td>\n",
       "      <td>0.0949972</td>\n",
       "    </tr>\n",
       "  </tbody>\n",
       "</table>\n",
       "<p>7941 rows × 10 columns</p>\n",
       "</div>"
      ],
      "text/plain": [
       "     Race1 Race2 Race3 Race4 Race5 Race6        Age    female    tenure  \\\n",
       "0        0     0     0     0     0     1    1.33126  0.545481  0.179013   \n",
       "1        0     0     0     0     0     1  0.0146793  0.545481 -0.769565   \n",
       "2        0     0     0     0     0     1   0.419782  -1.83325   2.20098   \n",
       "3        0     0     0     0     0     1    2.14147  -1.83325 -0.644752   \n",
       "4        0     0     0     0     0     1   0.419782  0.545481 -0.120538   \n",
       "...    ...   ...   ...   ...   ...   ...        ...       ...       ...   \n",
       "7936     0     0     0     0     0     1    1.22999  0.545481  -0.81949   \n",
       "7937     0     0     0     0     0     1   0.419782  0.545481 -0.295276   \n",
       "7938     0     0     0     0     0     1    1.33126  0.545481 -0.370164   \n",
       "7939     0     0     0     0     0     1  -0.795526  -1.83325  0.378714   \n",
       "7940     0     0     0     0     0     1   -1.09935  0.545481 -0.470014   \n",
       "\n",
       "            pay  \n",
       "0    -0.0996565  \n",
       "1    -0.0996565  \n",
       "2    -0.0996565  \n",
       "3    -0.0996565  \n",
       "4    -0.0996565  \n",
       "...         ...  \n",
       "7936  -0.293779  \n",
       "7937   0.404066  \n",
       "7938   -1.35681  \n",
       "7939   0.765189  \n",
       "7940  0.0949972  \n",
       "\n",
       "[7941 rows x 10 columns]"
      ]
     },
     "execution_count": 69,
     "metadata": {},
     "output_type": "execute_result"
    }
   ],
   "source": [
    "xx_quest=xx_quest.reset_index(drop=True)\n",
    "xx_dataset=xx_dataset.reset_index(drop=True)\n",
    "xx_dataset=xx_dataset.iloc[:, :-1]\n",
    "xx_dataset"
   ]
  },
  {
   "cell_type": "code",
   "execution_count": 70,
   "metadata": {},
   "outputs": [],
   "source": [
    "from sklearn.preprocessing import StandardScaler\n",
    "sc = StandardScaler()\n",
    "happiness_dataset = sc.fit_transform(y_data)\n",
    "xx_quest[[\"ti_6\", \"ti_7\", \"ti_9\", \"ti_13\", \"ti_14\", \"ti_15\", \"ti_18\", \n",
    "          \"ti_19\", \"ti_20\", \"ti_21\", \"ti_22\", \"ti_24\", \"ti_31\",\n",
    "        \"ti_34\", \"ti_39\", \"ti_43\", \"ti_46\", \"ti_47\", \"ti_54\"]] = sc.fit_transform(xx_quest[[\"ti_6\", \"ti_7\", \"ti_9\", \"ti_13\", \"ti_14\", \"ti_15\", \"ti_18\", \n",
    "          \"ti_19\", \"ti_20\", \"ti_21\", \"ti_22\", \"ti_24\", \"ti_31\",\n",
    "        \"ti_34\", \"ti_39\", \"ti_43\", \"ti_46\", \"ti_47\", \"ti_54\"]])\n",
    "\n",
    "\n"
   ]
  },
  {
   "cell_type": "code",
   "execution_count": 83,
   "metadata": {},
   "outputs": [
    {
     "data": {
      "text/plain": [
       "Index(['Race1', 'Race2', 'Race3', 'Race4', 'Race5', 'Race6', 'Age', 'female',\n",
       "       'tenure', 'pay', 'ti_6', 'ti_7', 'ti_9', 'ti_13', 'ti_14', 'ti_15',\n",
       "       'ti_18', 'ti_19', 'ti_20', 'ti_21', 'ti_22', 'ti_24', 'ti_31', 'ti_34',\n",
       "       'ti_39', 'ti_43', 'ti_46', 'ti_47', 'ti_54'],\n",
       "      dtype='object')"
      ]
     },
     "execution_count": 83,
     "metadata": {},
     "output_type": "execute_result"
    }
   ],
   "source": [
    "xx=pd.concat([xx_dataset, xx_quest], axis=1)\n",
    "xx.columns"
   ]
  },
  {
   "cell_type": "markdown",
   "metadata": {},
   "source": [
    "## LASSO"
   ]
  },
  {
   "cell_type": "code",
   "execution_count": 72,
   "metadata": {},
   "outputs": [
    {
     "name": "stderr",
     "output_type": "stream",
     "text": [
      "/Users/Ulkar/opt/anaconda3/envs/insight/lib/python3.8/site-packages/sklearn/utils/validation.py:72: DataConversionWarning: A column-vector y was passed when a 1d array was expected. Please change the shape of y to (n_samples, ), for example using ravel().\n",
      "  return f(**kwargs)\n",
      "/Users/Ulkar/opt/anaconda3/envs/insight/lib/python3.8/site-packages/sklearn/utils/validation.py:72: DataConversionWarning: A column-vector y was passed when a 1d array was expected. Please change the shape of y to (n_samples, ), for example using ravel().\n",
      "  return f(**kwargs)\n",
      "/Users/Ulkar/opt/anaconda3/envs/insight/lib/python3.8/site-packages/sklearn/utils/validation.py:72: DataConversionWarning: A column-vector y was passed when a 1d array was expected. Please change the shape of y to (n_samples, ), for example using ravel().\n",
      "  return f(**kwargs)\n",
      "/Users/Ulkar/opt/anaconda3/envs/insight/lib/python3.8/site-packages/sklearn/utils/validation.py:72: DataConversionWarning: A column-vector y was passed when a 1d array was expected. Please change the shape of y to (n_samples, ), for example using ravel().\n",
      "  return f(**kwargs)\n",
      "/Users/Ulkar/opt/anaconda3/envs/insight/lib/python3.8/site-packages/sklearn/utils/validation.py:72: DataConversionWarning: A column-vector y was passed when a 1d array was expected. Please change the shape of y to (n_samples, ), for example using ravel().\n",
      "  return f(**kwargs)\n",
      "/Users/Ulkar/opt/anaconda3/envs/insight/lib/python3.8/site-packages/sklearn/utils/validation.py:72: DataConversionWarning: A column-vector y was passed when a 1d array was expected. Please change the shape of y to (n_samples, ), for example using ravel().\n",
      "  return f(**kwargs)\n",
      "/Users/Ulkar/opt/anaconda3/envs/insight/lib/python3.8/site-packages/sklearn/utils/validation.py:72: DataConversionWarning: A column-vector y was passed when a 1d array was expected. Please change the shape of y to (n_samples, ), for example using ravel().\n",
      "  return f(**kwargs)\n",
      "/Users/Ulkar/opt/anaconda3/envs/insight/lib/python3.8/site-packages/sklearn/utils/validation.py:72: DataConversionWarning: A column-vector y was passed when a 1d array was expected. Please change the shape of y to (n_samples, ), for example using ravel().\n",
      "  return f(**kwargs)\n",
      "/Users/Ulkar/opt/anaconda3/envs/insight/lib/python3.8/site-packages/sklearn/utils/validation.py:72: DataConversionWarning: A column-vector y was passed when a 1d array was expected. Please change the shape of y to (n_samples, ), for example using ravel().\n",
      "  return f(**kwargs)\n",
      "/Users/Ulkar/opt/anaconda3/envs/insight/lib/python3.8/site-packages/sklearn/utils/validation.py:72: DataConversionWarning: A column-vector y was passed when a 1d array was expected. Please change the shape of y to (n_samples, ), for example using ravel().\n",
      "  return f(**kwargs)\n",
      "/Users/Ulkar/opt/anaconda3/envs/insight/lib/python3.8/site-packages/sklearn/utils/validation.py:72: DataConversionWarning: A column-vector y was passed when a 1d array was expected. Please change the shape of y to (n_samples, ), for example using ravel().\n",
      "  return f(**kwargs)\n",
      "/Users/Ulkar/opt/anaconda3/envs/insight/lib/python3.8/site-packages/sklearn/utils/validation.py:72: DataConversionWarning: A column-vector y was passed when a 1d array was expected. Please change the shape of y to (n_samples, ), for example using ravel().\n",
      "  return f(**kwargs)\n",
      "/Users/Ulkar/opt/anaconda3/envs/insight/lib/python3.8/site-packages/sklearn/utils/validation.py:72: DataConversionWarning: A column-vector y was passed when a 1d array was expected. Please change the shape of y to (n_samples, ), for example using ravel().\n",
      "  return f(**kwargs)\n",
      "/Users/Ulkar/opt/anaconda3/envs/insight/lib/python3.8/site-packages/sklearn/utils/validation.py:72: DataConversionWarning: A column-vector y was passed when a 1d array was expected. Please change the shape of y to (n_samples, ), for example using ravel().\n",
      "  return f(**kwargs)\n",
      "/Users/Ulkar/opt/anaconda3/envs/insight/lib/python3.8/site-packages/sklearn/utils/validation.py:72: DataConversionWarning: A column-vector y was passed when a 1d array was expected. Please change the shape of y to (n_samples, ), for example using ravel().\n",
      "  return f(**kwargs)\n",
      "/Users/Ulkar/opt/anaconda3/envs/insight/lib/python3.8/site-packages/sklearn/utils/validation.py:72: DataConversionWarning: A column-vector y was passed when a 1d array was expected. Please change the shape of y to (n_samples, ), for example using ravel().\n",
      "  return f(**kwargs)\n",
      "/Users/Ulkar/opt/anaconda3/envs/insight/lib/python3.8/site-packages/sklearn/utils/validation.py:72: DataConversionWarning: A column-vector y was passed when a 1d array was expected. Please change the shape of y to (n_samples, ), for example using ravel().\n",
      "  return f(**kwargs)\n",
      "/Users/Ulkar/opt/anaconda3/envs/insight/lib/python3.8/site-packages/sklearn/utils/validation.py:72: DataConversionWarning: A column-vector y was passed when a 1d array was expected. Please change the shape of y to (n_samples, ), for example using ravel().\n",
      "  return f(**kwargs)\n",
      "/Users/Ulkar/opt/anaconda3/envs/insight/lib/python3.8/site-packages/sklearn/utils/validation.py:72: DataConversionWarning: A column-vector y was passed when a 1d array was expected. Please change the shape of y to (n_samples, ), for example using ravel().\n",
      "  return f(**kwargs)\n",
      "/Users/Ulkar/opt/anaconda3/envs/insight/lib/python3.8/site-packages/sklearn/utils/validation.py:72: DataConversionWarning: A column-vector y was passed when a 1d array was expected. Please change the shape of y to (n_samples, ), for example using ravel().\n",
      "  return f(**kwargs)\n",
      "/Users/Ulkar/opt/anaconda3/envs/insight/lib/python3.8/site-packages/sklearn/utils/validation.py:72: DataConversionWarning: A column-vector y was passed when a 1d array was expected. Please change the shape of y to (n_samples, ), for example using ravel().\n",
      "  return f(**kwargs)\n",
      "/Users/Ulkar/opt/anaconda3/envs/insight/lib/python3.8/site-packages/sklearn/utils/validation.py:72: DataConversionWarning: A column-vector y was passed when a 1d array was expected. Please change the shape of y to (n_samples, ), for example using ravel().\n",
      "  return f(**kwargs)\n",
      "/Users/Ulkar/opt/anaconda3/envs/insight/lib/python3.8/site-packages/sklearn/utils/validation.py:72: DataConversionWarning: A column-vector y was passed when a 1d array was expected. Please change the shape of y to (n_samples, ), for example using ravel().\n",
      "  return f(**kwargs)\n",
      "/Users/Ulkar/opt/anaconda3/envs/insight/lib/python3.8/site-packages/sklearn/utils/validation.py:72: DataConversionWarning: A column-vector y was passed when a 1d array was expected. Please change the shape of y to (n_samples, ), for example using ravel().\n",
      "  return f(**kwargs)\n",
      "/Users/Ulkar/opt/anaconda3/envs/insight/lib/python3.8/site-packages/sklearn/utils/validation.py:72: DataConversionWarning: A column-vector y was passed when a 1d array was expected. Please change the shape of y to (n_samples, ), for example using ravel().\n",
      "  return f(**kwargs)\n",
      "/Users/Ulkar/opt/anaconda3/envs/insight/lib/python3.8/site-packages/sklearn/utils/validation.py:72: DataConversionWarning: A column-vector y was passed when a 1d array was expected. Please change the shape of y to (n_samples, ), for example using ravel().\n",
      "  return f(**kwargs)\n",
      "/Users/Ulkar/opt/anaconda3/envs/insight/lib/python3.8/site-packages/sklearn/utils/validation.py:72: DataConversionWarning: A column-vector y was passed when a 1d array was expected. Please change the shape of y to (n_samples, ), for example using ravel().\n",
      "  return f(**kwargs)\n",
      "/Users/Ulkar/opt/anaconda3/envs/insight/lib/python3.8/site-packages/sklearn/utils/validation.py:72: DataConversionWarning: A column-vector y was passed when a 1d array was expected. Please change the shape of y to (n_samples, ), for example using ravel().\n",
      "  return f(**kwargs)\n",
      "/Users/Ulkar/opt/anaconda3/envs/insight/lib/python3.8/site-packages/sklearn/utils/validation.py:72: DataConversionWarning: A column-vector y was passed when a 1d array was expected. Please change the shape of y to (n_samples, ), for example using ravel().\n",
      "  return f(**kwargs)\n",
      "/Users/Ulkar/opt/anaconda3/envs/insight/lib/python3.8/site-packages/sklearn/utils/validation.py:72: DataConversionWarning: A column-vector y was passed when a 1d array was expected. Please change the shape of y to (n_samples, ), for example using ravel().\n",
      "  return f(**kwargs)\n"
     ]
    },
    {
     "name": "stderr",
     "output_type": "stream",
     "text": [
      "/Users/Ulkar/opt/anaconda3/envs/insight/lib/python3.8/site-packages/sklearn/utils/validation.py:72: DataConversionWarning: A column-vector y was passed when a 1d array was expected. Please change the shape of y to (n_samples, ), for example using ravel().\n",
      "  return f(**kwargs)\n",
      "/Users/Ulkar/opt/anaconda3/envs/insight/lib/python3.8/site-packages/sklearn/utils/validation.py:72: DataConversionWarning: A column-vector y was passed when a 1d array was expected. Please change the shape of y to (n_samples, ), for example using ravel().\n",
      "  return f(**kwargs)\n",
      "/Users/Ulkar/opt/anaconda3/envs/insight/lib/python3.8/site-packages/sklearn/utils/validation.py:72: DataConversionWarning: A column-vector y was passed when a 1d array was expected. Please change the shape of y to (n_samples, ), for example using ravel().\n",
      "  return f(**kwargs)\n",
      "/Users/Ulkar/opt/anaconda3/envs/insight/lib/python3.8/site-packages/sklearn/utils/validation.py:72: DataConversionWarning: A column-vector y was passed when a 1d array was expected. Please change the shape of y to (n_samples, ), for example using ravel().\n",
      "  return f(**kwargs)\n",
      "/Users/Ulkar/opt/anaconda3/envs/insight/lib/python3.8/site-packages/sklearn/utils/validation.py:72: DataConversionWarning: A column-vector y was passed when a 1d array was expected. Please change the shape of y to (n_samples, ), for example using ravel().\n",
      "  return f(**kwargs)\n",
      "/Users/Ulkar/opt/anaconda3/envs/insight/lib/python3.8/site-packages/sklearn/utils/validation.py:72: DataConversionWarning: A column-vector y was passed when a 1d array was expected. Please change the shape of y to (n_samples, ), for example using ravel().\n",
      "  return f(**kwargs)\n",
      "/Users/Ulkar/opt/anaconda3/envs/insight/lib/python3.8/site-packages/sklearn/utils/validation.py:72: DataConversionWarning: A column-vector y was passed when a 1d array was expected. Please change the shape of y to (n_samples, ), for example using ravel().\n",
      "  return f(**kwargs)\n",
      "/Users/Ulkar/opt/anaconda3/envs/insight/lib/python3.8/site-packages/sklearn/utils/validation.py:72: DataConversionWarning: A column-vector y was passed when a 1d array was expected. Please change the shape of y to (n_samples, ), for example using ravel().\n",
      "  return f(**kwargs)\n",
      "/Users/Ulkar/opt/anaconda3/envs/insight/lib/python3.8/site-packages/sklearn/utils/validation.py:72: DataConversionWarning: A column-vector y was passed when a 1d array was expected. Please change the shape of y to (n_samples, ), for example using ravel().\n",
      "  return f(**kwargs)\n",
      "/Users/Ulkar/opt/anaconda3/envs/insight/lib/python3.8/site-packages/sklearn/utils/validation.py:72: DataConversionWarning: A column-vector y was passed when a 1d array was expected. Please change the shape of y to (n_samples, ), for example using ravel().\n",
      "  return f(**kwargs)\n",
      "/Users/Ulkar/opt/anaconda3/envs/insight/lib/python3.8/site-packages/sklearn/utils/validation.py:72: DataConversionWarning: A column-vector y was passed when a 1d array was expected. Please change the shape of y to (n_samples, ), for example using ravel().\n",
      "  return f(**kwargs)\n",
      "/Users/Ulkar/opt/anaconda3/envs/insight/lib/python3.8/site-packages/sklearn/utils/validation.py:72: DataConversionWarning: A column-vector y was passed when a 1d array was expected. Please change the shape of y to (n_samples, ), for example using ravel().\n",
      "  return f(**kwargs)\n",
      "/Users/Ulkar/opt/anaconda3/envs/insight/lib/python3.8/site-packages/sklearn/utils/validation.py:72: DataConversionWarning: A column-vector y was passed when a 1d array was expected. Please change the shape of y to (n_samples, ), for example using ravel().\n",
      "  return f(**kwargs)\n",
      "/Users/Ulkar/opt/anaconda3/envs/insight/lib/python3.8/site-packages/sklearn/utils/validation.py:72: DataConversionWarning: A column-vector y was passed when a 1d array was expected. Please change the shape of y to (n_samples, ), for example using ravel().\n",
      "  return f(**kwargs)\n",
      "/Users/Ulkar/opt/anaconda3/envs/insight/lib/python3.8/site-packages/sklearn/utils/validation.py:72: DataConversionWarning: A column-vector y was passed when a 1d array was expected. Please change the shape of y to (n_samples, ), for example using ravel().\n",
      "  return f(**kwargs)\n",
      "/Users/Ulkar/opt/anaconda3/envs/insight/lib/python3.8/site-packages/sklearn/utils/validation.py:72: DataConversionWarning: A column-vector y was passed when a 1d array was expected. Please change the shape of y to (n_samples, ), for example using ravel().\n",
      "  return f(**kwargs)\n",
      "/Users/Ulkar/opt/anaconda3/envs/insight/lib/python3.8/site-packages/sklearn/utils/validation.py:72: DataConversionWarning: A column-vector y was passed when a 1d array was expected. Please change the shape of y to (n_samples, ), for example using ravel().\n",
      "  return f(**kwargs)\n",
      "/Users/Ulkar/opt/anaconda3/envs/insight/lib/python3.8/site-packages/sklearn/utils/validation.py:72: DataConversionWarning: A column-vector y was passed when a 1d array was expected. Please change the shape of y to (n_samples, ), for example using ravel().\n",
      "  return f(**kwargs)\n",
      "/Users/Ulkar/opt/anaconda3/envs/insight/lib/python3.8/site-packages/sklearn/utils/validation.py:72: DataConversionWarning: A column-vector y was passed when a 1d array was expected. Please change the shape of y to (n_samples, ), for example using ravel().\n",
      "  return f(**kwargs)\n",
      "/Users/Ulkar/opt/anaconda3/envs/insight/lib/python3.8/site-packages/sklearn/utils/validation.py:72: DataConversionWarning: A column-vector y was passed when a 1d array was expected. Please change the shape of y to (n_samples, ), for example using ravel().\n",
      "  return f(**kwargs)\n",
      "/Users/Ulkar/opt/anaconda3/envs/insight/lib/python3.8/site-packages/sklearn/utils/validation.py:72: DataConversionWarning: A column-vector y was passed when a 1d array was expected. Please change the shape of y to (n_samples, ), for example using ravel().\n",
      "  return f(**kwargs)\n",
      "/Users/Ulkar/opt/anaconda3/envs/insight/lib/python3.8/site-packages/sklearn/utils/validation.py:72: DataConversionWarning: A column-vector y was passed when a 1d array was expected. Please change the shape of y to (n_samples, ), for example using ravel().\n",
      "  return f(**kwargs)\n",
      "/Users/Ulkar/opt/anaconda3/envs/insight/lib/python3.8/site-packages/sklearn/utils/validation.py:72: DataConversionWarning: A column-vector y was passed when a 1d array was expected. Please change the shape of y to (n_samples, ), for example using ravel().\n",
      "  return f(**kwargs)\n",
      "/Users/Ulkar/opt/anaconda3/envs/insight/lib/python3.8/site-packages/sklearn/utils/validation.py:72: DataConversionWarning: A column-vector y was passed when a 1d array was expected. Please change the shape of y to (n_samples, ), for example using ravel().\n",
      "  return f(**kwargs)\n",
      "/Users/Ulkar/opt/anaconda3/envs/insight/lib/python3.8/site-packages/sklearn/utils/validation.py:72: DataConversionWarning: A column-vector y was passed when a 1d array was expected. Please change the shape of y to (n_samples, ), for example using ravel().\n",
      "  return f(**kwargs)\n",
      "/Users/Ulkar/opt/anaconda3/envs/insight/lib/python3.8/site-packages/sklearn/utils/validation.py:72: DataConversionWarning: A column-vector y was passed when a 1d array was expected. Please change the shape of y to (n_samples, ), for example using ravel().\n",
      "  return f(**kwargs)\n",
      "/Users/Ulkar/opt/anaconda3/envs/insight/lib/python3.8/site-packages/sklearn/utils/validation.py:72: DataConversionWarning: A column-vector y was passed when a 1d array was expected. Please change the shape of y to (n_samples, ), for example using ravel().\n",
      "  return f(**kwargs)\n",
      "/Users/Ulkar/opt/anaconda3/envs/insight/lib/python3.8/site-packages/sklearn/utils/validation.py:72: DataConversionWarning: A column-vector y was passed when a 1d array was expected. Please change the shape of y to (n_samples, ), for example using ravel().\n",
      "  return f(**kwargs)\n",
      "/Users/Ulkar/opt/anaconda3/envs/insight/lib/python3.8/site-packages/sklearn/utils/validation.py:72: DataConversionWarning: A column-vector y was passed when a 1d array was expected. Please change the shape of y to (n_samples, ), for example using ravel().\n",
      "  return f(**kwargs)\n",
      "/Users/Ulkar/opt/anaconda3/envs/insight/lib/python3.8/site-packages/sklearn/utils/validation.py:72: DataConversionWarning: A column-vector y was passed when a 1d array was expected. Please change the shape of y to (n_samples, ), for example using ravel().\n",
      "  return f(**kwargs)\n"
     ]
    },
    {
     "name": "stderr",
     "output_type": "stream",
     "text": [
      "/Users/Ulkar/opt/anaconda3/envs/insight/lib/python3.8/site-packages/sklearn/utils/validation.py:72: DataConversionWarning: A column-vector y was passed when a 1d array was expected. Please change the shape of y to (n_samples, ), for example using ravel().\n",
      "  return f(**kwargs)\n",
      "/Users/Ulkar/opt/anaconda3/envs/insight/lib/python3.8/site-packages/sklearn/utils/validation.py:72: DataConversionWarning: A column-vector y was passed when a 1d array was expected. Please change the shape of y to (n_samples, ), for example using ravel().\n",
      "  return f(**kwargs)\n",
      "/Users/Ulkar/opt/anaconda3/envs/insight/lib/python3.8/site-packages/sklearn/utils/validation.py:72: DataConversionWarning: A column-vector y was passed when a 1d array was expected. Please change the shape of y to (n_samples, ), for example using ravel().\n",
      "  return f(**kwargs)\n",
      "/Users/Ulkar/opt/anaconda3/envs/insight/lib/python3.8/site-packages/sklearn/utils/validation.py:72: DataConversionWarning: A column-vector y was passed when a 1d array was expected. Please change the shape of y to (n_samples, ), for example using ravel().\n",
      "  return f(**kwargs)\n",
      "/Users/Ulkar/opt/anaconda3/envs/insight/lib/python3.8/site-packages/sklearn/utils/validation.py:72: DataConversionWarning: A column-vector y was passed when a 1d array was expected. Please change the shape of y to (n_samples, ), for example using ravel().\n",
      "  return f(**kwargs)\n",
      "/Users/Ulkar/opt/anaconda3/envs/insight/lib/python3.8/site-packages/sklearn/utils/validation.py:72: DataConversionWarning: A column-vector y was passed when a 1d array was expected. Please change the shape of y to (n_samples, ), for example using ravel().\n",
      "  return f(**kwargs)\n",
      "/Users/Ulkar/opt/anaconda3/envs/insight/lib/python3.8/site-packages/sklearn/utils/validation.py:72: DataConversionWarning: A column-vector y was passed when a 1d array was expected. Please change the shape of y to (n_samples, ), for example using ravel().\n",
      "  return f(**kwargs)\n",
      "/Users/Ulkar/opt/anaconda3/envs/insight/lib/python3.8/site-packages/sklearn/utils/validation.py:72: DataConversionWarning: A column-vector y was passed when a 1d array was expected. Please change the shape of y to (n_samples, ), for example using ravel().\n",
      "  return f(**kwargs)\n",
      "/Users/Ulkar/opt/anaconda3/envs/insight/lib/python3.8/site-packages/sklearn/utils/validation.py:72: DataConversionWarning: A column-vector y was passed when a 1d array was expected. Please change the shape of y to (n_samples, ), for example using ravel().\n",
      "  return f(**kwargs)\n",
      "/Users/Ulkar/opt/anaconda3/envs/insight/lib/python3.8/site-packages/sklearn/utils/validation.py:72: DataConversionWarning: A column-vector y was passed when a 1d array was expected. Please change the shape of y to (n_samples, ), for example using ravel().\n",
      "  return f(**kwargs)\n",
      "/Users/Ulkar/opt/anaconda3/envs/insight/lib/python3.8/site-packages/sklearn/utils/validation.py:72: DataConversionWarning: A column-vector y was passed when a 1d array was expected. Please change the shape of y to (n_samples, ), for example using ravel().\n",
      "  return f(**kwargs)\n",
      "/Users/Ulkar/opt/anaconda3/envs/insight/lib/python3.8/site-packages/sklearn/utils/validation.py:72: DataConversionWarning: A column-vector y was passed when a 1d array was expected. Please change the shape of y to (n_samples, ), for example using ravel().\n",
      "  return f(**kwargs)\n",
      "/Users/Ulkar/opt/anaconda3/envs/insight/lib/python3.8/site-packages/sklearn/utils/validation.py:72: DataConversionWarning: A column-vector y was passed when a 1d array was expected. Please change the shape of y to (n_samples, ), for example using ravel().\n",
      "  return f(**kwargs)\n",
      "/Users/Ulkar/opt/anaconda3/envs/insight/lib/python3.8/site-packages/sklearn/utils/validation.py:72: DataConversionWarning: A column-vector y was passed when a 1d array was expected. Please change the shape of y to (n_samples, ), for example using ravel().\n",
      "  return f(**kwargs)\n",
      "/Users/Ulkar/opt/anaconda3/envs/insight/lib/python3.8/site-packages/sklearn/utils/validation.py:72: DataConversionWarning: A column-vector y was passed when a 1d array was expected. Please change the shape of y to (n_samples, ), for example using ravel().\n",
      "  return f(**kwargs)\n",
      "/Users/Ulkar/opt/anaconda3/envs/insight/lib/python3.8/site-packages/sklearn/utils/validation.py:72: DataConversionWarning: A column-vector y was passed when a 1d array was expected. Please change the shape of y to (n_samples, ), for example using ravel().\n",
      "  return f(**kwargs)\n",
      "/Users/Ulkar/opt/anaconda3/envs/insight/lib/python3.8/site-packages/sklearn/utils/validation.py:72: DataConversionWarning: A column-vector y was passed when a 1d array was expected. Please change the shape of y to (n_samples, ), for example using ravel().\n",
      "  return f(**kwargs)\n",
      "/Users/Ulkar/opt/anaconda3/envs/insight/lib/python3.8/site-packages/sklearn/utils/validation.py:72: DataConversionWarning: A column-vector y was passed when a 1d array was expected. Please change the shape of y to (n_samples, ), for example using ravel().\n",
      "  return f(**kwargs)\n",
      "/Users/Ulkar/opt/anaconda3/envs/insight/lib/python3.8/site-packages/sklearn/utils/validation.py:72: DataConversionWarning: A column-vector y was passed when a 1d array was expected. Please change the shape of y to (n_samples, ), for example using ravel().\n",
      "  return f(**kwargs)\n",
      "/Users/Ulkar/opt/anaconda3/envs/insight/lib/python3.8/site-packages/sklearn/utils/validation.py:72: DataConversionWarning: A column-vector y was passed when a 1d array was expected. Please change the shape of y to (n_samples, ), for example using ravel().\n",
      "  return f(**kwargs)\n",
      "/Users/Ulkar/opt/anaconda3/envs/insight/lib/python3.8/site-packages/sklearn/utils/validation.py:72: DataConversionWarning: A column-vector y was passed when a 1d array was expected. Please change the shape of y to (n_samples, ), for example using ravel().\n",
      "  return f(**kwargs)\n",
      "/Users/Ulkar/opt/anaconda3/envs/insight/lib/python3.8/site-packages/sklearn/utils/validation.py:72: DataConversionWarning: A column-vector y was passed when a 1d array was expected. Please change the shape of y to (n_samples, ), for example using ravel().\n",
      "  return f(**kwargs)\n",
      "/Users/Ulkar/opt/anaconda3/envs/insight/lib/python3.8/site-packages/sklearn/utils/validation.py:72: DataConversionWarning: A column-vector y was passed when a 1d array was expected. Please change the shape of y to (n_samples, ), for example using ravel().\n",
      "  return f(**kwargs)\n",
      "/Users/Ulkar/opt/anaconda3/envs/insight/lib/python3.8/site-packages/sklearn/utils/validation.py:72: DataConversionWarning: A column-vector y was passed when a 1d array was expected. Please change the shape of y to (n_samples, ), for example using ravel().\n",
      "  return f(**kwargs)\n",
      "/Users/Ulkar/opt/anaconda3/envs/insight/lib/python3.8/site-packages/sklearn/utils/validation.py:72: DataConversionWarning: A column-vector y was passed when a 1d array was expected. Please change the shape of y to (n_samples, ), for example using ravel().\n",
      "  return f(**kwargs)\n",
      "/Users/Ulkar/opt/anaconda3/envs/insight/lib/python3.8/site-packages/sklearn/utils/validation.py:72: DataConversionWarning: A column-vector y was passed when a 1d array was expected. Please change the shape of y to (n_samples, ), for example using ravel().\n",
      "  return f(**kwargs)\n",
      "/Users/Ulkar/opt/anaconda3/envs/insight/lib/python3.8/site-packages/sklearn/utils/validation.py:72: DataConversionWarning: A column-vector y was passed when a 1d array was expected. Please change the shape of y to (n_samples, ), for example using ravel().\n",
      "  return f(**kwargs)\n",
      "/Users/Ulkar/opt/anaconda3/envs/insight/lib/python3.8/site-packages/sklearn/utils/validation.py:72: DataConversionWarning: A column-vector y was passed when a 1d array was expected. Please change the shape of y to (n_samples, ), for example using ravel().\n",
      "  return f(**kwargs)\n",
      "/Users/Ulkar/opt/anaconda3/envs/insight/lib/python3.8/site-packages/sklearn/utils/validation.py:72: DataConversionWarning: A column-vector y was passed when a 1d array was expected. Please change the shape of y to (n_samples, ), for example using ravel().\n",
      "  return f(**kwargs)\n",
      "/Users/Ulkar/opt/anaconda3/envs/insight/lib/python3.8/site-packages/sklearn/utils/validation.py:72: DataConversionWarning: A column-vector y was passed when a 1d array was expected. Please change the shape of y to (n_samples, ), for example using ravel().\n",
      "  return f(**kwargs)\n"
     ]
    },
    {
     "name": "stderr",
     "output_type": "stream",
     "text": [
      "/Users/Ulkar/opt/anaconda3/envs/insight/lib/python3.8/site-packages/sklearn/utils/validation.py:72: DataConversionWarning: A column-vector y was passed when a 1d array was expected. Please change the shape of y to (n_samples, ), for example using ravel().\n",
      "  return f(**kwargs)\n",
      "/Users/Ulkar/opt/anaconda3/envs/insight/lib/python3.8/site-packages/sklearn/utils/validation.py:72: DataConversionWarning: A column-vector y was passed when a 1d array was expected. Please change the shape of y to (n_samples, ), for example using ravel().\n",
      "  return f(**kwargs)\n",
      "/Users/Ulkar/opt/anaconda3/envs/insight/lib/python3.8/site-packages/sklearn/utils/validation.py:72: DataConversionWarning: A column-vector y was passed when a 1d array was expected. Please change the shape of y to (n_samples, ), for example using ravel().\n",
      "  return f(**kwargs)\n",
      "/Users/Ulkar/opt/anaconda3/envs/insight/lib/python3.8/site-packages/sklearn/utils/validation.py:72: DataConversionWarning: A column-vector y was passed when a 1d array was expected. Please change the shape of y to (n_samples, ), for example using ravel().\n",
      "  return f(**kwargs)\n",
      "/Users/Ulkar/opt/anaconda3/envs/insight/lib/python3.8/site-packages/sklearn/utils/validation.py:72: DataConversionWarning: A column-vector y was passed when a 1d array was expected. Please change the shape of y to (n_samples, ), for example using ravel().\n",
      "  return f(**kwargs)\n",
      "/Users/Ulkar/opt/anaconda3/envs/insight/lib/python3.8/site-packages/sklearn/utils/validation.py:72: DataConversionWarning: A column-vector y was passed when a 1d array was expected. Please change the shape of y to (n_samples, ), for example using ravel().\n",
      "  return f(**kwargs)\n",
      "/Users/Ulkar/opt/anaconda3/envs/insight/lib/python3.8/site-packages/sklearn/utils/validation.py:72: DataConversionWarning: A column-vector y was passed when a 1d array was expected. Please change the shape of y to (n_samples, ), for example using ravel().\n",
      "  return f(**kwargs)\n",
      "/Users/Ulkar/opt/anaconda3/envs/insight/lib/python3.8/site-packages/sklearn/utils/validation.py:72: DataConversionWarning: A column-vector y was passed when a 1d array was expected. Please change the shape of y to (n_samples, ), for example using ravel().\n",
      "  return f(**kwargs)\n",
      "/Users/Ulkar/opt/anaconda3/envs/insight/lib/python3.8/site-packages/sklearn/utils/validation.py:72: DataConversionWarning: A column-vector y was passed when a 1d array was expected. Please change the shape of y to (n_samples, ), for example using ravel().\n",
      "  return f(**kwargs)\n",
      "/Users/Ulkar/opt/anaconda3/envs/insight/lib/python3.8/site-packages/sklearn/utils/validation.py:72: DataConversionWarning: A column-vector y was passed when a 1d array was expected. Please change the shape of y to (n_samples, ), for example using ravel().\n",
      "  return f(**kwargs)\n"
     ]
    }
   ],
   "source": [
    "# Try running the cross validation Lasso for different train test split and get the\n",
    "#mean r-squared, alpha, and weights. \n",
    "\n",
    "\n",
    "xCV = xx\n",
    "yCV = happiness_dataset\n",
    "\n",
    "train_number = 1000\n",
    "#Run this part for 1000 times and get the values for r-squared, alpha, and the weights.\n",
    "#reg.alpha_, reg.coef_, r2score.\n",
    "\n",
    "#initialize\n",
    "test_r_squared = np.zeros((train_number,1))\n",
    "lasso_alpha = np.zeros((train_number,1))\n",
    "lasso_coef = np.zeros((train_number, xx.shape[1]))\n",
    "\n",
    "\n",
    "for trialNo in range(train_number):\n",
    "    \n",
    "    #split 80-20\n",
    "    XCV_train, XCV_test, YCV_train, YCV_test = train_test_split(xCV, yCV, test_size=0.2)\n",
    "\n",
    "    reg = LassoCV(cv=5).fit(XCV_train, YCV_train)\n",
    "\n",
    "    YpredLassoCV = reg.predict(XCV_test)\n",
    "    test_r_squared[trialNo] = r2_score(YCV_test, YpredLassoCV)\n",
    "    lasso_alpha[trialNo] = reg.alpha_\n",
    "    lasso_coef[trialNo,:] = reg.coef_ \n"
   ]
  },
  {
   "cell_type": "code",
   "execution_count": 73,
   "metadata": {},
   "outputs": [
    {
     "name": "stderr",
     "output_type": "stream",
     "text": [
      "/Users/Ulkar/opt/anaconda3/envs/insight/lib/python3.8/site-packages/seaborn/distributions.py:2551: FutureWarning: `distplot` is a deprecated function and will be removed in a future version. Please adapt your code to use either `displot` (a figure-level function with similar flexibility) or `histplot` (an axes-level function for histograms).\n",
      "  warnings.warn(msg, FutureWarning)\n"
     ]
    },
    {
     "data": {
      "image/png": "[encoded data removed]",
      "text/plain": [
       "<Figure size 432x288 with 1 Axes>"
      ]
     },
     "metadata": {
      "needs_background": "light"
     },
     "output_type": "display_data"
    }
   ],
   "source": [
    "#Distribution of coefficient of determination\n",
    "test_r_squared_df=pd.DataFrame(data=test_r_squared)\n",
    "test_r_squared_df.rename(columns = {0:'coefficient of determination'}, inplace = True) \n",
    "\n",
    "sb.distplot(test_r_squared_df)\n",
    "sb.despine()"
   ]
  },
  {
   "cell_type": "code",
   "execution_count": 74,
   "metadata": {},
   "outputs": [
    {
     "data": {
      "text/plain": [
       "[<matplotlib.lines.Line2D at 0x7fbef4f536d0>]"
      ]
     },
     "execution_count": 74,
     "metadata": {},
     "output_type": "execute_result"
    },
    {
     "data": {
      "image/png": "[encoded data removed]",
      "text/plain": [
       "<Figure size 432x288 with 1 Axes>"
      ]
     },
     "metadata": {
      "needs_background": "light"
     },
     "output_type": "display_data"
    }
   ],
   "source": [
    "lasso_coef_df = pd.DataFrame(data=lasso_coef)\n",
    "\n",
    "mean_coef=lasso_coef_df.mean()\n",
    "\n",
    "plt.plot(mean_coef,alpha=0.7,linestyle='none',marker='*',markersize=8,color='blue') "
   ]
  },
  {
   "cell_type": "code",
   "execution_count": 75,
   "metadata": {},
   "outputs": [
    {
     "data": {
      "text/plain": [
       "20    0.217483\n",
       "27    0.215557\n",
       "18    0.124686\n",
       "28    0.122922\n",
       "25    0.108569\n",
       "dtype: float64"
      ]
     },
     "execution_count": 75,
     "metadata": {},
     "output_type": "execute_result"
    }
   ],
   "source": [
    "abs_mean_coef=abs(mean_coef)\n",
    "top_coef=abs_mean_coef.sort_values(ascending=False)\n",
    "top_coef.head()"
   ]
  },
  {
   "cell_type": "code",
   "execution_count": 76,
   "metadata": {},
   "outputs": [],
   "source": [
    "#Choose top 5 features.\n",
    "\n",
    "#all features.\n",
    "all_features = xx\n",
    "\n",
    "features_number = 5\n",
    "#get the top n features\n",
    "top_coef=abs_mean_coef.sort_values(ascending=False)\n",
    "\n",
    "selected_features = all_features.iloc[:,top_coef.index[0]]\n",
    "\n",
    "for features in range(features_number-1):\n",
    "    selected_features = pd.concat([selected_features, all_features.iloc[:,top_coef.index[features+1]]], axis = 1)\n",
    "\n",
    "    \n",
    "x_linear = selected_features\n",
    "y_linear = happiness_dataset\n",
    "\n",
    "train_number = 1000\n",
    "#Run this part for 1000 times and get the values for r-squared, alpha, and the weights.\n",
    "#reg.alpha_, reg.coef_, r2score.\n",
    "\n",
    "#initialize\n",
    "linear_r_squared = np.zeros((train_number,1))\n",
    "linear_coef = np.zeros((train_number,x_linear.shape[1]))\n",
    "\n",
    "for trialNo in range(train_number):\n",
    "    \n",
    "    #split 80-20\n",
    "    Xl_train, Xl_test, Yl_train, Yl_test = train_test_split(x_linear, y_linear, test_size=0.2)\n",
    "    \n",
    "\n",
    "    linear_reg = linear_model.LinearRegression()\n",
    "    linear_reg.fit(Xl_train,Yl_train)\n",
    "    \n",
    "    \n",
    "    Ypredl = linear_reg.predict(Xl_test)\n",
    "    \n",
    "    linear_r_squared[trialNo] = r2_score(Yl_test, Ypredl)\n",
    "    linear_coef[trialNo,:] = linear_reg.coef_"
   ]
  },
  {
   "cell_type": "code",
   "execution_count": 77,
   "metadata": {},
   "outputs": [
    {
     "data": {
      "text/html": [
       "<div>\n",
       "<style scoped>\n",
       "    .dataframe tbody tr th:only-of-type {\n",
       "        vertical-align: middle;\n",
       "    }\n",
       "\n",
       "    .dataframe tbody tr th {\n",
       "        vertical-align: top;\n",
       "    }\n",
       "\n",
       "    .dataframe thead th {\n",
       "        text-align: right;\n",
       "    }\n",
       "</style>\n",
       "<table border=\"1\" class=\"dataframe\">\n",
       "  <thead>\n",
       "    <tr style=\"text-align: right;\">\n",
       "      <th></th>\n",
       "      <th>ti_22</th>\n",
       "      <th>ti_47</th>\n",
       "      <th>ti_20</th>\n",
       "      <th>ti_54</th>\n",
       "      <th>ti_43</th>\n",
       "    </tr>\n",
       "  </thead>\n",
       "  <tbody>\n",
       "    <tr>\n",
       "      <th>0</th>\n",
       "      <td>0.835334</td>\n",
       "      <td>0.727714</td>\n",
       "      <td>0.636134</td>\n",
       "      <td>0.851191</td>\n",
       "      <td>0.670647</td>\n",
       "    </tr>\n",
       "    <tr>\n",
       "      <th>1</th>\n",
       "      <td>-1.594775</td>\n",
       "      <td>-1.090655</td>\n",
       "      <td>-0.436608</td>\n",
       "      <td>-2.026336</td>\n",
       "      <td>-0.309406</td>\n",
       "    </tr>\n",
       "    <tr>\n",
       "      <th>2</th>\n",
       "      <td>0.835334</td>\n",
       "      <td>0.727714</td>\n",
       "      <td>0.636134</td>\n",
       "      <td>0.851191</td>\n",
       "      <td>0.670647</td>\n",
       "    </tr>\n",
       "    <tr>\n",
       "      <th>3</th>\n",
       "      <td>0.835334</td>\n",
       "      <td>0.727714</td>\n",
       "      <td>0.636134</td>\n",
       "      <td>0.851191</td>\n",
       "      <td>0.670647</td>\n",
       "    </tr>\n",
       "    <tr>\n",
       "      <th>4</th>\n",
       "      <td>0.025298</td>\n",
       "      <td>-0.181470</td>\n",
       "      <td>0.636134</td>\n",
       "      <td>-0.107984</td>\n",
       "      <td>-0.309406</td>\n",
       "    </tr>\n",
       "    <tr>\n",
       "      <th>...</th>\n",
       "      <td>...</td>\n",
       "      <td>...</td>\n",
       "      <td>...</td>\n",
       "      <td>...</td>\n",
       "      <td>...</td>\n",
       "    </tr>\n",
       "    <tr>\n",
       "      <th>7936</th>\n",
       "      <td>0.835334</td>\n",
       "      <td>0.727714</td>\n",
       "      <td>0.636134</td>\n",
       "      <td>0.851191</td>\n",
       "      <td>0.670647</td>\n",
       "    </tr>\n",
       "    <tr>\n",
       "      <th>7937</th>\n",
       "      <td>0.835334</td>\n",
       "      <td>0.727714</td>\n",
       "      <td>0.636134</td>\n",
       "      <td>0.851191</td>\n",
       "      <td>0.670647</td>\n",
       "    </tr>\n",
       "    <tr>\n",
       "      <th>7938</th>\n",
       "      <td>0.835334</td>\n",
       "      <td>0.727714</td>\n",
       "      <td>0.636134</td>\n",
       "      <td>0.851191</td>\n",
       "      <td>0.670647</td>\n",
       "    </tr>\n",
       "    <tr>\n",
       "      <th>7939</th>\n",
       "      <td>0.835334</td>\n",
       "      <td>0.727714</td>\n",
       "      <td>0.636134</td>\n",
       "      <td>0.851191</td>\n",
       "      <td>0.670647</td>\n",
       "    </tr>\n",
       "    <tr>\n",
       "      <th>7940</th>\n",
       "      <td>0.835334</td>\n",
       "      <td>0.727714</td>\n",
       "      <td>0.636134</td>\n",
       "      <td>0.851191</td>\n",
       "      <td>0.670647</td>\n",
       "    </tr>\n",
       "  </tbody>\n",
       "</table>\n",
       "<p>7941 rows × 5 columns</p>\n",
       "</div>"
      ],
      "text/plain": [
       "         ti_22     ti_47     ti_20     ti_54     ti_43\n",
       "0     0.835334  0.727714  0.636134  0.851191  0.670647\n",
       "1    -1.594775 -1.090655 -0.436608 -2.026336 -0.309406\n",
       "2     0.835334  0.727714  0.636134  0.851191  0.670647\n",
       "3     0.835334  0.727714  0.636134  0.851191  0.670647\n",
       "4     0.025298 -0.181470  0.636134 -0.107984 -0.309406\n",
       "...        ...       ...       ...       ...       ...\n",
       "7936  0.835334  0.727714  0.636134  0.851191  0.670647\n",
       "7937  0.835334  0.727714  0.636134  0.851191  0.670647\n",
       "7938  0.835334  0.727714  0.636134  0.851191  0.670647\n",
       "7939  0.835334  0.727714  0.636134  0.851191  0.670647\n",
       "7940  0.835334  0.727714  0.636134  0.851191  0.670647\n",
       "\n",
       "[7941 rows x 5 columns]"
      ]
     },
     "execution_count": 77,
     "metadata": {},
     "output_type": "execute_result"
    }
   ],
   "source": [
    "selected_features"
   ]
  },
  {
   "cell_type": "code",
   "execution_count": 78,
   "metadata": {},
   "outputs": [
    {
     "data": {
      "text/plain": [
       "[<matplotlib.lines.Line2D at 0x7fbef558cf10>]"
      ]
     },
     "execution_count": 78,
     "metadata": {},
     "output_type": "execute_result"
    },
    {
     "data": {
      "image/png": "[encoded data removed]",
      "text/plain": [
       "<Figure size 432x288 with 1 Axes>"
      ]
     },
     "metadata": {
      "needs_background": "light"
     },
     "output_type": "display_data"
    }
   ],
   "source": [
    "#Average weight of the coefficient for each feature\n",
    "linear_coef_df = pd.DataFrame(data=linear_coef)\n",
    "\n",
    "mean_linear_coef=linear_coef_df.mean()\n",
    "\n",
    "plt.plot(mean_linear_coef,alpha=0.7,linestyle='none',marker='o',markersize=10,color='green') "
   ]
  },
  {
   "cell_type": "code",
   "execution_count": 98,
   "metadata": {},
   "outputs": [
    {
     "name": "stderr",
     "output_type": "stream",
     "text": [
      "/Users/Ulkar/opt/anaconda3/envs/insight/lib/python3.8/site-packages/seaborn/distributions.py:2551: FutureWarning: `distplot` is a deprecated function and will be removed in a future version. Please adapt your code to use either `displot` (a figure-level function with similar flexibility) or `histplot` (an axes-level function for histograms).\n",
      "  warnings.warn(msg, FutureWarning)\n"
     ]
    },
    {
     "data": {
      "image/png": "[encoded data removed]",
      "text/plain": [
       "<Figure size 432x288 with 1 Axes>"
      ]
     },
     "metadata": {
      "needs_background": "light"
     },
     "output_type": "display_data"
    }
   ],
   "source": [
    "#Distribution of coefficients for the top feature (Managers avoid playing favorites.)\n",
    "sb.distplot(linear_coef_df.iloc[:,1]).set_title('Management shows a sincere interest in me as a person, not just an employee.')\n",
    "sb.despine()"
   ]
  },
  {
   "cell_type": "code",
   "execution_count": 96,
   "metadata": {},
   "outputs": [
    {
     "name": "stderr",
     "output_type": "stream",
     "text": [
      "/Users/Ulkar/opt/anaconda3/envs/insight/lib/python3.8/site-packages/seaborn/distributions.py:2551: FutureWarning: `distplot` is a deprecated function and will be removed in a future version. Please adapt your code to use either `displot` (a figure-level function with similar flexibility) or `histplot` (an axes-level function for histograms).\n",
      "  warnings.warn(msg, FutureWarning)\n"
     ]
    },
    {
     "data": {
      "image/png": "[encoded data removed]",
      "text/plain": [
       "<Figure size 432x288 with 1 Axes>"
      ]
     },
     "metadata": {
      "needs_background": "light"
     },
     "output_type": "display_data"
    }
   ],
   "source": [
    "#Distribution of coefficients for the top feature (Management is competent at running the business.)\n",
    "sb.distplot(linear_coef_df.iloc[:,4]).set_title('Management is competent at running the business.')\n",
    "sb.despine()"
   ]
  },
  {
   "cell_type": "code",
   "execution_count": 97,
   "metadata": {},
   "outputs": [
    {
     "name": "stderr",
     "output_type": "stream",
     "text": [
      "/Users/Ulkar/opt/anaconda3/envs/insight/lib/python3.8/site-packages/seaborn/distributions.py:2551: FutureWarning: `distplot` is a deprecated function and will be removed in a future version. Please adapt your code to use either `displot` (a figure-level function with similar flexibility) or `histplot` (an axes-level function for histograms).\n",
      "  warnings.warn(msg, FutureWarning)\n"
     ]
    },
    {
     "data": {
      "image/png": "[encoded data removed]",
      "text/plain": [
       "<Figure size 432x288 with 1 Axes>"
      ]
     },
     "metadata": {
      "needs_background": "light"
     },
     "output_type": "display_data"
    }
   ],
   "source": [
    "#Distribution of coefficients for the top feature (Management hires people who fit in well here..)\n",
    "sb.distplot(linear_coef_df.iloc[:,3]).set_title('Management hires people who fit in well here.')\n",
    "sb.despine()"
   ]
  },
  {
   "cell_type": "code",
   "execution_count": 99,
   "metadata": {},
   "outputs": [
    {
     "name": "stdout",
     "output_type": "stream",
     "text": [
      "32.34691380895941\n"
     ]
    }
   ],
   "source": [
    "accuracy=linear_r_squared.mean()\n",
    "print(accuracy*100)"
   ]
  },
  {
   "cell_type": "code",
   "execution_count": null,
   "metadata": {},
   "outputs": [],
   "source": []
  }
 ],
 "metadata": {
  "kernelspec": {
   "display_name": "insight",
   "language": "python",
   "name": "insight"
  },
  "language_info": {
   "codemirror_mode": {
    "name": "ipython",
    "version": 3
   },
   "file_extension": ".py",
   "mimetype": "text/x-python",
   "name": "python",
   "nbconvert_exporter": "python",
   "pygments_lexer": "ipython3",
   "version": "3.8.5"
  }
 },
 "nbformat": 4,
 "nbformat_minor": 4
}
