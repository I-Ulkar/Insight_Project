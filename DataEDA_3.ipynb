{
 "cells": [
  {
   "cell_type": "code",
   "execution_count": 1,
   "metadata": {},
   "outputs": [],
   "source": [
    "import numpy as np\n",
    "import matplotlib.pyplot as plt\n",
    "import pandas as pd\n",
    "\n",
    "import os\n",
    "import pickle\n",
    "\n",
    "import matplotlib.pyplot as plt\n",
    "import seaborn as sb\n",
    "color = sb.color_palette()\n",
    "%matplotlib inline\n",
    "\n",
    "from sklearn import preprocessing as pp \n",
    "from scipy.stats import pearsonr\n"
   ]
  },
  {
   "cell_type": "code",
   "execution_count": 2,
   "metadata": {},
   "outputs": [],
   "source": [
    "import dash\n",
    "import dash_core_components as dcc\n",
    "import dash_html_components as html\n",
    "from dash.dependencies import Input, Output\n",
    "import plotly.express as px"
   ]
  },
  {
   "cell_type": "code",
   "execution_count": 300,
   "metadata": {},
   "outputs": [
    {
     "name": "stderr",
     "output_type": "stream",
     "text": [
      "<frozen importlib._bootstrap>:219: RuntimeWarning: numpy.ufunc size changed, may indicate binary incompatibility. Expected 192 from C header, got 216 from PyObject\n",
      "<frozen importlib._bootstrap>:219: RuntimeWarning: numpy.ufunc size changed, may indicate binary incompatibility. Expected 192 from C header, got 216 from PyObject\n"
     ]
    }
   ],
   "source": [
    "from sklearn import linear_model\n",
    "from sklearn.linear_model import Lasso\n",
    "from sklearn.model_selection import train_test_split\n",
    "from sklearn.metrics import r2_score\n",
    "from scipy.stats import pearsonr \n",
    "from sklearn.decomposition import PCA\n",
    "from sklearn.linear_model import LassoCV\n",
    "\n",
    "from scipy.stats import wilcoxon"
   ]
  },
  {
   "cell_type": "code",
   "execution_count": 76,
   "metadata": {},
   "outputs": [],
   "source": [
    "from dplython import (DplyFrame, X, diamonds, select, sift, sample_n,\n",
    "    sample_frac, head, arrange, mutate, group_by, summarize, DelayFunction) "
   ]
  },
  {
   "cell_type": "code",
   "execution_count": 20,
   "metadata": {},
   "outputs": [
    {
     "name": "stdout",
     "output_type": "stream",
     "text": [
      "/Users/Ulkar/Google Drive/DATA SCIENCE/Insight Project/Code\n"
     ]
    }
   ],
   "source": [
    "current_path = os.getcwd()\n",
    "print(current_path)"
   ]
  },
  {
   "cell_type": "code",
   "execution_count": 25,
   "metadata": {},
   "outputs": [
    {
     "data": {
      "text/plain": [
       "(10701, 87)"
      ]
     },
     "execution_count": 25,
     "metadata": {},
     "output_type": "execute_result"
    }
   ],
   "source": [
    "df= pd.read_csv(\"/Users/Ulkar/Google Drive/DATA SCIENCE/Insight Project/Code/Febr2020o.csv\", low_memory=False)\n",
    "df.head(5)\n",
    "df.shape\n"
   ]
  },
  {
   "cell_type": "code",
   "execution_count": 34,
   "metadata": {},
   "outputs": [
    {
     "data": {
      "text/plain": [
       "(33933, 36)"
      ]
     },
     "execution_count": 34,
     "metadata": {},
     "output_type": "execute_result"
    }
   ],
   "source": [
    "dfmaster= pd.read_csv(\"/Users/Ulkar/Google Drive/DATA SCIENCE/Insight Project/Code/MasterData_new.csv\", low_memory=False)\n",
    "dfmaster.shape"
   ]
  },
  {
   "cell_type": "code",
   "execution_count": 35,
   "metadata": {},
   "outputs": [],
   "source": [
    "# Add employee level variables (master data)\n",
    "df_merged=pd.merge(df, dfmaster, how='left',  left_on=\"survey_code\", right_on=\"Feb2020SurveyCode\")"
   ]
  },
  {
   "cell_type": "code",
   "execution_count": 36,
   "metadata": {},
   "outputs": [
    {
     "data": {
      "text/plain": [
       "(10701, 123)"
      ]
     },
     "execution_count": 36,
     "metadata": {},
     "output_type": "execute_result"
    }
   ],
   "source": [
    "# \n",
    "df_merged.shape"
   ]
  },
  {
   "cell_type": "code",
   "execution_count": 32,
   "metadata": {},
   "outputs": [
    {
     "data": {
      "text/html": [
       "<div>\n",
       "<style scoped>\n",
       "    .dataframe tbody tr th:only-of-type {\n",
       "        vertical-align: middle;\n",
       "    }\n",
       "\n",
       "    .dataframe tbody tr th {\n",
       "        vertical-align: top;\n",
       "    }\n",
       "\n",
       "    .dataframe thead th {\n",
       "        text-align: right;\n",
       "    }\n",
       "</style>\n",
       "<table border=\"1\" class=\"dataframe\">\n",
       "  <thead>\n",
       "    <tr style=\"text-align: right;\">\n",
       "      <th></th>\n",
       "      <th>survey_code</th>\n",
       "      <th>submitted</th>\n",
       "      <th>ti_1</th>\n",
       "      <th>ti_2</th>\n",
       "      <th>ti_3</th>\n",
       "      <th>ti_4</th>\n",
       "      <th>ti_5</th>\n",
       "      <th>ti_6</th>\n",
       "      <th>ti_7</th>\n",
       "      <th>ti_8</th>\n",
       "      <th>...</th>\n",
       "      <th>JobTitle</th>\n",
       "      <th>Department</th>\n",
       "      <th>DepartmentBenchmark</th>\n",
       "      <th>DepartmentCode</th>\n",
       "      <th>DepartmentName_y</th>\n",
       "      <th>Disabilities</th>\n",
       "      <th>Aug2018RespondentID</th>\n",
       "      <th>Feb2019SurveyCode</th>\n",
       "      <th>Fall(Aug)2019SurveyCode</th>\n",
       "      <th>Feb2020SurveyCode</th>\n",
       "    </tr>\n",
       "  </thead>\n",
       "  <tbody>\n",
       "    <tr>\n",
       "      <th>0</th>\n",
       "      <td>bogle100101</td>\n",
       "      <td>True</td>\n",
       "      <td>5</td>\n",
       "      <td>5</td>\n",
       "      <td>4</td>\n",
       "      <td>4</td>\n",
       "      <td>4</td>\n",
       "      <td>4</td>\n",
       "      <td>4</td>\n",
       "      <td>3</td>\n",
       "      <td>...</td>\n",
       "      <td>Area Recruiter - Home Office</td>\n",
       "      <td>NaN</td>\n",
       "      <td>Activities, Enrichment, Connections</td>\n",
       "      <td>505.0</td>\n",
       "      <td>Other</td>\n",
       "      <td>Prefer not to answer</td>\n",
       "      <td>613062.0</td>\n",
       "      <td>Bogle100101</td>\n",
       "      <td>Bogle100101</td>\n",
       "      <td>bogle100101</td>\n",
       "    </tr>\n",
       "    <tr>\n",
       "      <th>1</th>\n",
       "      <td>shireman46870</td>\n",
       "      <td>True</td>\n",
       "      <td>4</td>\n",
       "      <td>5</td>\n",
       "      <td>3</td>\n",
       "      <td>5</td>\n",
       "      <td>4</td>\n",
       "      <td>4</td>\n",
       "      <td>3</td>\n",
       "      <td>3</td>\n",
       "      <td>...</td>\n",
       "      <td>AP Spec - Supplier &amp; Expense</td>\n",
       "      <td>NaN</td>\n",
       "      <td>No Response</td>\n",
       "      <td>NaN</td>\n",
       "      <td>Pharmacy Tech</td>\n",
       "      <td>Yes, I have a disability</td>\n",
       "      <td>698318.0</td>\n",
       "      <td>Shireman46870</td>\n",
       "      <td>Shireman46870</td>\n",
       "      <td>shireman46870</td>\n",
       "    </tr>\n",
       "    <tr>\n",
       "      <th>2</th>\n",
       "      <td>gregorowicz124995</td>\n",
       "      <td>True</td>\n",
       "      <td>4</td>\n",
       "      <td>5</td>\n",
       "      <td>5</td>\n",
       "      <td>4</td>\n",
       "      <td>4</td>\n",
       "      <td>5</td>\n",
       "      <td>5</td>\n",
       "      <td>3</td>\n",
       "      <td>...</td>\n",
       "      <td>PCA Executive Director</td>\n",
       "      <td>NaN</td>\n",
       "      <td>NaN</td>\n",
       "      <td>NaN</td>\n",
       "      <td>NaN</td>\n",
       "      <td>NaN</td>\n",
       "      <td>NaN</td>\n",
       "      <td>NaN</td>\n",
       "      <td>Gregorowicz124995</td>\n",
       "      <td>gregorowicz124995</td>\n",
       "    </tr>\n",
       "    <tr>\n",
       "      <th>3</th>\n",
       "      <td>gest30170</td>\n",
       "      <td>True</td>\n",
       "      <td>5</td>\n",
       "      <td>5</td>\n",
       "      <td>5</td>\n",
       "      <td>5</td>\n",
       "      <td>5</td>\n",
       "      <td>5</td>\n",
       "      <td>5</td>\n",
       "      <td>5</td>\n",
       "      <td>...</td>\n",
       "      <td>AP/Payroll Coordinator</td>\n",
       "      <td>58-Fac Admin</td>\n",
       "      <td>Activities, Enrichment, Connections</td>\n",
       "      <td>505.0</td>\n",
       "      <td>Other</td>\n",
       "      <td>Prefer not to answer</td>\n",
       "      <td>614532.0</td>\n",
       "      <td>Gest30170</td>\n",
       "      <td>Gest30170</td>\n",
       "      <td>gest30170</td>\n",
       "    </tr>\n",
       "    <tr>\n",
       "      <th>4</th>\n",
       "      <td>crowel125796</td>\n",
       "      <td>True</td>\n",
       "      <td>5</td>\n",
       "      <td>5</td>\n",
       "      <td>5</td>\n",
       "      <td>5</td>\n",
       "      <td>5</td>\n",
       "      <td>5</td>\n",
       "      <td>5</td>\n",
       "      <td>5</td>\n",
       "      <td>...</td>\n",
       "      <td>SVP-Operations</td>\n",
       "      <td>NaN</td>\n",
       "      <td>NaN</td>\n",
       "      <td>NaN</td>\n",
       "      <td>NaN</td>\n",
       "      <td>NaN</td>\n",
       "      <td>NaN</td>\n",
       "      <td>NaN</td>\n",
       "      <td>Crowel125796</td>\n",
       "      <td>crowel125796</td>\n",
       "    </tr>\n",
       "    <tr>\n",
       "      <th>5</th>\n",
       "      <td>canale123172</td>\n",
       "      <td>True</td>\n",
       "      <td>5</td>\n",
       "      <td>5</td>\n",
       "      <td>5</td>\n",
       "      <td>5</td>\n",
       "      <td>5</td>\n",
       "      <td>4</td>\n",
       "      <td>4</td>\n",
       "      <td>4</td>\n",
       "      <td>...</td>\n",
       "      <td>Division Business Development</td>\n",
       "      <td>NaN</td>\n",
       "      <td>NaN</td>\n",
       "      <td>NaN</td>\n",
       "      <td>NaN</td>\n",
       "      <td>NaN</td>\n",
       "      <td>NaN</td>\n",
       "      <td>Canale123172</td>\n",
       "      <td>Canale123172</td>\n",
       "      <td>canale123172</td>\n",
       "    </tr>\n",
       "    <tr>\n",
       "      <th>6</th>\n",
       "      <td>jones4159</td>\n",
       "      <td>True</td>\n",
       "      <td>5</td>\n",
       "      <td>5</td>\n",
       "      <td>5</td>\n",
       "      <td>4</td>\n",
       "      <td>4</td>\n",
       "      <td>4</td>\n",
       "      <td>4</td>\n",
       "      <td>5</td>\n",
       "      <td>...</td>\n",
       "      <td>AP/Payroll Coordinator</td>\n",
       "      <td>58-Fac Admin</td>\n",
       "      <td>NaN</td>\n",
       "      <td>NaN</td>\n",
       "      <td>NaN</td>\n",
       "      <td>NaN</td>\n",
       "      <td>594226.0</td>\n",
       "      <td>Jones4159</td>\n",
       "      <td>Jones4159</td>\n",
       "      <td>jones4159</td>\n",
       "    </tr>\n",
       "    <tr>\n",
       "      <th>7</th>\n",
       "      <td>harrell100886</td>\n",
       "      <td>True</td>\n",
       "      <td>3</td>\n",
       "      <td>3</td>\n",
       "      <td>3</td>\n",
       "      <td>3</td>\n",
       "      <td>2</td>\n",
       "      <td>3</td>\n",
       "      <td>2</td>\n",
       "      <td>4</td>\n",
       "      <td>...</td>\n",
       "      <td>CRMA-Preceptor</td>\n",
       "      <td>31-Nurse AL</td>\n",
       "      <td>No Response</td>\n",
       "      <td>NaN</td>\n",
       "      <td>Other</td>\n",
       "      <td>No, I do not have a disability</td>\n",
       "      <td>680854.0</td>\n",
       "      <td>Harrell100886</td>\n",
       "      <td>Harrell100886</td>\n",
       "      <td>harrell100886</td>\n",
       "    </tr>\n",
       "    <tr>\n",
       "      <th>8</th>\n",
       "      <td>stuber50346</td>\n",
       "      <td>True</td>\n",
       "      <td>5</td>\n",
       "      <td>5</td>\n",
       "      <td>4</td>\n",
       "      <td>5</td>\n",
       "      <td>5</td>\n",
       "      <td>5</td>\n",
       "      <td>5</td>\n",
       "      <td>5</td>\n",
       "      <td>...</td>\n",
       "      <td>AVP-Foundation &amp; Workforce Dev</td>\n",
       "      <td>NaN</td>\n",
       "      <td>Accounting including A/P, A/R</td>\n",
       "      <td>1100.0</td>\n",
       "      <td>Home Office</td>\n",
       "      <td>No, I do not have a disability</td>\n",
       "      <td>596334.0</td>\n",
       "      <td>Stuber50346</td>\n",
       "      <td>Stuber50346</td>\n",
       "      <td>stuber50346</td>\n",
       "    </tr>\n",
       "    <tr>\n",
       "      <th>9</th>\n",
       "      <td>wilson127343</td>\n",
       "      <td>True</td>\n",
       "      <td>5</td>\n",
       "      <td>5</td>\n",
       "      <td>5</td>\n",
       "      <td>5</td>\n",
       "      <td>5</td>\n",
       "      <td>4</td>\n",
       "      <td>4</td>\n",
       "      <td>5</td>\n",
       "      <td>...</td>\n",
       "      <td>Customer Service Specialist</td>\n",
       "      <td>52-Admissions</td>\n",
       "      <td>NaN</td>\n",
       "      <td>NaN</td>\n",
       "      <td>NaN</td>\n",
       "      <td>NaN</td>\n",
       "      <td>NaN</td>\n",
       "      <td>NaN</td>\n",
       "      <td>Wilson127343</td>\n",
       "      <td>wilson127343</td>\n",
       "    </tr>\n",
       "  </tbody>\n",
       "</table>\n",
       "<p>10 rows × 123 columns</p>\n",
       "</div>"
      ],
      "text/plain": [
       "         survey_code  submitted  ti_1  ti_2  ti_3  ti_4  ti_5  ti_6  ti_7  \\\n",
       "0        bogle100101       True     5     5     4     4     4     4     4   \n",
       "1      shireman46870       True     4     5     3     5     4     4     3   \n",
       "2  gregorowicz124995       True     4     5     5     4     4     5     5   \n",
       "3          gest30170       True     5     5     5     5     5     5     5   \n",
       "4       crowel125796       True     5     5     5     5     5     5     5   \n",
       "5       canale123172       True     5     5     5     5     5     4     4   \n",
       "6          jones4159       True     5     5     5     4     4     4     4   \n",
       "7      harrell100886       True     3     3     3     3     2     3     2   \n",
       "8        stuber50346       True     5     5     4     5     5     5     5   \n",
       "9       wilson127343       True     5     5     5     5     5     4     4   \n",
       "\n",
       "   ti_8  ...                        JobTitle     Department  \\\n",
       "0     3  ...    Area Recruiter - Home Office            NaN   \n",
       "1     3  ...    AP Spec - Supplier & Expense            NaN   \n",
       "2     3  ...          PCA Executive Director            NaN   \n",
       "3     5  ...          AP/Payroll Coordinator   58-Fac Admin   \n",
       "4     5  ...                  SVP-Operations            NaN   \n",
       "5     4  ...   Division Business Development            NaN   \n",
       "6     5  ...          AP/Payroll Coordinator   58-Fac Admin   \n",
       "7     4  ...                  CRMA-Preceptor    31-Nurse AL   \n",
       "8     5  ...  AVP-Foundation & Workforce Dev            NaN   \n",
       "9     5  ...     Customer Service Specialist  52-Admissions   \n",
       "\n",
       "                   DepartmentBenchmark  DepartmentCode  DepartmentName_y  \\\n",
       "0  Activities, Enrichment, Connections           505.0             Other   \n",
       "1                          No Response             NaN     Pharmacy Tech   \n",
       "2                                  NaN             NaN               NaN   \n",
       "3  Activities, Enrichment, Connections           505.0             Other   \n",
       "4                                  NaN             NaN               NaN   \n",
       "5                                  NaN             NaN               NaN   \n",
       "6                                  NaN             NaN               NaN   \n",
       "7                          No Response             NaN             Other   \n",
       "8        Accounting including A/P, A/R          1100.0       Home Office   \n",
       "9                                  NaN             NaN               NaN   \n",
       "\n",
       "                     Disabilities  Aug2018RespondentID  Feb2019SurveyCode  \\\n",
       "0            Prefer not to answer             613062.0        Bogle100101   \n",
       "1        Yes, I have a disability             698318.0      Shireman46870   \n",
       "2                             NaN                  NaN                NaN   \n",
       "3            Prefer not to answer             614532.0          Gest30170   \n",
       "4                             NaN                  NaN                NaN   \n",
       "5                             NaN                  NaN       Canale123172   \n",
       "6                             NaN             594226.0          Jones4159   \n",
       "7  No, I do not have a disability             680854.0      Harrell100886   \n",
       "8  No, I do not have a disability             596334.0        Stuber50346   \n",
       "9                             NaN                  NaN                NaN   \n",
       "\n",
       "   Fall(Aug)2019SurveyCode  Feb2020SurveyCode  \n",
       "0              Bogle100101        bogle100101  \n",
       "1            Shireman46870      shireman46870  \n",
       "2        Gregorowicz124995  gregorowicz124995  \n",
       "3                Gest30170          gest30170  \n",
       "4             Crowel125796       crowel125796  \n",
       "5             Canale123172       canale123172  \n",
       "6                Jones4159          jones4159  \n",
       "7            Harrell100886      harrell100886  \n",
       "8              Stuber50346        stuber50346  \n",
       "9             Wilson127343       wilson127343  \n",
       "\n",
       "[10 rows x 123 columns]"
      ]
     },
     "execution_count": 32,
     "metadata": {},
     "output_type": "execute_result"
    }
   ],
   "source": [
    "df_merged.head(10)"
   ]
  },
  {
   "cell_type": "code",
   "execution_count": 37,
   "metadata": {},
   "outputs": [
    {
     "data": {
      "text/plain": [
       "['survey_code',\n",
       " 'submitted',\n",
       " 'ti_1',\n",
       " 'ti_2',\n",
       " 'ti_3',\n",
       " 'ti_4',\n",
       " 'ti_5',\n",
       " 'ti_6',\n",
       " 'ti_7',\n",
       " 'ti_8',\n",
       " 'ti_9',\n",
       " 'ti_10',\n",
       " 'ti_11',\n",
       " 'ti_12',\n",
       " 'ti_13',\n",
       " 'ti_14',\n",
       " 'ti_15',\n",
       " 'ti_16',\n",
       " 'ti_17',\n",
       " 'ti_18',\n",
       " 'ti_19',\n",
       " 'ti_20',\n",
       " 'ti_21',\n",
       " 'ti_22',\n",
       " 'ti_23',\n",
       " 'ti_24',\n",
       " 'ti_25',\n",
       " 'ti_26',\n",
       " 'ti_27',\n",
       " 'ti_28',\n",
       " 'ti_29',\n",
       " 'ti_30',\n",
       " 'ti_31',\n",
       " 'ti_32',\n",
       " 'ti_33',\n",
       " 'ti_34',\n",
       " 'ti_35',\n",
       " 'ti_36',\n",
       " 'ti_37',\n",
       " 'ti_38',\n",
       " 'ti_39',\n",
       " 'ti_40',\n",
       " 'ti_41',\n",
       " 'ti_42',\n",
       " 'ti_43',\n",
       " 'ti_44',\n",
       " 'ti_45',\n",
       " 'ti_46',\n",
       " 'ti_47',\n",
       " 'ti_48',\n",
       " 'ti_49',\n",
       " 'ti_50',\n",
       " 'ti_51',\n",
       " 'ti_52',\n",
       " 'ti_53',\n",
       " 'ti_54',\n",
       " 'ti_55',\n",
       " 'ti_56',\n",
       " 'ti_57',\n",
       " 'ti_58',\n",
       " 'ti_59',\n",
       " 'ti_60',\n",
       " 'overall_positive',\n",
       " 'overall_inconsistent',\n",
       " 'overall_negative',\n",
       " 'TI 1+',\n",
       " 'TI 4',\n",
       " 'TI 5',\n",
       " 'TI all',\n",
       " 'TI score',\n",
       " 'Tenure',\n",
       " 'Work Status',\n",
       " 'Pay Type',\n",
       " 'Female',\n",
       " 'Race',\n",
       " 'Hire Date',\n",
       " 'HireDays',\n",
       " 'Managerial Level',\n",
       " 'Confidence in Executive Team_x',\n",
       " 'Meaningful Innovation Opportunities',\n",
       " 'Postal/Zip Code',\n",
       " 'Location Name',\n",
       " 'Date of Birth',\n",
       " 'Department Code',\n",
       " 'DepartmentName_x',\n",
       " 'Job Title',\n",
       " 'Region ID',\n",
       " 'Employee ID',\n",
       " 'ManagerID',\n",
       " 'Demographics (Race)',\n",
       " 'Age_master',\n",
       " 'Female_master',\n",
       " 'Status_master',\n",
       " 'Pay type_master',\n",
       " 'WorkStatus',\n",
       " 'WorkStatus2_master',\n",
       " 'CurrentPay_master',\n",
       " 'Work Zip',\n",
       " 'Home Zip',\n",
       " 'THS Hire Date',\n",
       " 'Job Start Date',\n",
       " 'Termination Date',\n",
       " 'Termination Reason',\n",
       " 'Apprenticeship Benefit',\n",
       " 'StudentLoan',\n",
       " 'Scholarship',\n",
       " 'Dependent',\n",
       " 'Purdue Global',\n",
       " 'EmergencyAssistanceReceived ',\n",
       " 'Eligibleforhealthcare',\n",
       " 'Opt IN for healthcare',\n",
       " 'Confidence in Executive Team_y',\n",
       " 'LocationName',\n",
       " 'JobTitle',\n",
       " 'Department',\n",
       " 'DepartmentBenchmark',\n",
       " 'DepartmentCode',\n",
       " 'DepartmentName_y',\n",
       " 'Disabilities',\n",
       " 'Aug2018RespondentID',\n",
       " 'Feb2019SurveyCode',\n",
       " 'Fall(Aug)2019SurveyCode',\n",
       " 'Feb2020SurveyCode']"
      ]
     },
     "execution_count": 37,
     "metadata": {},
     "output_type": "execute_result"
    }
   ],
   "source": [
    "list(df_merged.columns)"
   ]
  },
  {
   "cell_type": "code",
   "execution_count": 104,
   "metadata": {},
   "outputs": [
    {
     "data": {
      "text/html": [
       "<div>\n",
       "<style scoped>\n",
       "    .dataframe tbody tr th:only-of-type {\n",
       "        vertical-align: middle;\n",
       "    }\n",
       "\n",
       "    .dataframe tbody tr th {\n",
       "        vertical-align: top;\n",
       "    }\n",
       "\n",
       "    .dataframe thead th {\n",
       "        text-align: right;\n",
       "    }\n",
       "</style>\n",
       "<table border=\"1\" class=\"dataframe\">\n",
       "  <thead>\n",
       "    <tr style=\"text-align: right;\">\n",
       "      <th></th>\n",
       "      <th>ManagerID</th>\n",
       "      <th>Location Name_m</th>\n",
       "      <th>Race_m</th>\n",
       "      <th>Age_m</th>\n",
       "      <th>Female_m</th>\n",
       "      <th>Status_m</th>\n",
       "      <th>Pay type_m</th>\n",
       "      <th>Work Status_m</th>\n",
       "      <th>Work Status_m.1</th>\n",
       "      <th>CurrentPay_m</th>\n",
       "      <th>Work Zip_m</th>\n",
       "      <th>Home Zip_m</th>\n",
       "      <th>THSHireDate_m</th>\n",
       "      <th>JobStartDate_m</th>\n",
       "      <th>manager_tenure_month</th>\n",
       "      <th>term_by_feb2020</th>\n",
       "      <th>TerminationDate_m</th>\n",
       "      <th>TerminationReason_m</th>\n",
       "      <th>DepartmentCode_m</th>\n",
       "      <th>DepartmentName_m</th>\n",
       "    </tr>\n",
       "  </thead>\n",
       "  <tbody>\n",
       "    <tr>\n",
       "      <th>0</th>\n",
       "      <td>105489.0</td>\n",
       "      <td>Autumn Woods Health Campus - 105</td>\n",
       "      <td>NaN</td>\n",
       "      <td>35.0</td>\n",
       "      <td>1.0</td>\n",
       "      <td>T</td>\n",
       "      <td>H</td>\n",
       "      <td>F</td>\n",
       "      <td>R</td>\n",
       "      <td>12.02</td>\n",
       "      <td>47150-4316</td>\n",
       "      <td>47150</td>\n",
       "      <td>5/24/16</td>\n",
       "      <td>9/19/17</td>\n",
       "      <td>36</td>\n",
       "      <td>0.0</td>\n",
       "      <td>1/1/18</td>\n",
       "      <td>NaN</td>\n",
       "      <td>NaN</td>\n",
       "      <td>NaN</td>\n",
       "    </tr>\n",
       "    <tr>\n",
       "      <th>1</th>\n",
       "      <td>112313.0</td>\n",
       "      <td>Autumn Woods Health Campus - 105</td>\n",
       "      <td>NaN</td>\n",
       "      <td>32.0</td>\n",
       "      <td>1.0</td>\n",
       "      <td>T</td>\n",
       "      <td>H</td>\n",
       "      <td>F</td>\n",
       "      <td>R</td>\n",
       "      <td>12.68</td>\n",
       "      <td>47150-4316</td>\n",
       "      <td>47150</td>\n",
       "      <td>5/23/17</td>\n",
       "      <td>5/23/17</td>\n",
       "      <td>40</td>\n",
       "      <td>0.0</td>\n",
       "      <td>1/1/18</td>\n",
       "      <td>NaN</td>\n",
       "      <td>NaN</td>\n",
       "      <td>NaN</td>\n",
       "    </tr>\n",
       "    <tr>\n",
       "      <th>2</th>\n",
       "      <td>113617.0</td>\n",
       "      <td>Autumn Woods Health Campus - 105</td>\n",
       "      <td>NaN</td>\n",
       "      <td>40.0</td>\n",
       "      <td>1.0</td>\n",
       "      <td>T</td>\n",
       "      <td>H</td>\n",
       "      <td>F</td>\n",
       "      <td>R</td>\n",
       "      <td>10</td>\n",
       "      <td>47150-4316</td>\n",
       "      <td>47150</td>\n",
       "      <td>7/25/17</td>\n",
       "      <td>7/25/17</td>\n",
       "      <td>37</td>\n",
       "      <td>0.0</td>\n",
       "      <td>1/1/18</td>\n",
       "      <td>NaN</td>\n",
       "      <td>NaN</td>\n",
       "      <td>NaN</td>\n",
       "    </tr>\n",
       "    <tr>\n",
       "      <th>3</th>\n",
       "      <td>113493.0</td>\n",
       "      <td>Autumn Woods Health Campus - 105</td>\n",
       "      <td>NaN</td>\n",
       "      <td>42.0</td>\n",
       "      <td>1.0</td>\n",
       "      <td>T</td>\n",
       "      <td>H</td>\n",
       "      <td>F</td>\n",
       "      <td>R</td>\n",
       "      <td>14.33</td>\n",
       "      <td>47150-4316</td>\n",
       "      <td>47161</td>\n",
       "      <td>7/18/17</td>\n",
       "      <td>7/18/17</td>\n",
       "      <td>38</td>\n",
       "      <td>0.0</td>\n",
       "      <td>1/1/18</td>\n",
       "      <td>NaN</td>\n",
       "      <td>NaN</td>\n",
       "      <td>NaN</td>\n",
       "    </tr>\n",
       "    <tr>\n",
       "      <th>4</th>\n",
       "      <td>41470.0</td>\n",
       "      <td>Bethany Pointe Health Campus-Paragon - 1112</td>\n",
       "      <td>White</td>\n",
       "      <td>29.0</td>\n",
       "      <td>1.0</td>\n",
       "      <td>A</td>\n",
       "      <td>H</td>\n",
       "      <td>P</td>\n",
       "      <td>T</td>\n",
       "      <td>30</td>\n",
       "      <td>NaN</td>\n",
       "      <td>46060</td>\n",
       "      <td>2/13/14</td>\n",
       "      <td>9/19/18</td>\n",
       "      <td>24</td>\n",
       "      <td>0.0</td>\n",
       "      <td>1/1/18</td>\n",
       "      <td>NaN</td>\n",
       "      <td>NaN</td>\n",
       "      <td>NaN</td>\n",
       "    </tr>\n",
       "    <tr>\n",
       "      <th>5</th>\n",
       "      <td>47970.0</td>\n",
       "      <td>Cypress Pointe Health Campus - 416</td>\n",
       "      <td>NaN</td>\n",
       "      <td>29.0</td>\n",
       "      <td>0.0</td>\n",
       "      <td>T</td>\n",
       "      <td>H</td>\n",
       "      <td>F</td>\n",
       "      <td>R</td>\n",
       "      <td>12.14</td>\n",
       "      <td>45322</td>\n",
       "      <td>45406</td>\n",
       "      <td>2/10/15</td>\n",
       "      <td>5/1/16</td>\n",
       "      <td>52</td>\n",
       "      <td>0.0</td>\n",
       "      <td>1/1/18</td>\n",
       "      <td>NaN</td>\n",
       "      <td>NaN</td>\n",
       "      <td>NaN</td>\n",
       "    </tr>\n",
       "    <tr>\n",
       "      <th>6</th>\n",
       "      <td>23538.0</td>\n",
       "      <td>Forest Glen Health Campus-Paragon - 1401</td>\n",
       "      <td>NaN</td>\n",
       "      <td>65.0</td>\n",
       "      <td>1.0</td>\n",
       "      <td>T</td>\n",
       "      <td>H</td>\n",
       "      <td>F</td>\n",
       "      <td>R</td>\n",
       "      <td>12.33</td>\n",
       "      <td>NaN</td>\n",
       "      <td>45505</td>\n",
       "      <td>10/14/10</td>\n",
       "      <td>12/13/10</td>\n",
       "      <td>117</td>\n",
       "      <td>0.0</td>\n",
       "      <td>1/1/18</td>\n",
       "      <td>NaN</td>\n",
       "      <td>NaN</td>\n",
       "      <td>NaN</td>\n",
       "    </tr>\n",
       "    <tr>\n",
       "      <th>7</th>\n",
       "      <td>31106.0</td>\n",
       "      <td>Forest Park Health Campus - 123</td>\n",
       "      <td>NaN</td>\n",
       "      <td>37.0</td>\n",
       "      <td>1.0</td>\n",
       "      <td>T</td>\n",
       "      <td>H</td>\n",
       "      <td>F</td>\n",
       "      <td>R</td>\n",
       "      <td>11</td>\n",
       "      <td>47374-7439</td>\n",
       "      <td>47339</td>\n",
       "      <td>3/16/12</td>\n",
       "      <td>3/16/12</td>\n",
       "      <td>102</td>\n",
       "      <td>0.0</td>\n",
       "      <td>1/1/18</td>\n",
       "      <td>NaN</td>\n",
       "      <td>NaN</td>\n",
       "      <td>NaN</td>\n",
       "    </tr>\n",
       "    <tr>\n",
       "      <th>8</th>\n",
       "      <td>41168.0</td>\n",
       "      <td>Franciscan Healthcare Center - 137</td>\n",
       "      <td>NaN</td>\n",
       "      <td>58.0</td>\n",
       "      <td>1.0</td>\n",
       "      <td>T</td>\n",
       "      <td>H</td>\n",
       "      <td>F</td>\n",
       "      <td>R</td>\n",
       "      <td>11.45</td>\n",
       "      <td>40219</td>\n",
       "      <td>40228</td>\n",
       "      <td>12/3/13</td>\n",
       "      <td>9/27/17</td>\n",
       "      <td>35</td>\n",
       "      <td>0.0</td>\n",
       "      <td>1/1/18</td>\n",
       "      <td>NaN</td>\n",
       "      <td>NaN</td>\n",
       "      <td>NaN</td>\n",
       "    </tr>\n",
       "    <tr>\n",
       "      <th>9</th>\n",
       "      <td>112349.0</td>\n",
       "      <td>Glen Ridge Health Campus - 126</td>\n",
       "      <td>NaN</td>\n",
       "      <td>35.0</td>\n",
       "      <td>1.0</td>\n",
       "      <td>T</td>\n",
       "      <td>H</td>\n",
       "      <td>P</td>\n",
       "      <td>R</td>\n",
       "      <td>12.59</td>\n",
       "      <td>40299-3250</td>\n",
       "      <td>40299</td>\n",
       "      <td>6/20/17</td>\n",
       "      <td>6/20/17</td>\n",
       "      <td>39</td>\n",
       "      <td>0.0</td>\n",
       "      <td>1/1/18</td>\n",
       "      <td>NaN</td>\n",
       "      <td>NaN</td>\n",
       "      <td>NaN</td>\n",
       "    </tr>\n",
       "  </tbody>\n",
       "</table>\n",
       "</div>"
      ],
      "text/plain": [
       "   ManagerID                              Location Name_m Race_m  Age_m  \\\n",
       "0   105489.0             Autumn Woods Health Campus - 105    NaN   35.0   \n",
       "1   112313.0             Autumn Woods Health Campus - 105    NaN   32.0   \n",
       "2   113617.0             Autumn Woods Health Campus - 105    NaN   40.0   \n",
       "3   113493.0             Autumn Woods Health Campus - 105    NaN   42.0   \n",
       "4    41470.0  Bethany Pointe Health Campus-Paragon - 1112  White   29.0   \n",
       "5    47970.0           Cypress Pointe Health Campus - 416    NaN   29.0   \n",
       "6    23538.0     Forest Glen Health Campus-Paragon - 1401    NaN   65.0   \n",
       "7    31106.0              Forest Park Health Campus - 123    NaN   37.0   \n",
       "8    41168.0           Franciscan Healthcare Center - 137    NaN   58.0   \n",
       "9   112349.0               Glen Ridge Health Campus - 126    NaN   35.0   \n",
       "\n",
       "   Female_m Status_m Pay type_m Work Status_m Work Status_m.1 CurrentPay_m  \\\n",
       "0       1.0        T          H             F               R        12.02   \n",
       "1       1.0        T          H             F               R        12.68   \n",
       "2       1.0        T          H             F               R           10   \n",
       "3       1.0        T          H             F               R        14.33   \n",
       "4       1.0        A          H             P               T           30   \n",
       "5       0.0        T          H             F               R        12.14   \n",
       "6       1.0        T          H             F               R        12.33   \n",
       "7       1.0        T          H             F               R           11   \n",
       "8       1.0        T          H             F               R        11.45   \n",
       "9       1.0        T          H             P               R        12.59   \n",
       "\n",
       "   Work Zip_m Home Zip_m THSHireDate_m JobStartDate_m  manager_tenure_month  \\\n",
       "0  47150-4316      47150       5/24/16        9/19/17                    36   \n",
       "1  47150-4316      47150       5/23/17        5/23/17                    40   \n",
       "2  47150-4316      47150       7/25/17        7/25/17                    37   \n",
       "3  47150-4316      47161       7/18/17        7/18/17                    38   \n",
       "4         NaN      46060       2/13/14        9/19/18                    24   \n",
       "5       45322      45406       2/10/15         5/1/16                    52   \n",
       "6         NaN      45505      10/14/10       12/13/10                   117   \n",
       "7  47374-7439      47339       3/16/12        3/16/12                   102   \n",
       "8       40219      40228       12/3/13        9/27/17                    35   \n",
       "9  40299-3250      40299       6/20/17        6/20/17                    39   \n",
       "\n",
       "   term_by_feb2020 TerminationDate_m TerminationReason_m DepartmentCode_m  \\\n",
       "0              0.0            1/1/18                 NaN              NaN   \n",
       "1              0.0            1/1/18                 NaN              NaN   \n",
       "2              0.0            1/1/18                 NaN              NaN   \n",
       "3              0.0            1/1/18                 NaN              NaN   \n",
       "4              0.0            1/1/18                 NaN              NaN   \n",
       "5              0.0            1/1/18                 NaN              NaN   \n",
       "6              0.0            1/1/18                 NaN              NaN   \n",
       "7              0.0            1/1/18                 NaN              NaN   \n",
       "8              0.0            1/1/18                 NaN              NaN   \n",
       "9              0.0            1/1/18                 NaN              NaN   \n",
       "\n",
       "  DepartmentName_m  \n",
       "0              NaN  \n",
       "1              NaN  \n",
       "2              NaN  \n",
       "3              NaN  \n",
       "4              NaN  \n",
       "5              NaN  \n",
       "6              NaN  \n",
       "7              NaN  \n",
       "8              NaN  \n",
       "9              NaN  "
      ]
     },
     "execution_count": 104,
     "metadata": {},
     "output_type": "execute_result"
    }
   ],
   "source": [
    "# Add manager level variables (manager data)\n",
    "dfmng= pd.read_csv(\"/Users/Ulkar/Google Drive/DATA SCIENCE/Insight Project/Code/manager.csv\", low_memory=False)\n",
    "dfmng.head(10)"
   ]
  },
  {
   "cell_type": "code",
   "execution_count": 58,
   "metadata": {},
   "outputs": [
    {
     "data": {
      "text/plain": [
       "dtype('float64')"
      ]
     },
     "execution_count": 58,
     "metadata": {},
     "output_type": "execute_result"
    }
   ],
   "source": [
    "dfmng['ManagerID'].dtypes"
   ]
  },
  {
   "cell_type": "code",
   "execution_count": null,
   "metadata": {},
   "outputs": [],
   "source": [
    "round(dfmng['ManagerID'])"
   ]
  },
  {
   "cell_type": "code",
   "execution_count": 78,
   "metadata": {},
   "outputs": [
    {
     "name": "stderr",
     "output_type": "stream",
     "text": [
      "/Users/Ulkar/opt/anaconda3/envs/insight/lib/python3.8/site-packages/ipykernel/ipkernel.py:287: DeprecationWarning: `should_run_async` will not call `transform_cell` automatically in the future. Please pass the result to `transformed_cell` argument and any exception that happen during thetransform in `preprocessing_exc_tuple` in IPython 7.17 and above.\n",
      "  and should_run_async(code)\n"
     ]
    },
    {
     "data": {
      "text/html": [
       "<div>\n",
       "<style scoped>\n",
       "    .dataframe tbody tr th:only-of-type {\n",
       "        vertical-align: middle;\n",
       "    }\n",
       "\n",
       "    .dataframe tbody tr th {\n",
       "        vertical-align: top;\n",
       "    }\n",
       "\n",
       "    .dataframe thead th {\n",
       "        text-align: right;\n",
       "    }\n",
       "</style>\n",
       "<table border=\"1\" class=\"dataframe\">\n",
       "  <thead>\n",
       "    <tr style=\"text-align: right;\">\n",
       "      <th></th>\n",
       "      <th>survey_code</th>\n",
       "      <th>submitted</th>\n",
       "      <th>ti_1</th>\n",
       "      <th>ti_2</th>\n",
       "      <th>ti_3</th>\n",
       "      <th>ti_4</th>\n",
       "      <th>ti_5</th>\n",
       "      <th>ti_6</th>\n",
       "      <th>ti_7</th>\n",
       "      <th>ti_8</th>\n",
       "      <th>...</th>\n",
       "      <th>Work Zip_m</th>\n",
       "      <th>Home Zip_m</th>\n",
       "      <th>THSHireDate_m</th>\n",
       "      <th>JobStartDate_m</th>\n",
       "      <th>manager_tenure_month</th>\n",
       "      <th>term_by_feb2020</th>\n",
       "      <th>TerminationDate_m</th>\n",
       "      <th>TerminationReason_m</th>\n",
       "      <th>DepartmentCode_m</th>\n",
       "      <th>DepartmentName_m</th>\n",
       "    </tr>\n",
       "  </thead>\n",
       "  <tbody>\n",
       "    <tr>\n",
       "      <th>0</th>\n",
       "      <td>bogle100101</td>\n",
       "      <td>True</td>\n",
       "      <td>5</td>\n",
       "      <td>5</td>\n",
       "      <td>4</td>\n",
       "      <td>4</td>\n",
       "      <td>4</td>\n",
       "      <td>4</td>\n",
       "      <td>4</td>\n",
       "      <td>3</td>\n",
       "      <td>...</td>\n",
       "      <td>40222</td>\n",
       "      <td>40202</td>\n",
       "      <td>10/17/11</td>\n",
       "      <td>1/1/17</td>\n",
       "      <td>44.0</td>\n",
       "      <td>NaN</td>\n",
       "      <td>NaN</td>\n",
       "      <td>NaN</td>\n",
       "      <td>128</td>\n",
       "      <td>Caregiver</td>\n",
       "    </tr>\n",
       "    <tr>\n",
       "      <th>1</th>\n",
       "      <td>shireman46870</td>\n",
       "      <td>True</td>\n",
       "      <td>4</td>\n",
       "      <td>5</td>\n",
       "      <td>3</td>\n",
       "      <td>5</td>\n",
       "      <td>4</td>\n",
       "      <td>4</td>\n",
       "      <td>3</td>\n",
       "      <td>3</td>\n",
       "      <td>...</td>\n",
       "      <td>40222</td>\n",
       "      <td>40243</td>\n",
       "      <td>8/8/16</td>\n",
       "      <td>3/23/20</td>\n",
       "      <td>6.0</td>\n",
       "      <td>NaN</td>\n",
       "      <td>NaN</td>\n",
       "      <td>NaN</td>\n",
       "      <td>1100</td>\n",
       "      <td>Home Office</td>\n",
       "    </tr>\n",
       "    <tr>\n",
       "      <th>2</th>\n",
       "      <td>gregorowicz124995</td>\n",
       "      <td>True</td>\n",
       "      <td>4</td>\n",
       "      <td>5</td>\n",
       "      <td>5</td>\n",
       "      <td>4</td>\n",
       "      <td>4</td>\n",
       "      <td>5</td>\n",
       "      <td>5</td>\n",
       "      <td>3</td>\n",
       "      <td>...</td>\n",
       "      <td>40299</td>\n",
       "      <td>43065</td>\n",
       "      <td>4/12/10</td>\n",
       "      <td>4/12/10</td>\n",
       "      <td>125.0</td>\n",
       "      <td>NaN</td>\n",
       "      <td>NaN</td>\n",
       "      <td>NaN</td>\n",
       "      <td>512</td>\n",
       "      <td>Nursing</td>\n",
       "    </tr>\n",
       "    <tr>\n",
       "      <th>3</th>\n",
       "      <td>gest30170</td>\n",
       "      <td>True</td>\n",
       "      <td>5</td>\n",
       "      <td>5</td>\n",
       "      <td>5</td>\n",
       "      <td>5</td>\n",
       "      <td>5</td>\n",
       "      <td>5</td>\n",
       "      <td>5</td>\n",
       "      <td>5</td>\n",
       "      <td>...</td>\n",
       "      <td>45504</td>\n",
       "      <td>45503</td>\n",
       "      <td>12/11/17</td>\n",
       "      <td>12/11/17</td>\n",
       "      <td>33.0</td>\n",
       "      <td>NaN</td>\n",
       "      <td>NaN</td>\n",
       "      <td>NaN</td>\n",
       "      <td>No Response</td>\n",
       "      <td>Other</td>\n",
       "    </tr>\n",
       "    <tr>\n",
       "      <th>4</th>\n",
       "      <td>crowel125796</td>\n",
       "      <td>True</td>\n",
       "      <td>5</td>\n",
       "      <td>5</td>\n",
       "      <td>5</td>\n",
       "      <td>5</td>\n",
       "      <td>5</td>\n",
       "      <td>5</td>\n",
       "      <td>5</td>\n",
       "      <td>5</td>\n",
       "      <td>...</td>\n",
       "      <td>40222</td>\n",
       "      <td>40059</td>\n",
       "      <td>1/5/16</td>\n",
       "      <td>10/1/19</td>\n",
       "      <td>11.0</td>\n",
       "      <td>NaN</td>\n",
       "      <td>NaN</td>\n",
       "      <td>NaN</td>\n",
       "      <td>NaN</td>\n",
       "      <td>NaN</td>\n",
       "    </tr>\n",
       "    <tr>\n",
       "      <th>5</th>\n",
       "      <td>canale123172</td>\n",
       "      <td>True</td>\n",
       "      <td>5</td>\n",
       "      <td>5</td>\n",
       "      <td>5</td>\n",
       "      <td>5</td>\n",
       "      <td>5</td>\n",
       "      <td>4</td>\n",
       "      <td>4</td>\n",
       "      <td>4</td>\n",
       "      <td>...</td>\n",
       "      <td>40222</td>\n",
       "      <td>40222</td>\n",
       "      <td>2/22/05</td>\n",
       "      <td>1/1/18</td>\n",
       "      <td>32.0</td>\n",
       "      <td>NaN</td>\n",
       "      <td>NaN</td>\n",
       "      <td>NaN</td>\n",
       "      <td>No Response</td>\n",
       "      <td>Pharmacy Tech</td>\n",
       "    </tr>\n",
       "    <tr>\n",
       "      <th>6</th>\n",
       "      <td>jones4159</td>\n",
       "      <td>True</td>\n",
       "      <td>5</td>\n",
       "      <td>5</td>\n",
       "      <td>5</td>\n",
       "      <td>4</td>\n",
       "      <td>4</td>\n",
       "      <td>4</td>\n",
       "      <td>4</td>\n",
       "      <td>5</td>\n",
       "      <td>...</td>\n",
       "      <td>46012-9669</td>\n",
       "      <td>46011</td>\n",
       "      <td>2/24/11</td>\n",
       "      <td>8/8/17</td>\n",
       "      <td>37.0</td>\n",
       "      <td>NaN</td>\n",
       "      <td>NaN</td>\n",
       "      <td>NaN</td>\n",
       "      <td>NaN</td>\n",
       "      <td>NaN</td>\n",
       "    </tr>\n",
       "    <tr>\n",
       "      <th>7</th>\n",
       "      <td>harrell100886</td>\n",
       "      <td>True</td>\n",
       "      <td>3</td>\n",
       "      <td>3</td>\n",
       "      <td>3</td>\n",
       "      <td>3</td>\n",
       "      <td>2</td>\n",
       "      <td>3</td>\n",
       "      <td>2</td>\n",
       "      <td>4</td>\n",
       "      <td>...</td>\n",
       "      <td>46356</td>\n",
       "      <td>46356</td>\n",
       "      <td>9/9/14</td>\n",
       "      <td>9/23/16</td>\n",
       "      <td>48.0</td>\n",
       "      <td>NaN</td>\n",
       "      <td>NaN</td>\n",
       "      <td>NaN</td>\n",
       "      <td>128</td>\n",
       "      <td>Caregiver</td>\n",
       "    </tr>\n",
       "    <tr>\n",
       "      <th>8</th>\n",
       "      <td>stuber50346</td>\n",
       "      <td>True</td>\n",
       "      <td>5</td>\n",
       "      <td>5</td>\n",
       "      <td>4</td>\n",
       "      <td>5</td>\n",
       "      <td>5</td>\n",
       "      <td>5</td>\n",
       "      <td>5</td>\n",
       "      <td>5</td>\n",
       "      <td>...</td>\n",
       "      <td>40222</td>\n",
       "      <td>40223</td>\n",
       "      <td>3/28/11</td>\n",
       "      <td>7/24/20</td>\n",
       "      <td>2.0</td>\n",
       "      <td>NaN</td>\n",
       "      <td>NaN</td>\n",
       "      <td>NaN</td>\n",
       "      <td>NaN</td>\n",
       "      <td>NaN</td>\n",
       "    </tr>\n",
       "    <tr>\n",
       "      <th>9</th>\n",
       "      <td>wilson127343</td>\n",
       "      <td>True</td>\n",
       "      <td>5</td>\n",
       "      <td>5</td>\n",
       "      <td>5</td>\n",
       "      <td>5</td>\n",
       "      <td>5</td>\n",
       "      <td>4</td>\n",
       "      <td>4</td>\n",
       "      <td>5</td>\n",
       "      <td>...</td>\n",
       "      <td>40330</td>\n",
       "      <td>40356</td>\n",
       "      <td>9/17/18</td>\n",
       "      <td>1/27/19</td>\n",
       "      <td>19.0</td>\n",
       "      <td>NaN</td>\n",
       "      <td>NaN</td>\n",
       "      <td>NaN</td>\n",
       "      <td>NaN</td>\n",
       "      <td>NaN</td>\n",
       "    </tr>\n",
       "  </tbody>\n",
       "</table>\n",
       "<p>10 rows × 142 columns</p>\n",
       "</div>"
      ],
      "text/plain": [
       "         survey_code  submitted  ti_1  ti_2  ti_3  ti_4  ti_5  ti_6  ti_7  \\\n",
       "0        bogle100101       True     5     5     4     4     4     4     4   \n",
       "1      shireman46870       True     4     5     3     5     4     4     3   \n",
       "2  gregorowicz124995       True     4     5     5     4     4     5     5   \n",
       "3          gest30170       True     5     5     5     5     5     5     5   \n",
       "4       crowel125796       True     5     5     5     5     5     5     5   \n",
       "5       canale123172       True     5     5     5     5     5     4     4   \n",
       "6          jones4159       True     5     5     5     4     4     4     4   \n",
       "7      harrell100886       True     3     3     3     3     2     3     2   \n",
       "8        stuber50346       True     5     5     4     5     5     5     5   \n",
       "9       wilson127343       True     5     5     5     5     5     4     4   \n",
       "\n",
       "   ti_8  ...  Work Zip_m  Home Zip_m  THSHireDate_m  JobStartDate_m  \\\n",
       "0     3  ...       40222       40202       10/17/11          1/1/17   \n",
       "1     3  ...       40222       40243         8/8/16         3/23/20   \n",
       "2     3  ...       40299       43065        4/12/10         4/12/10   \n",
       "3     5  ...       45504       45503       12/11/17        12/11/17   \n",
       "4     5  ...       40222       40059         1/5/16         10/1/19   \n",
       "5     4  ...       40222       40222        2/22/05          1/1/18   \n",
       "6     5  ...  46012-9669       46011        2/24/11          8/8/17   \n",
       "7     4  ...       46356       46356         9/9/14         9/23/16   \n",
       "8     5  ...       40222       40223        3/28/11         7/24/20   \n",
       "9     5  ...       40330       40356        9/17/18         1/27/19   \n",
       "\n",
       "   manager_tenure_month  term_by_feb2020  TerminationDate_m  \\\n",
       "0                  44.0              NaN                NaN   \n",
       "1                   6.0              NaN                NaN   \n",
       "2                 125.0              NaN                NaN   \n",
       "3                  33.0              NaN                NaN   \n",
       "4                  11.0              NaN                NaN   \n",
       "5                  32.0              NaN                NaN   \n",
       "6                  37.0              NaN                NaN   \n",
       "7                  48.0              NaN                NaN   \n",
       "8                   2.0              NaN                NaN   \n",
       "9                  19.0              NaN                NaN   \n",
       "\n",
       "   TerminationReason_m  DepartmentCode_m  DepartmentName_m  \n",
       "0                  NaN               128         Caregiver  \n",
       "1                  NaN              1100       Home Office  \n",
       "2                  NaN               512           Nursing  \n",
       "3                  NaN       No Response             Other  \n",
       "4                  NaN               NaN               NaN  \n",
       "5                  NaN       No Response     Pharmacy Tech  \n",
       "6                  NaN               NaN               NaN  \n",
       "7                  NaN               128         Caregiver  \n",
       "8                  NaN               NaN               NaN  \n",
       "9                  NaN               NaN               NaN  \n",
       "\n",
       "[10 rows x 142 columns]"
      ]
     },
     "execution_count": 78,
     "metadata": {},
     "output_type": "execute_result"
    }
   ],
   "source": [
    "df_all=pd.merge(df_merged, dfmng, how='left',  left_on=\"ManagerID\", right_on=\"ManagerID\")\n",
    "df_all.head(10)"
   ]
  },
  {
   "cell_type": "code",
   "execution_count": 66,
   "metadata": {},
   "outputs": [
    {
     "data": {
      "text/plain": [
       "(11967, 142)"
      ]
     },
     "execution_count": 66,
     "metadata": {},
     "output_type": "execute_result"
    }
   ],
   "source": [
    "df_all.shape"
   ]
  },
  {
   "cell_type": "code",
   "execution_count": 67,
   "metadata": {},
   "outputs": [
    {
     "data": {
      "text/plain": [
       "['survey_code',\n",
       " 'submitted',\n",
       " 'ti_1',\n",
       " 'ti_2',\n",
       " 'ti_3',\n",
       " 'ti_4',\n",
       " 'ti_5',\n",
       " 'ti_6',\n",
       " 'ti_7',\n",
       " 'ti_8',\n",
       " 'ti_9',\n",
       " 'ti_10',\n",
       " 'ti_11',\n",
       " 'ti_12',\n",
       " 'ti_13',\n",
       " 'ti_14',\n",
       " 'ti_15',\n",
       " 'ti_16',\n",
       " 'ti_17',\n",
       " 'ti_18',\n",
       " 'ti_19',\n",
       " 'ti_20',\n",
       " 'ti_21',\n",
       " 'ti_22',\n",
       " 'ti_23',\n",
       " 'ti_24',\n",
       " 'ti_25',\n",
       " 'ti_26',\n",
       " 'ti_27',\n",
       " 'ti_28',\n",
       " 'ti_29',\n",
       " 'ti_30',\n",
       " 'ti_31',\n",
       " 'ti_32',\n",
       " 'ti_33',\n",
       " 'ti_34',\n",
       " 'ti_35',\n",
       " 'ti_36',\n",
       " 'ti_37',\n",
       " 'ti_38',\n",
       " 'ti_39',\n",
       " 'ti_40',\n",
       " 'ti_41',\n",
       " 'ti_42',\n",
       " 'ti_43',\n",
       " 'ti_44',\n",
       " 'ti_45',\n",
       " 'ti_46',\n",
       " 'ti_47',\n",
       " 'ti_48',\n",
       " 'ti_49',\n",
       " 'ti_50',\n",
       " 'ti_51',\n",
       " 'ti_52',\n",
       " 'ti_53',\n",
       " 'ti_54',\n",
       " 'ti_55',\n",
       " 'ti_56',\n",
       " 'ti_57',\n",
       " 'ti_58',\n",
       " 'ti_59',\n",
       " 'ti_60',\n",
       " 'overall_positive',\n",
       " 'overall_inconsistent',\n",
       " 'overall_negative',\n",
       " 'TI 1+',\n",
       " 'TI 4',\n",
       " 'TI 5',\n",
       " 'TI all',\n",
       " 'TI score',\n",
       " 'Tenure',\n",
       " 'Work Status',\n",
       " 'Pay Type',\n",
       " 'Female',\n",
       " 'Race',\n",
       " 'Hire Date',\n",
       " 'HireDays',\n",
       " 'Managerial Level',\n",
       " 'Confidence in Executive Team_x',\n",
       " 'Meaningful Innovation Opportunities',\n",
       " 'Postal/Zip Code',\n",
       " 'Location Name',\n",
       " 'Date of Birth',\n",
       " 'Department Code',\n",
       " 'DepartmentName_x',\n",
       " 'Job Title',\n",
       " 'Region ID',\n",
       " 'Employee ID',\n",
       " 'ManagerID',\n",
       " 'Demographics (Race)',\n",
       " 'Age_master',\n",
       " 'Female_master',\n",
       " 'Status_master',\n",
       " 'Pay type_master',\n",
       " 'WorkStatus',\n",
       " 'WorkStatus2_master',\n",
       " 'CurrentPay_master',\n",
       " 'Work Zip',\n",
       " 'Home Zip',\n",
       " 'THS Hire Date',\n",
       " 'Job Start Date',\n",
       " 'Termination Date',\n",
       " 'Termination Reason',\n",
       " 'Apprenticeship Benefit',\n",
       " 'StudentLoan',\n",
       " 'Scholarship',\n",
       " 'Dependent',\n",
       " 'Purdue Global',\n",
       " 'EmergencyAssistanceReceived ',\n",
       " 'Eligibleforhealthcare',\n",
       " 'Opt IN for healthcare',\n",
       " 'Confidence in Executive Team_y',\n",
       " 'LocationName',\n",
       " 'JobTitle',\n",
       " 'Department',\n",
       " 'DepartmentBenchmark',\n",
       " 'DepartmentCode',\n",
       " 'DepartmentName_y',\n",
       " 'Disabilities',\n",
       " 'Aug2018RespondentID',\n",
       " 'Feb2019SurveyCode',\n",
       " 'Fall(Aug)2019SurveyCode',\n",
       " 'Feb2020SurveyCode',\n",
       " 'Location Name_m',\n",
       " 'Race_m',\n",
       " 'Age_m',\n",
       " 'Female_m',\n",
       " 'Status_m',\n",
       " 'Pay type_m',\n",
       " 'Work Status_m',\n",
       " 'Work Status_m.1',\n",
       " 'CurrentPay_m',\n",
       " 'Work Zip_m',\n",
       " 'Home Zip_m',\n",
       " 'THSHireDate_m',\n",
       " 'JobStartDate_m',\n",
       " 'manager_tenure_month',\n",
       " 'term_by_feb2020',\n",
       " 'TerminationDate_m',\n",
       " 'TerminationReason_m',\n",
       " 'DepartmentCode_m',\n",
       " 'DepartmentName_m']"
      ]
     },
     "execution_count": 67,
     "metadata": {},
     "output_type": "execute_result"
    }
   ],
   "source": [
    "list(df_all.columns)"
   ]
  },
  {
   "cell_type": "code",
   "execution_count": 119,
   "metadata": {},
   "outputs": [],
   "source": [
    "df_all['CurrentPay_m']=(pd.to_numeric(df_all['CurrentPay_m'], errors='coerce'))\n",
    "df_all['CurrentPay_master']=(pd.to_numeric(df_all['CurrentPay_master'], errors='coerce'))\n",
    "df_all['CurrentPay_m'].fillna(df_all['CurrentPay_m'].mean(), inplace=True)\n",
    "df_all['CurrentPay_master'].fillna(df_all['CurrentPay_master'].mean(), inplace=True)"
   ]
  },
  {
   "cell_type": "code",
   "execution_count": 120,
   "metadata": {},
   "outputs": [],
   "source": [
    "df_all['CurrentPay_m_logged']=np.log(df_all['CurrentPay_m'])\n",
    "df_all['CurrentPay_master_logged']=np.log(df_all['CurrentPay_master'])"
   ]
  },
  {
   "cell_type": "code",
   "execution_count": 121,
   "metadata": {},
   "outputs": [],
   "source": [
    "df_all['Age_m']=(pd.to_numeric(df_all['Age_m'], errors='coerce'))\n",
    "df_all['manager_tenure_month']=(pd.to_numeric(df_all['manager_tenure_month'], errors='coerce'))\n",
    "df_all['Age_m'].fillna(df_all['Age_m'].mean(), inplace=True)\n",
    "df_all['manager_tenure_month'].fillna(df_all['manager_tenure_month'].mean(), inplace=True)"
   ]
  },
  {
   "cell_type": "code",
   "execution_count": 79,
   "metadata": {},
   "outputs": [
    {
     "name": "stderr",
     "output_type": "stream",
     "text": [
      "/Users/Ulkar/opt/anaconda3/envs/insight/lib/python3.8/site-packages/ipykernel/ipkernel.py:287: DeprecationWarning: `should_run_async` will not call `transform_cell` automatically in the future. Please pass the result to `transformed_cell` argument and any exception that happen during thetransform in `preprocessing_exc_tuple` in IPython 7.17 and above.\n",
      "  and should_run_async(code)\n"
     ]
    },
    {
     "data": {
      "text/plain": [
       "3066"
      ]
     },
     "execution_count": 79,
     "metadata": {},
     "output_type": "execute_result"
    }
   ],
   "source": [
    "df_all['Female_m'].isnull().sum()"
   ]
  },
  {
   "cell_type": "code",
   "execution_count": 122,
   "metadata": {},
   "outputs": [
    {
     "data": {
      "text/plain": [
       "0"
      ]
     },
     "execution_count": 122,
     "metadata": {},
     "output_type": "execute_result"
    }
   ],
   "source": [
    "df_all2['Race_m'].isnull().sum()"
   ]
  },
  {
   "cell_type": "code",
   "execution_count": 123,
   "metadata": {},
   "outputs": [],
   "source": [
    "# Dropped Female missing columns\n",
    "df_all2 = df_all[pd.notnull(df_all['Female_m'])]\n",
    "df_all2 = df_all2[pd.notnull(df_all2['Race_m'])]"
   ]
  },
  {
   "cell_type": "code",
   "execution_count": 124,
   "metadata": {},
   "outputs": [],
   "source": [
    "count_mng=df_all2.groupby(['ManagerID']).count()"
   ]
  },
  {
   "cell_type": "code",
   "execution_count": 125,
   "metadata": {},
   "outputs": [],
   "source": [
    "count_mng=count_mng[count_mng[\"survey_code\"]>=5]\n",
    "count_mng['ManagerID'] = count_mng.index"
   ]
  },
  {
   "cell_type": "code",
   "execution_count": 126,
   "metadata": {},
   "outputs": [
    {
     "name": "stderr",
     "output_type": "stream",
     "text": [
      "/Users/Ulkar/opt/anaconda3/envs/insight/lib/python3.8/site-packages/ipykernel/ipkernel.py:287: DeprecationWarning: `should_run_async` will not call `transform_cell` automatically in the future. Please pass the result to `transformed_cell` argument and any exception that happen during thetransform in `preprocessing_exc_tuple` in IPython 7.17 and above.\n",
      "  and should_run_async(code)\n"
     ]
    },
    {
     "data": {
      "text/html": [
       "<div>\n",
       "<style scoped>\n",
       "    .dataframe tbody tr th:only-of-type {\n",
       "        vertical-align: middle;\n",
       "    }\n",
       "\n",
       "    .dataframe tbody tr th {\n",
       "        vertical-align: top;\n",
       "    }\n",
       "\n",
       "    .dataframe thead th {\n",
       "        text-align: right;\n",
       "    }\n",
       "</style>\n",
       "<table border=\"1\" class=\"dataframe\">\n",
       "  <thead>\n",
       "    <tr style=\"text-align: right;\">\n",
       "      <th></th>\n",
       "      <th>survey_code</th>\n",
       "      <th>submitted</th>\n",
       "      <th>ti_1</th>\n",
       "      <th>ti_2</th>\n",
       "      <th>ti_3</th>\n",
       "      <th>ti_4</th>\n",
       "      <th>ti_5</th>\n",
       "      <th>ti_6</th>\n",
       "      <th>ti_7</th>\n",
       "      <th>ti_8</th>\n",
       "      <th>...</th>\n",
       "      <th>THSHireDate_m</th>\n",
       "      <th>JobStartDate_m</th>\n",
       "      <th>manager_tenure_month</th>\n",
       "      <th>term_by_feb2020</th>\n",
       "      <th>TerminationDate_m</th>\n",
       "      <th>TerminationReason_m</th>\n",
       "      <th>DepartmentCode_m</th>\n",
       "      <th>DepartmentName_m</th>\n",
       "      <th>CurrentPay_m_logged</th>\n",
       "      <th>CurrentPay_master_logged</th>\n",
       "    </tr>\n",
       "  </thead>\n",
       "  <tbody>\n",
       "    <tr>\n",
       "      <th>0</th>\n",
       "      <td>bogle100101</td>\n",
       "      <td>True</td>\n",
       "      <td>5</td>\n",
       "      <td>5</td>\n",
       "      <td>4</td>\n",
       "      <td>4</td>\n",
       "      <td>4</td>\n",
       "      <td>4</td>\n",
       "      <td>4</td>\n",
       "      <td>3</td>\n",
       "      <td>...</td>\n",
       "      <td>10/17/11</td>\n",
       "      <td>1/1/17</td>\n",
       "      <td>44.0</td>\n",
       "      <td>NaN</td>\n",
       "      <td>NaN</td>\n",
       "      <td>NaN</td>\n",
       "      <td>128</td>\n",
       "      <td>Caregiver</td>\n",
       "      <td>3.686044</td>\n",
       "      <td>3.040123</td>\n",
       "    </tr>\n",
       "    <tr>\n",
       "      <th>1</th>\n",
       "      <td>shireman46870</td>\n",
       "      <td>True</td>\n",
       "      <td>4</td>\n",
       "      <td>5</td>\n",
       "      <td>3</td>\n",
       "      <td>5</td>\n",
       "      <td>4</td>\n",
       "      <td>4</td>\n",
       "      <td>3</td>\n",
       "      <td>3</td>\n",
       "      <td>...</td>\n",
       "      <td>8/8/16</td>\n",
       "      <td>3/23/20</td>\n",
       "      <td>6.0</td>\n",
       "      <td>NaN</td>\n",
       "      <td>NaN</td>\n",
       "      <td>NaN</td>\n",
       "      <td>1100</td>\n",
       "      <td>Home Office</td>\n",
       "      <td>3.686044</td>\n",
       "      <td>3.040123</td>\n",
       "    </tr>\n",
       "    <tr>\n",
       "      <th>2</th>\n",
       "      <td>gregorowicz124995</td>\n",
       "      <td>True</td>\n",
       "      <td>4</td>\n",
       "      <td>5</td>\n",
       "      <td>5</td>\n",
       "      <td>4</td>\n",
       "      <td>4</td>\n",
       "      <td>5</td>\n",
       "      <td>5</td>\n",
       "      <td>3</td>\n",
       "      <td>...</td>\n",
       "      <td>4/12/10</td>\n",
       "      <td>4/12/10</td>\n",
       "      <td>125.0</td>\n",
       "      <td>NaN</td>\n",
       "      <td>NaN</td>\n",
       "      <td>NaN</td>\n",
       "      <td>512</td>\n",
       "      <td>Nursing</td>\n",
       "      <td>3.686044</td>\n",
       "      <td>4.340684</td>\n",
       "    </tr>\n",
       "    <tr>\n",
       "      <th>4</th>\n",
       "      <td>crowel125796</td>\n",
       "      <td>True</td>\n",
       "      <td>5</td>\n",
       "      <td>5</td>\n",
       "      <td>5</td>\n",
       "      <td>5</td>\n",
       "      <td>5</td>\n",
       "      <td>5</td>\n",
       "      <td>5</td>\n",
       "      <td>5</td>\n",
       "      <td>...</td>\n",
       "      <td>1/5/16</td>\n",
       "      <td>10/1/19</td>\n",
       "      <td>11.0</td>\n",
       "      <td>NaN</td>\n",
       "      <td>NaN</td>\n",
       "      <td>NaN</td>\n",
       "      <td>NaN</td>\n",
       "      <td>NaN</td>\n",
       "      <td>3.686044</td>\n",
       "      <td>3.040123</td>\n",
       "    </tr>\n",
       "    <tr>\n",
       "      <th>5</th>\n",
       "      <td>canale123172</td>\n",
       "      <td>True</td>\n",
       "      <td>5</td>\n",
       "      <td>5</td>\n",
       "      <td>5</td>\n",
       "      <td>5</td>\n",
       "      <td>5</td>\n",
       "      <td>4</td>\n",
       "      <td>4</td>\n",
       "      <td>4</td>\n",
       "      <td>...</td>\n",
       "      <td>2/22/05</td>\n",
       "      <td>1/1/18</td>\n",
       "      <td>32.0</td>\n",
       "      <td>NaN</td>\n",
       "      <td>NaN</td>\n",
       "      <td>NaN</td>\n",
       "      <td>No Response</td>\n",
       "      <td>Pharmacy Tech</td>\n",
       "      <td>3.686044</td>\n",
       "      <td>3.040123</td>\n",
       "    </tr>\n",
       "    <tr>\n",
       "      <th>7</th>\n",
       "      <td>harrell100886</td>\n",
       "      <td>True</td>\n",
       "      <td>3</td>\n",
       "      <td>3</td>\n",
       "      <td>3</td>\n",
       "      <td>3</td>\n",
       "      <td>2</td>\n",
       "      <td>3</td>\n",
       "      <td>2</td>\n",
       "      <td>4</td>\n",
       "      <td>...</td>\n",
       "      <td>9/9/14</td>\n",
       "      <td>9/23/16</td>\n",
       "      <td>48.0</td>\n",
       "      <td>NaN</td>\n",
       "      <td>NaN</td>\n",
       "      <td>NaN</td>\n",
       "      <td>128</td>\n",
       "      <td>Caregiver</td>\n",
       "      <td>3.826683</td>\n",
       "      <td>2.802148</td>\n",
       "    </tr>\n",
       "    <tr>\n",
       "      <th>8</th>\n",
       "      <td>stuber50346</td>\n",
       "      <td>True</td>\n",
       "      <td>5</td>\n",
       "      <td>5</td>\n",
       "      <td>4</td>\n",
       "      <td>5</td>\n",
       "      <td>5</td>\n",
       "      <td>5</td>\n",
       "      <td>5</td>\n",
       "      <td>5</td>\n",
       "      <td>...</td>\n",
       "      <td>3/28/11</td>\n",
       "      <td>7/24/20</td>\n",
       "      <td>2.0</td>\n",
       "      <td>NaN</td>\n",
       "      <td>NaN</td>\n",
       "      <td>NaN</td>\n",
       "      <td>NaN</td>\n",
       "      <td>NaN</td>\n",
       "      <td>3.686044</td>\n",
       "      <td>3.040123</td>\n",
       "    </tr>\n",
       "    <tr>\n",
       "      <th>10</th>\n",
       "      <td>jackson119765</td>\n",
       "      <td>True</td>\n",
       "      <td>3</td>\n",
       "      <td>4</td>\n",
       "      <td>3</td>\n",
       "      <td>4</td>\n",
       "      <td>4</td>\n",
       "      <td>3</td>\n",
       "      <td>3</td>\n",
       "      <td>4</td>\n",
       "      <td>...</td>\n",
       "      <td>1/23/17</td>\n",
       "      <td>7/7/19</td>\n",
       "      <td>14.0</td>\n",
       "      <td>NaN</td>\n",
       "      <td>NaN</td>\n",
       "      <td>NaN</td>\n",
       "      <td>111</td>\n",
       "      <td>Other</td>\n",
       "      <td>4.554193</td>\n",
       "      <td>3.054473</td>\n",
       "    </tr>\n",
       "    <tr>\n",
       "      <th>12</th>\n",
       "      <td>radford116305</td>\n",
       "      <td>True</td>\n",
       "      <td>5</td>\n",
       "      <td>5</td>\n",
       "      <td>5</td>\n",
       "      <td>5</td>\n",
       "      <td>5</td>\n",
       "      <td>5</td>\n",
       "      <td>4</td>\n",
       "      <td>3</td>\n",
       "      <td>...</td>\n",
       "      <td>12/11/17</td>\n",
       "      <td>4/16/18</td>\n",
       "      <td>29.0</td>\n",
       "      <td>NaN</td>\n",
       "      <td>NaN</td>\n",
       "      <td>NaN</td>\n",
       "      <td>512</td>\n",
       "      <td>Dietary</td>\n",
       "      <td>4.144087</td>\n",
       "      <td>2.880882</td>\n",
       "    </tr>\n",
       "    <tr>\n",
       "      <th>13</th>\n",
       "      <td>giordanengo115211</td>\n",
       "      <td>True</td>\n",
       "      <td>5</td>\n",
       "      <td>5</td>\n",
       "      <td>5</td>\n",
       "      <td>5</td>\n",
       "      <td>5</td>\n",
       "      <td>5</td>\n",
       "      <td>5</td>\n",
       "      <td>5</td>\n",
       "      <td>...</td>\n",
       "      <td>9/25/17</td>\n",
       "      <td>9/25/17</td>\n",
       "      <td>35.0</td>\n",
       "      <td>NaN</td>\n",
       "      <td>NaN</td>\n",
       "      <td>NaN</td>\n",
       "      <td>128</td>\n",
       "      <td>Caregiver</td>\n",
       "      <td>3.370051</td>\n",
       "      <td>2.947592</td>\n",
       "    </tr>\n",
       "  </tbody>\n",
       "</table>\n",
       "<p>10 rows × 144 columns</p>\n",
       "</div>"
      ],
      "text/plain": [
       "          survey_code  submitted  ti_1  ti_2  ti_3  ti_4  ti_5  ti_6  ti_7  \\\n",
       "0         bogle100101       True     5     5     4     4     4     4     4   \n",
       "1       shireman46870       True     4     5     3     5     4     4     3   \n",
       "2   gregorowicz124995       True     4     5     5     4     4     5     5   \n",
       "4        crowel125796       True     5     5     5     5     5     5     5   \n",
       "5        canale123172       True     5     5     5     5     5     4     4   \n",
       "7       harrell100886       True     3     3     3     3     2     3     2   \n",
       "8         stuber50346       True     5     5     4     5     5     5     5   \n",
       "10      jackson119765       True     3     4     3     4     4     3     3   \n",
       "12      radford116305       True     5     5     5     5     5     5     4   \n",
       "13  giordanengo115211       True     5     5     5     5     5     5     5   \n",
       "\n",
       "    ti_8  ...  THSHireDate_m  JobStartDate_m  manager_tenure_month  \\\n",
       "0      3  ...       10/17/11          1/1/17                  44.0   \n",
       "1      3  ...         8/8/16         3/23/20                   6.0   \n",
       "2      3  ...        4/12/10         4/12/10                 125.0   \n",
       "4      5  ...         1/5/16         10/1/19                  11.0   \n",
       "5      4  ...        2/22/05          1/1/18                  32.0   \n",
       "7      4  ...         9/9/14         9/23/16                  48.0   \n",
       "8      5  ...        3/28/11         7/24/20                   2.0   \n",
       "10     4  ...        1/23/17          7/7/19                  14.0   \n",
       "12     3  ...       12/11/17         4/16/18                  29.0   \n",
       "13     5  ...        9/25/17         9/25/17                  35.0   \n",
       "\n",
       "    term_by_feb2020  TerminationDate_m  TerminationReason_m  DepartmentCode_m  \\\n",
       "0               NaN                NaN                  NaN               128   \n",
       "1               NaN                NaN                  NaN              1100   \n",
       "2               NaN                NaN                  NaN               512   \n",
       "4               NaN                NaN                  NaN               NaN   \n",
       "5               NaN                NaN                  NaN       No Response   \n",
       "7               NaN                NaN                  NaN               128   \n",
       "8               NaN                NaN                  NaN               NaN   \n",
       "10              NaN                NaN                  NaN               111   \n",
       "12              NaN                NaN                  NaN               512   \n",
       "13              NaN                NaN                  NaN               128   \n",
       "\n",
       "    DepartmentName_m  CurrentPay_m_logged  CurrentPay_master_logged  \n",
       "0          Caregiver             3.686044                  3.040123  \n",
       "1        Home Office             3.686044                  3.040123  \n",
       "2            Nursing             3.686044                  4.340684  \n",
       "4                NaN             3.686044                  3.040123  \n",
       "5      Pharmacy Tech             3.686044                  3.040123  \n",
       "7          Caregiver             3.826683                  2.802148  \n",
       "8                NaN             3.686044                  3.040123  \n",
       "10             Other             4.554193                  3.054473  \n",
       "12           Dietary             4.144087                  2.880882  \n",
       "13         Caregiver             3.370051                  2.947592  \n",
       "\n",
       "[10 rows x 144 columns]"
      ]
     },
     "execution_count": 126,
     "metadata": {},
     "output_type": "execute_result"
    }
   ],
   "source": [
    "df_all3=df_all2[df_all2['ManagerID'].isin(count_mng['ManagerID'])]\n",
    "df_all3.head(10)"
   ]
  },
  {
   "cell_type": "code",
   "execution_count": 127,
   "metadata": {},
   "outputs": [
    {
     "name": "stderr",
     "output_type": "stream",
     "text": [
      "/Users/Ulkar/opt/anaconda3/envs/insight/lib/python3.8/site-packages/ipykernel/ipkernel.py:287: DeprecationWarning: `should_run_async` will not call `transform_cell` automatically in the future. Please pass the result to `transformed_cell` argument and any exception that happen during thetransform in `preprocessing_exc_tuple` in IPython 7.17 and above.\n",
      "  and should_run_async(code)\n"
     ]
    },
    {
     "data": {
      "text/html": [
       "<div>\n",
       "<style scoped>\n",
       "    .dataframe tbody tr th:only-of-type {\n",
       "        vertical-align: middle;\n",
       "    }\n",
       "\n",
       "    .dataframe tbody tr th {\n",
       "        vertical-align: top;\n",
       "    }\n",
       "\n",
       "    .dataframe thead th {\n",
       "        text-align: right;\n",
       "    }\n",
       "</style>\n",
       "<table border=\"1\" class=\"dataframe\">\n",
       "  <thead>\n",
       "    <tr style=\"text-align: right;\">\n",
       "      <th></th>\n",
       "      <th>ti_1</th>\n",
       "      <th>ti_2</th>\n",
       "      <th>ti_3</th>\n",
       "      <th>ti_4</th>\n",
       "      <th>ti_5</th>\n",
       "      <th>ti_6</th>\n",
       "      <th>ti_7</th>\n",
       "      <th>ti_8</th>\n",
       "      <th>ti_9</th>\n",
       "      <th>ti_10</th>\n",
       "      <th>...</th>\n",
       "      <th>ti_51</th>\n",
       "      <th>ti_52</th>\n",
       "      <th>ti_53</th>\n",
       "      <th>ti_54</th>\n",
       "      <th>ti_55</th>\n",
       "      <th>ti_56</th>\n",
       "      <th>ti_57</th>\n",
       "      <th>ti_58</th>\n",
       "      <th>ti_59</th>\n",
       "      <th>ti_60</th>\n",
       "    </tr>\n",
       "  </thead>\n",
       "  <tbody>\n",
       "    <tr>\n",
       "      <th>0</th>\n",
       "      <td>5</td>\n",
       "      <td>5</td>\n",
       "      <td>4</td>\n",
       "      <td>4</td>\n",
       "      <td>4</td>\n",
       "      <td>4</td>\n",
       "      <td>4</td>\n",
       "      <td>3</td>\n",
       "      <td>5</td>\n",
       "      <td>3</td>\n",
       "      <td>...</td>\n",
       "      <td>4</td>\n",
       "      <td>4</td>\n",
       "      <td>4</td>\n",
       "      <td>5</td>\n",
       "      <td>5</td>\n",
       "      <td>5</td>\n",
       "      <td>5</td>\n",
       "      <td>4</td>\n",
       "      <td>4</td>\n",
       "      <td>5</td>\n",
       "    </tr>\n",
       "    <tr>\n",
       "      <th>1</th>\n",
       "      <td>4</td>\n",
       "      <td>5</td>\n",
       "      <td>3</td>\n",
       "      <td>5</td>\n",
       "      <td>4</td>\n",
       "      <td>4</td>\n",
       "      <td>3</td>\n",
       "      <td>3</td>\n",
       "      <td>2</td>\n",
       "      <td>3</td>\n",
       "      <td>...</td>\n",
       "      <td>4</td>\n",
       "      <td>4</td>\n",
       "      <td>4</td>\n",
       "      <td>2</td>\n",
       "      <td>4</td>\n",
       "      <td>4</td>\n",
       "      <td>5</td>\n",
       "      <td>2</td>\n",
       "      <td>3</td>\n",
       "      <td>5</td>\n",
       "    </tr>\n",
       "    <tr>\n",
       "      <th>2</th>\n",
       "      <td>4</td>\n",
       "      <td>5</td>\n",
       "      <td>5</td>\n",
       "      <td>4</td>\n",
       "      <td>4</td>\n",
       "      <td>5</td>\n",
       "      <td>5</td>\n",
       "      <td>3</td>\n",
       "      <td>5</td>\n",
       "      <td>4</td>\n",
       "      <td>...</td>\n",
       "      <td>5</td>\n",
       "      <td>4</td>\n",
       "      <td>5</td>\n",
       "      <td>5</td>\n",
       "      <td>5</td>\n",
       "      <td>5</td>\n",
       "      <td>5</td>\n",
       "      <td>5</td>\n",
       "      <td>5</td>\n",
       "      <td>5</td>\n",
       "    </tr>\n",
       "    <tr>\n",
       "      <th>4</th>\n",
       "      <td>5</td>\n",
       "      <td>5</td>\n",
       "      <td>5</td>\n",
       "      <td>5</td>\n",
       "      <td>5</td>\n",
       "      <td>5</td>\n",
       "      <td>5</td>\n",
       "      <td>5</td>\n",
       "      <td>5</td>\n",
       "      <td>5</td>\n",
       "      <td>...</td>\n",
       "      <td>5</td>\n",
       "      <td>5</td>\n",
       "      <td>5</td>\n",
       "      <td>5</td>\n",
       "      <td>5</td>\n",
       "      <td>5</td>\n",
       "      <td>5</td>\n",
       "      <td>5</td>\n",
       "      <td>5</td>\n",
       "      <td>5</td>\n",
       "    </tr>\n",
       "    <tr>\n",
       "      <th>5</th>\n",
       "      <td>5</td>\n",
       "      <td>5</td>\n",
       "      <td>5</td>\n",
       "      <td>5</td>\n",
       "      <td>5</td>\n",
       "      <td>4</td>\n",
       "      <td>4</td>\n",
       "      <td>4</td>\n",
       "      <td>4</td>\n",
       "      <td>4</td>\n",
       "      <td>...</td>\n",
       "      <td>5</td>\n",
       "      <td>5</td>\n",
       "      <td>4</td>\n",
       "      <td>4</td>\n",
       "      <td>5</td>\n",
       "      <td>4</td>\n",
       "      <td>5</td>\n",
       "      <td>5</td>\n",
       "      <td>5</td>\n",
       "      <td>5</td>\n",
       "    </tr>\n",
       "    <tr>\n",
       "      <th>...</th>\n",
       "      <td>...</td>\n",
       "      <td>...</td>\n",
       "      <td>...</td>\n",
       "      <td>...</td>\n",
       "      <td>...</td>\n",
       "      <td>...</td>\n",
       "      <td>...</td>\n",
       "      <td>...</td>\n",
       "      <td>...</td>\n",
       "      <td>...</td>\n",
       "      <td>...</td>\n",
       "      <td>...</td>\n",
       "      <td>...</td>\n",
       "      <td>...</td>\n",
       "      <td>...</td>\n",
       "      <td>...</td>\n",
       "      <td>...</td>\n",
       "      <td>...</td>\n",
       "      <td>...</td>\n",
       "      <td>...</td>\n",
       "      <td>...</td>\n",
       "    </tr>\n",
       "    <tr>\n",
       "      <th>11959</th>\n",
       "      <td>5</td>\n",
       "      <td>5</td>\n",
       "      <td>5</td>\n",
       "      <td>5</td>\n",
       "      <td>5</td>\n",
       "      <td>5</td>\n",
       "      <td>5</td>\n",
       "      <td>5</td>\n",
       "      <td>5</td>\n",
       "      <td>5</td>\n",
       "      <td>...</td>\n",
       "      <td>5</td>\n",
       "      <td>5</td>\n",
       "      <td>5</td>\n",
       "      <td>5</td>\n",
       "      <td>5</td>\n",
       "      <td>5</td>\n",
       "      <td>5</td>\n",
       "      <td>5</td>\n",
       "      <td>5</td>\n",
       "      <td>5</td>\n",
       "    </tr>\n",
       "    <tr>\n",
       "      <th>11960</th>\n",
       "      <td>5</td>\n",
       "      <td>5</td>\n",
       "      <td>5</td>\n",
       "      <td>5</td>\n",
       "      <td>5</td>\n",
       "      <td>5</td>\n",
       "      <td>4</td>\n",
       "      <td>5</td>\n",
       "      <td>5</td>\n",
       "      <td>4</td>\n",
       "      <td>...</td>\n",
       "      <td>5</td>\n",
       "      <td>5</td>\n",
       "      <td>5</td>\n",
       "      <td>5</td>\n",
       "      <td>4</td>\n",
       "      <td>5</td>\n",
       "      <td>5</td>\n",
       "      <td>5</td>\n",
       "      <td>5</td>\n",
       "      <td>5</td>\n",
       "    </tr>\n",
       "    <tr>\n",
       "      <th>11964</th>\n",
       "      <td>5</td>\n",
       "      <td>5</td>\n",
       "      <td>5</td>\n",
       "      <td>5</td>\n",
       "      <td>5</td>\n",
       "      <td>5</td>\n",
       "      <td>5</td>\n",
       "      <td>5</td>\n",
       "      <td>5</td>\n",
       "      <td>5</td>\n",
       "      <td>...</td>\n",
       "      <td>5</td>\n",
       "      <td>5</td>\n",
       "      <td>5</td>\n",
       "      <td>5</td>\n",
       "      <td>5</td>\n",
       "      <td>5</td>\n",
       "      <td>5</td>\n",
       "      <td>5</td>\n",
       "      <td>5</td>\n",
       "      <td>5</td>\n",
       "    </tr>\n",
       "    <tr>\n",
       "      <th>11965</th>\n",
       "      <td>4</td>\n",
       "      <td>5</td>\n",
       "      <td>5</td>\n",
       "      <td>5</td>\n",
       "      <td>5</td>\n",
       "      <td>5</td>\n",
       "      <td>5</td>\n",
       "      <td>5</td>\n",
       "      <td>5</td>\n",
       "      <td>5</td>\n",
       "      <td>...</td>\n",
       "      <td>5</td>\n",
       "      <td>5</td>\n",
       "      <td>5</td>\n",
       "      <td>5</td>\n",
       "      <td>5</td>\n",
       "      <td>5</td>\n",
       "      <td>5</td>\n",
       "      <td>5</td>\n",
       "      <td>5</td>\n",
       "      <td>5</td>\n",
       "    </tr>\n",
       "    <tr>\n",
       "      <th>11966</th>\n",
       "      <td>5</td>\n",
       "      <td>4</td>\n",
       "      <td>5</td>\n",
       "      <td>5</td>\n",
       "      <td>5</td>\n",
       "      <td>5</td>\n",
       "      <td>5</td>\n",
       "      <td>5</td>\n",
       "      <td>5</td>\n",
       "      <td>4</td>\n",
       "      <td>...</td>\n",
       "      <td>5</td>\n",
       "      <td>5</td>\n",
       "      <td>5</td>\n",
       "      <td>5</td>\n",
       "      <td>5</td>\n",
       "      <td>5</td>\n",
       "      <td>5</td>\n",
       "      <td>5</td>\n",
       "      <td>5</td>\n",
       "      <td>5</td>\n",
       "    </tr>\n",
       "  </tbody>\n",
       "</table>\n",
       "<p>7941 rows × 60 columns</p>\n",
       "</div>"
      ],
      "text/plain": [
       "       ti_1  ti_2  ti_3  ti_4  ti_5  ti_6  ti_7  ti_8  ti_9  ti_10  ...  \\\n",
       "0         5     5     4     4     4     4     4     3     5      3  ...   \n",
       "1         4     5     3     5     4     4     3     3     2      3  ...   \n",
       "2         4     5     5     4     4     5     5     3     5      4  ...   \n",
       "4         5     5     5     5     5     5     5     5     5      5  ...   \n",
       "5         5     5     5     5     5     4     4     4     4      4  ...   \n",
       "...     ...   ...   ...   ...   ...   ...   ...   ...   ...    ...  ...   \n",
       "11959     5     5     5     5     5     5     5     5     5      5  ...   \n",
       "11960     5     5     5     5     5     5     4     5     5      4  ...   \n",
       "11964     5     5     5     5     5     5     5     5     5      5  ...   \n",
       "11965     4     5     5     5     5     5     5     5     5      5  ...   \n",
       "11966     5     4     5     5     5     5     5     5     5      4  ...   \n",
       "\n",
       "       ti_51  ti_52  ti_53  ti_54  ti_55  ti_56  ti_57  ti_58  ti_59  ti_60  \n",
       "0          4      4      4      5      5      5      5      4      4      5  \n",
       "1          4      4      4      2      4      4      5      2      3      5  \n",
       "2          5      4      5      5      5      5      5      5      5      5  \n",
       "4          5      5      5      5      5      5      5      5      5      5  \n",
       "5          5      5      4      4      5      4      5      5      5      5  \n",
       "...      ...    ...    ...    ...    ...    ...    ...    ...    ...    ...  \n",
       "11959      5      5      5      5      5      5      5      5      5      5  \n",
       "11960      5      5      5      5      4      5      5      5      5      5  \n",
       "11964      5      5      5      5      5      5      5      5      5      5  \n",
       "11965      5      5      5      5      5      5      5      5      5      5  \n",
       "11966      5      5      5      5      5      5      5      5      5      5  \n",
       "\n",
       "[7941 rows x 60 columns]"
      ]
     },
     "execution_count": 127,
     "metadata": {},
     "output_type": "execute_result"
    }
   ],
   "source": [
    "x_quest=df_all3.iloc[:, 2:62]\n",
    "x_quest"
   ]
  },
  {
   "cell_type": "code",
   "execution_count": 128,
   "metadata": {},
   "outputs": [
    {
     "name": "stderr",
     "output_type": "stream",
     "text": [
      "/Users/Ulkar/opt/anaconda3/envs/insight/lib/python3.8/site-packages/ipykernel/ipkernel.py:287: DeprecationWarning: `should_run_async` will not call `transform_cell` automatically in the future. Please pass the result to `transformed_cell` argument and any exception that happen during thetransform in `preprocessing_exc_tuple` in IPython 7.17 and above.\n",
      "  and should_run_async(code)\n"
     ]
    }
   ],
   "source": [
    "## Getting Demographic features\n",
    "mng_demog=df_all3[['Race_m', 'Age_m', 'Female_m', 'manager_tenure_month',  'term_by_feb2020', \"CurrentPay_m\"]]"
   ]
  },
  {
   "cell_type": "code",
   "execution_count": 129,
   "metadata": {},
   "outputs": [
    {
     "data": {
      "text/plain": [
       "Race_m                     0\n",
       "Age_m                      0\n",
       "Female_m                   0\n",
       "manager_tenure_month       0\n",
       "term_by_feb2020         7470\n",
       "CurrentPay_m               0\n",
       "dtype: int64"
      ]
     },
     "execution_count": 129,
     "metadata": {},
     "output_type": "execute_result"
    }
   ],
   "source": [
    "mng_demog.isnull().sum()"
   ]
  },
  {
   "cell_type": "code",
   "execution_count": 133,
   "metadata": {},
   "outputs": [],
   "source": [
    "x_man_quest=df_all3[[\"ti_6\", \"ti_7\", \"ti_9\", \"ti_13\", \"ti_14\", \"ti_15\", \"ti_18\", \"ti_19\", \"ti_20\", \"ti_21\", \"ti_22\", \"ti_24\", \"ti_31\",\n",
    "                    \"ti_34\", \"ti_39\", \"ti_43\", \"ti_46\", \"ti_47\", \"ti_54\"]]\n"
   ]
  },
  {
   "cell_type": "code",
   "execution_count": 175,
   "metadata": {},
   "outputs": [],
   "source": [
    "y_quest=df_all3[[\"ti_1\", \"ti_2\", \"ti_3\", \"ti_4\", \"ti_5\", \"ti_8\", \"ti_10\", \"ti_11\", \"ti_12\", \"ti_16\", \"ti_17\", \"ti_23\",\n",
    "                    \"ti_25\", \"ti_26\", \"ti_27\", \"ti_28\", \"ti_29\", \"ti_30\", \"ti_32\", \"ti_33\", \"ti_35\", \"ti_36\", \"ti_37\", \"ti_38\",\n",
    "                \"ti_40\", \"ti_41\", \"ti_42\", \"ti_44\", \"ti_45\", \"ti_48\", \"ti_49\", \"ti_50\", \"ti_51\", \"ti_52\", \"ti_53\", \"ti_55\", \"ti_56\", \n",
    "                \"ti_57\", \"ti_58\", \"ti_59\", \"ti_60\"]]"
   ]
  },
  {
   "cell_type": "markdown",
   "metadata": {},
   "source": [
    "### FACTOR ANALYSIS"
   ]
  },
  {
   "cell_type": "code",
   "execution_count": 135,
   "metadata": {},
   "outputs": [],
   "source": [
    "from factor_analyzer import FactorAnalyzer\n",
    "import matplotlib.pyplot as plt"
   ]
  },
  {
   "cell_type": "code",
   "execution_count": 136,
   "metadata": {},
   "outputs": [
    {
     "data": {
      "text/plain": [
       "(151238.79959742102, 0.0)"
      ]
     },
     "execution_count": 136,
     "metadata": {},
     "output_type": "execute_result"
    }
   ],
   "source": [
    "## Factor Adequcy test\n",
    "from factor_analyzer.factor_analyzer import calculate_bartlett_sphericity\n",
    "chi_square_value,p_value=calculate_bartlett_sphericity(x_man_quest)\n",
    "chi_square_value, p_value"
   ]
  },
  {
   "cell_type": "code",
   "execution_count": null,
   "metadata": {},
   "outputs": [],
   "source": [
    "# The test was statistically significant, indicating that the observed correlation matrix is not an identity matrix."
   ]
  },
  {
   "cell_type": "code",
   "execution_count": 140,
   "metadata": {},
   "outputs": [
    {
     "data": {
      "text/plain": [
       "0.9873552319936093"
      ]
     },
     "execution_count": 140,
     "metadata": {},
     "output_type": "execute_result"
    }
   ],
   "source": [
    "from factor_analyzer.factor_analyzer import calculate_kmo\n",
    "kmo_all,kmo_model=calculate_kmo(x_man_quest)\n",
    "kmo_model\n",
    "#0.98  This value indicates that you can proceed with your planned factor analysis."
   ]
  },
  {
   "cell_type": "code",
   "execution_count": 163,
   "metadata": {},
   "outputs": [],
   "source": [
    "# Create factor analysis object and perform factor analysis\n",
    "fa = FactorAnalyzer(rotation=None, n_factors=19)"
   ]
  },
  {
   "cell_type": "code",
   "execution_count": 165,
   "metadata": {},
   "outputs": [
    {
     "name": "stderr",
     "output_type": "stream",
     "text": [
      "/Users/Ulkar/opt/anaconda3/envs/insight/lib/python3.8/site-packages/factor_analyzer/factor_analyzer.py:342: DeprecationWarning: scipy.sum is deprecated and will be removed in SciPy 2.0.0, use numpy.sum instead\n",
      "  error = sp.sum(residual)\n"
     ]
    },
    {
     "data": {
      "text/plain": [
       "FactorAnalyzer(n_factors=19, rotation=None, rotation_kwargs={})"
      ]
     },
     "execution_count": 165,
     "metadata": {},
     "output_type": "execute_result"
    }
   ],
   "source": [
    "fa.fit(x_man_quest)"
   ]
  },
  {
   "cell_type": "code",
   "execution_count": 160,
   "metadata": {},
   "outputs": [
    {
     "name": "stderr",
     "output_type": "stream",
     "text": [
      "/Users/Ulkar/opt/anaconda3/envs/insight/lib/python3.8/site-packages/ipykernel/ipkernel.py:287: DeprecationWarning: `should_run_async` will not call `transform_cell` automatically in the future. Please pass the result to `transformed_cell` argument and any exception that happen during thetransform in `preprocessing_exc_tuple` in IPython 7.17 and above.\n",
      "  and should_run_async(code)\n"
     ]
    },
    {
     "data": {
      "text/plain": [
       "array([[ 0.82797344, -0.10019762],\n",
       "       [ 0.83818727, -0.15058849],\n",
       "       [ 0.83231922, -0.11567072],\n",
       "       [ 0.84019397, -0.10439163],\n",
       "       [ 0.83459094, -0.03651875],\n",
       "       [ 0.86890728, -0.11894091],\n",
       "       [ 0.81566296, -0.05249452],\n",
       "       [ 0.84913068,  0.01917628],\n",
       "       [ 0.74358917,  0.02396644],\n",
       "       [ 0.84699317, -0.06219561],\n",
       "       [ 0.81670588, -0.06608823],\n",
       "       [ 0.84999071, -0.0013931 ],\n",
       "       [ 0.87826969,  0.01581659],\n",
       "       [ 0.88212124,  0.02582603],\n",
       "       [ 0.65025383,  0.19649868],\n",
       "       [ 0.83488765,  0.186044  ],\n",
       "       [ 0.83146533,  0.23968108],\n",
       "       [ 0.84205259,  0.08150947],\n",
       "       [ 0.78671466,  0.07099181]])"
      ]
     },
     "execution_count": 160,
     "metadata": {},
     "output_type": "execute_result"
    }
   ],
   "source": [
    "fa.loadings_"
   ]
  },
  {
   "cell_type": "code",
   "execution_count": 161,
   "metadata": {},
   "outputs": [
    {
     "data": {
      "text/plain": [
       "array([0.69557958, 0.7252348 , 0.706135  , 0.71682351, 0.69787566,\n",
       "       0.76914681, 0.66806175, 0.72139065, 0.55349925, 0.72126573,\n",
       "       0.67137614, 0.72248614, 0.77160781, 0.77880486, 0.46144177,\n",
       "       0.73164976, 0.74878161, 0.71569637, 0.62395979])"
      ]
     },
     "execution_count": 161,
     "metadata": {},
     "output_type": "execute_result"
    }
   ],
   "source": [
    "fa.get_communalities()"
   ]
  },
  {
   "cell_type": "code",
   "execution_count": 166,
   "metadata": {},
   "outputs": [
    {
     "name": "stderr",
     "output_type": "stream",
     "text": [
      "/Users/Ulkar/opt/anaconda3/envs/insight/lib/python3.8/site-packages/ipykernel/ipkernel.py:287: DeprecationWarning: `should_run_async` will not call `transform_cell` automatically in the future. Please pass the result to `transformed_cell` argument and any exception that happen during thetransform in `preprocessing_exc_tuple` in IPython 7.17 and above.\n",
      "  and should_run_async(code)\n"
     ]
    },
    {
     "data": {
      "text/plain": [
       "array([13.27019107,  0.62899184,  0.50669988,  0.42872435,  0.41563533,\n",
       "        0.39774637,  0.36155137,  0.31412062,  0.31319704,  0.2791098 ,\n",
       "        0.26947552,  0.26327914,  0.25098119,  0.23805855,  0.23564512,\n",
       "        0.22848967,  0.21966857,  0.21219641,  0.16623817])"
      ]
     },
     "execution_count": 166,
     "metadata": {},
     "output_type": "execute_result"
    }
   ],
   "source": [
    "ev, v = fa.get_eigenvalues()\n",
    "ev"
   ]
  },
  {
   "cell_type": "code",
   "execution_count": 167,
   "metadata": {},
   "outputs": [
    {
     "data": {
      "text/plain": [
       "<matplotlib.collections.PathCollection at 0x7fe9e1b27940>"
      ]
     },
     "execution_count": 167,
     "metadata": {},
     "output_type": "execute_result"
    },
    {
     "data": {
      "image/png": "[encoded data removed]",
      "text/plain": [
       "<Figure size 432x288 with 1 Axes>"
      ]
     },
     "metadata": {
      "needs_background": "light"
     },
     "output_type": "display_data"
    }
   ],
   "source": [
    "plt.scatter(range(1,x_man_quest.shape[1]+1),ev)"
   ]
  },
  {
   "cell_type": "code",
   "execution_count": 170,
   "metadata": {},
   "outputs": [
    {
     "name": "stderr",
     "output_type": "stream",
     "text": [
      "/Users/Ulkar/opt/anaconda3/envs/insight/lib/python3.8/site-packages/ipykernel/ipkernel.py:287: DeprecationWarning: `should_run_async` will not call `transform_cell` automatically in the future. Please pass the result to `transformed_cell` argument and any exception that happen during thetransform in `preprocessing_exc_tuple` in IPython 7.17 and above.\n",
      "  and should_run_async(code)\n"
     ]
    },
    {
     "data": {
      "text/plain": [
       "(array([12.96114042]), array([0.68216529]), array([0.68216529]))"
      ]
     },
     "execution_count": 170,
     "metadata": {},
     "output_type": "execute_result"
    }
   ],
   "source": [
    "fa.get_factor_variance() # on factor explains 0.68 % of variance"
   ]
  },
  {
   "cell_type": "code",
   "execution_count": 169,
   "metadata": {},
   "outputs": [
    {
     "name": "stderr",
     "output_type": "stream",
     "text": [
      "/Users/Ulkar/opt/anaconda3/envs/insight/lib/python3.8/site-packages/factor_analyzer/factor_analyzer.py:342: DeprecationWarning: scipy.sum is deprecated and will be removed in SciPy 2.0.0, use numpy.sum instead\n",
      "  error = sp.sum(residual)\n"
     ]
    },
    {
     "data": {
      "text/plain": [
       "FactorAnalyzer(n_factors=1, rotation=None, rotation_kwargs={})"
      ]
     },
     "execution_count": 169,
     "metadata": {},
     "output_type": "execute_result"
    }
   ],
   "source": [
    "# Create factor analysis object and perform factor analysis\n",
    "fa = FactorAnalyzer(rotation=None, n_factors=1)\n",
    "fa.fit(x_man_quest)"
   ]
  },
  {
   "cell_type": "code",
   "execution_count": 171,
   "metadata": {},
   "outputs": [
    {
     "name": "stderr",
     "output_type": "stream",
     "text": [
      "/Users/Ulkar/opt/anaconda3/envs/insight/lib/python3.8/site-packages/factor_analyzer/factor_analyzer.py:342: DeprecationWarning: scipy.sum is deprecated and will be removed in SciPy 2.0.0, use numpy.sum instead\n",
      "  error = sp.sum(residual)\n"
     ]
    }
   ],
   "source": [
    "X_man_quest_transformed=fa.fit_transform(x_man_quest)"
   ]
  },
  {
   "cell_type": "code",
   "execution_count": 172,
   "metadata": {},
   "outputs": [
    {
     "name": "stderr",
     "output_type": "stream",
     "text": [
      "/Users/Ulkar/opt/anaconda3/envs/insight/lib/python3.8/site-packages/ipykernel/ipkernel.py:287: DeprecationWarning: `should_run_async` will not call `transform_cell` automatically in the future. Please pass the result to `transformed_cell` argument and any exception that happen during thetransform in `preprocessing_exc_tuple` in IPython 7.17 and above.\n",
      "  and should_run_async(code)\n"
     ]
    },
    {
     "data": {
      "text/plain": [
       "(7941, 1)"
      ]
     },
     "execution_count": 172,
     "metadata": {},
     "output_type": "execute_result"
    }
   ],
   "source": [
    "X_man_quest_transformed.shape"
   ]
  },
  {
   "cell_type": "markdown",
   "metadata": {},
   "source": [
    "## Factor Analysis FOR DV\n",
    "\n",
    "Eigen values: a measure of how much of the variance of the variables does a factor explain."
   ]
  },
  {
   "cell_type": "code",
   "execution_count": 178,
   "metadata": {},
   "outputs": [
    {
     "name": "stderr",
     "output_type": "stream",
     "text": [
      "/Users/Ulkar/opt/anaconda3/envs/insight/lib/python3.8/site-packages/ipykernel/ipkernel.py:287: DeprecationWarning: `should_run_async` will not call `transform_cell` automatically in the future. Please pass the result to `transformed_cell` argument and any exception that happen during thetransform in `preprocessing_exc_tuple` in IPython 7.17 and above.\n",
      "  and should_run_async(code)\n"
     ]
    },
    {
     "data": {
      "text/html": [
       "<div>\n",
       "<style scoped>\n",
       "    .dataframe tbody tr th:only-of-type {\n",
       "        vertical-align: middle;\n",
       "    }\n",
       "\n",
       "    .dataframe tbody tr th {\n",
       "        vertical-align: top;\n",
       "    }\n",
       "\n",
       "    .dataframe thead th {\n",
       "        text-align: right;\n",
       "    }\n",
       "</style>\n",
       "<table border=\"1\" class=\"dataframe\">\n",
       "  <thead>\n",
       "    <tr style=\"text-align: right;\">\n",
       "      <th></th>\n",
       "      <th>ti_1</th>\n",
       "      <th>ti_2</th>\n",
       "      <th>ti_3</th>\n",
       "      <th>ti_4</th>\n",
       "      <th>ti_5</th>\n",
       "      <th>ti_8</th>\n",
       "      <th>ti_10</th>\n",
       "      <th>ti_11</th>\n",
       "      <th>ti_12</th>\n",
       "      <th>ti_16</th>\n",
       "      <th>...</th>\n",
       "      <th>ti_50</th>\n",
       "      <th>ti_51</th>\n",
       "      <th>ti_52</th>\n",
       "      <th>ti_53</th>\n",
       "      <th>ti_55</th>\n",
       "      <th>ti_56</th>\n",
       "      <th>ti_57</th>\n",
       "      <th>ti_58</th>\n",
       "      <th>ti_59</th>\n",
       "      <th>ti_60</th>\n",
       "    </tr>\n",
       "  </thead>\n",
       "  <tbody>\n",
       "    <tr>\n",
       "      <th>0</th>\n",
       "      <td>5</td>\n",
       "      <td>5</td>\n",
       "      <td>4</td>\n",
       "      <td>4</td>\n",
       "      <td>4</td>\n",
       "      <td>3</td>\n",
       "      <td>3</td>\n",
       "      <td>4</td>\n",
       "      <td>5</td>\n",
       "      <td>5</td>\n",
       "      <td>...</td>\n",
       "      <td>4</td>\n",
       "      <td>4</td>\n",
       "      <td>4</td>\n",
       "      <td>4</td>\n",
       "      <td>5</td>\n",
       "      <td>5</td>\n",
       "      <td>5</td>\n",
       "      <td>4</td>\n",
       "      <td>4</td>\n",
       "      <td>5</td>\n",
       "    </tr>\n",
       "    <tr>\n",
       "      <th>1</th>\n",
       "      <td>4</td>\n",
       "      <td>5</td>\n",
       "      <td>3</td>\n",
       "      <td>5</td>\n",
       "      <td>4</td>\n",
       "      <td>3</td>\n",
       "      <td>3</td>\n",
       "      <td>4</td>\n",
       "      <td>5</td>\n",
       "      <td>5</td>\n",
       "      <td>...</td>\n",
       "      <td>5</td>\n",
       "      <td>4</td>\n",
       "      <td>4</td>\n",
       "      <td>4</td>\n",
       "      <td>4</td>\n",
       "      <td>4</td>\n",
       "      <td>5</td>\n",
       "      <td>2</td>\n",
       "      <td>3</td>\n",
       "      <td>5</td>\n",
       "    </tr>\n",
       "    <tr>\n",
       "      <th>2</th>\n",
       "      <td>4</td>\n",
       "      <td>5</td>\n",
       "      <td>5</td>\n",
       "      <td>4</td>\n",
       "      <td>4</td>\n",
       "      <td>3</td>\n",
       "      <td>4</td>\n",
       "      <td>5</td>\n",
       "      <td>5</td>\n",
       "      <td>5</td>\n",
       "      <td>...</td>\n",
       "      <td>5</td>\n",
       "      <td>5</td>\n",
       "      <td>4</td>\n",
       "      <td>5</td>\n",
       "      <td>5</td>\n",
       "      <td>5</td>\n",
       "      <td>5</td>\n",
       "      <td>5</td>\n",
       "      <td>5</td>\n",
       "      <td>5</td>\n",
       "    </tr>\n",
       "    <tr>\n",
       "      <th>4</th>\n",
       "      <td>5</td>\n",
       "      <td>5</td>\n",
       "      <td>5</td>\n",
       "      <td>5</td>\n",
       "      <td>5</td>\n",
       "      <td>5</td>\n",
       "      <td>5</td>\n",
       "      <td>5</td>\n",
       "      <td>5</td>\n",
       "      <td>5</td>\n",
       "      <td>...</td>\n",
       "      <td>5</td>\n",
       "      <td>5</td>\n",
       "      <td>5</td>\n",
       "      <td>5</td>\n",
       "      <td>5</td>\n",
       "      <td>5</td>\n",
       "      <td>5</td>\n",
       "      <td>5</td>\n",
       "      <td>5</td>\n",
       "      <td>5</td>\n",
       "    </tr>\n",
       "    <tr>\n",
       "      <th>5</th>\n",
       "      <td>5</td>\n",
       "      <td>5</td>\n",
       "      <td>5</td>\n",
       "      <td>5</td>\n",
       "      <td>5</td>\n",
       "      <td>4</td>\n",
       "      <td>4</td>\n",
       "      <td>5</td>\n",
       "      <td>4</td>\n",
       "      <td>5</td>\n",
       "      <td>...</td>\n",
       "      <td>5</td>\n",
       "      <td>5</td>\n",
       "      <td>5</td>\n",
       "      <td>4</td>\n",
       "      <td>5</td>\n",
       "      <td>4</td>\n",
       "      <td>5</td>\n",
       "      <td>5</td>\n",
       "      <td>5</td>\n",
       "      <td>5</td>\n",
       "    </tr>\n",
       "    <tr>\n",
       "      <th>...</th>\n",
       "      <td>...</td>\n",
       "      <td>...</td>\n",
       "      <td>...</td>\n",
       "      <td>...</td>\n",
       "      <td>...</td>\n",
       "      <td>...</td>\n",
       "      <td>...</td>\n",
       "      <td>...</td>\n",
       "      <td>...</td>\n",
       "      <td>...</td>\n",
       "      <td>...</td>\n",
       "      <td>...</td>\n",
       "      <td>...</td>\n",
       "      <td>...</td>\n",
       "      <td>...</td>\n",
       "      <td>...</td>\n",
       "      <td>...</td>\n",
       "      <td>...</td>\n",
       "      <td>...</td>\n",
       "      <td>...</td>\n",
       "      <td>...</td>\n",
       "    </tr>\n",
       "    <tr>\n",
       "      <th>11959</th>\n",
       "      <td>5</td>\n",
       "      <td>5</td>\n",
       "      <td>5</td>\n",
       "      <td>5</td>\n",
       "      <td>5</td>\n",
       "      <td>5</td>\n",
       "      <td>5</td>\n",
       "      <td>5</td>\n",
       "      <td>5</td>\n",
       "      <td>5</td>\n",
       "      <td>...</td>\n",
       "      <td>5</td>\n",
       "      <td>5</td>\n",
       "      <td>5</td>\n",
       "      <td>5</td>\n",
       "      <td>5</td>\n",
       "      <td>5</td>\n",
       "      <td>5</td>\n",
       "      <td>5</td>\n",
       "      <td>5</td>\n",
       "      <td>5</td>\n",
       "    </tr>\n",
       "    <tr>\n",
       "      <th>11960</th>\n",
       "      <td>5</td>\n",
       "      <td>5</td>\n",
       "      <td>5</td>\n",
       "      <td>5</td>\n",
       "      <td>5</td>\n",
       "      <td>5</td>\n",
       "      <td>4</td>\n",
       "      <td>5</td>\n",
       "      <td>5</td>\n",
       "      <td>5</td>\n",
       "      <td>...</td>\n",
       "      <td>5</td>\n",
       "      <td>5</td>\n",
       "      <td>5</td>\n",
       "      <td>5</td>\n",
       "      <td>4</td>\n",
       "      <td>5</td>\n",
       "      <td>5</td>\n",
       "      <td>5</td>\n",
       "      <td>5</td>\n",
       "      <td>5</td>\n",
       "    </tr>\n",
       "    <tr>\n",
       "      <th>11964</th>\n",
       "      <td>5</td>\n",
       "      <td>5</td>\n",
       "      <td>5</td>\n",
       "      <td>5</td>\n",
       "      <td>5</td>\n",
       "      <td>5</td>\n",
       "      <td>5</td>\n",
       "      <td>5</td>\n",
       "      <td>5</td>\n",
       "      <td>5</td>\n",
       "      <td>...</td>\n",
       "      <td>5</td>\n",
       "      <td>5</td>\n",
       "      <td>5</td>\n",
       "      <td>5</td>\n",
       "      <td>5</td>\n",
       "      <td>5</td>\n",
       "      <td>5</td>\n",
       "      <td>5</td>\n",
       "      <td>5</td>\n",
       "      <td>5</td>\n",
       "    </tr>\n",
       "    <tr>\n",
       "      <th>11965</th>\n",
       "      <td>4</td>\n",
       "      <td>5</td>\n",
       "      <td>5</td>\n",
       "      <td>5</td>\n",
       "      <td>5</td>\n",
       "      <td>5</td>\n",
       "      <td>5</td>\n",
       "      <td>5</td>\n",
       "      <td>5</td>\n",
       "      <td>5</td>\n",
       "      <td>...</td>\n",
       "      <td>5</td>\n",
       "      <td>5</td>\n",
       "      <td>5</td>\n",
       "      <td>5</td>\n",
       "      <td>5</td>\n",
       "      <td>5</td>\n",
       "      <td>5</td>\n",
       "      <td>5</td>\n",
       "      <td>5</td>\n",
       "      <td>5</td>\n",
       "    </tr>\n",
       "    <tr>\n",
       "      <th>11966</th>\n",
       "      <td>5</td>\n",
       "      <td>4</td>\n",
       "      <td>5</td>\n",
       "      <td>5</td>\n",
       "      <td>5</td>\n",
       "      <td>5</td>\n",
       "      <td>4</td>\n",
       "      <td>5</td>\n",
       "      <td>5</td>\n",
       "      <td>5</td>\n",
       "      <td>...</td>\n",
       "      <td>5</td>\n",
       "      <td>5</td>\n",
       "      <td>5</td>\n",
       "      <td>5</td>\n",
       "      <td>5</td>\n",
       "      <td>5</td>\n",
       "      <td>5</td>\n",
       "      <td>5</td>\n",
       "      <td>5</td>\n",
       "      <td>5</td>\n",
       "    </tr>\n",
       "  </tbody>\n",
       "</table>\n",
       "<p>7941 rows × 41 columns</p>\n",
       "</div>"
      ],
      "text/plain": [
       "       ti_1  ti_2  ti_3  ti_4  ti_5  ti_8  ti_10  ti_11  ti_12  ti_16  ...  \\\n",
       "0         5     5     4     4     4     3      3      4      5      5  ...   \n",
       "1         4     5     3     5     4     3      3      4      5      5  ...   \n",
       "2         4     5     5     4     4     3      4      5      5      5  ...   \n",
       "4         5     5     5     5     5     5      5      5      5      5  ...   \n",
       "5         5     5     5     5     5     4      4      5      4      5  ...   \n",
       "...     ...   ...   ...   ...   ...   ...    ...    ...    ...    ...  ...   \n",
       "11959     5     5     5     5     5     5      5      5      5      5  ...   \n",
       "11960     5     5     5     5     5     5      4      5      5      5  ...   \n",
       "11964     5     5     5     5     5     5      5      5      5      5  ...   \n",
       "11965     4     5     5     5     5     5      5      5      5      5  ...   \n",
       "11966     5     4     5     5     5     5      4      5      5      5  ...   \n",
       "\n",
       "       ti_50  ti_51  ti_52  ti_53  ti_55  ti_56  ti_57  ti_58  ti_59  ti_60  \n",
       "0          4      4      4      4      5      5      5      4      4      5  \n",
       "1          5      4      4      4      4      4      5      2      3      5  \n",
       "2          5      5      4      5      5      5      5      5      5      5  \n",
       "4          5      5      5      5      5      5      5      5      5      5  \n",
       "5          5      5      5      4      5      4      5      5      5      5  \n",
       "...      ...    ...    ...    ...    ...    ...    ...    ...    ...    ...  \n",
       "11959      5      5      5      5      5      5      5      5      5      5  \n",
       "11960      5      5      5      5      4      5      5      5      5      5  \n",
       "11964      5      5      5      5      5      5      5      5      5      5  \n",
       "11965      5      5      5      5      5      5      5      5      5      5  \n",
       "11966      5      5      5      5      5      5      5      5      5      5  \n",
       "\n",
       "[7941 rows x 41 columns]"
      ]
     },
     "execution_count": 178,
     "metadata": {},
     "output_type": "execute_result"
    }
   ],
   "source": [
    "y_quest"
   ]
  },
  {
   "cell_type": "code",
   "execution_count": 187,
   "metadata": {},
   "outputs": [
    {
     "name": "stderr",
     "output_type": "stream",
     "text": [
      "/Users/Ulkar/opt/anaconda3/envs/insight/lib/python3.8/site-packages/factor_analyzer/factor_analyzer.py:342: DeprecationWarning: scipy.sum is deprecated and will be removed in SciPy 2.0.0, use numpy.sum instead\n",
      "  error = sp.sum(residual)\n"
     ]
    },
    {
     "data": {
      "text/plain": [
       "FactorAnalyzer(rotation='varimax', rotation_kwargs={})"
      ]
     },
     "execution_count": 187,
     "metadata": {},
     "output_type": "execute_result"
    }
   ],
   "source": [
    "# Create factor analysis object and perform factor analysis\n",
    "fa_y = FactorAnalyzer(n_factors=3, rotation='varimax')\n",
    "fa_y.fit(y_quest)\n"
   ]
  },
  {
   "cell_type": "code",
   "execution_count": 188,
   "metadata": {},
   "outputs": [
    {
     "name": "stderr",
     "output_type": "stream",
     "text": [
      "/Users/Ulkar/opt/anaconda3/envs/insight/lib/python3.8/site-packages/ipykernel/ipkernel.py:287: DeprecationWarning: `should_run_async` will not call `transform_cell` automatically in the future. Please pass the result to `transformed_cell` argument and any exception that happen during thetransform in `preprocessing_exc_tuple` in IPython 7.17 and above.\n",
      "  and should_run_async(code)\n"
     ]
    },
    {
     "data": {
      "text/plain": [
       "array([23.62169812,  1.44752641,  1.01762254,  0.88453944,  0.76743896,\n",
       "        0.75867914,  0.63553097,  0.56714152,  0.5415222 ,  0.51421032,\n",
       "        0.48625159,  0.47024112,  0.44579691,  0.44008785,  0.42118342,\n",
       "        0.41909546,  0.4136031 ,  0.39220137,  0.38936552,  0.38387439,\n",
       "        0.37091432,  0.3533436 ,  0.34353636,  0.33721878,  0.32815305,\n",
       "        0.32146039,  0.31394719,  0.30754712,  0.30370458,  0.29202659,\n",
       "        0.28318633,  0.27987449,  0.27547802,  0.27224775,  0.2605157 ,\n",
       "        0.24031105,  0.23597849,  0.22469102,  0.22312622,  0.20865082,\n",
       "        0.20647778])"
      ]
     },
     "execution_count": 188,
     "metadata": {},
     "output_type": "execute_result"
    }
   ],
   "source": [
    "ev, v = fa_y.get_eigenvalues()\n",
    "ev"
   ]
  },
  {
   "cell_type": "code",
   "execution_count": 189,
   "metadata": {},
   "outputs": [
    {
     "name": "stdout",
     "output_type": "stream",
     "text": [
      "[[0.49470931 0.34829276 0.26891871]\n",
      " [0.41598928 0.3461554  0.37304319]\n",
      " [0.62895353 0.31061302 0.31631211]\n",
      " [0.72013443 0.27147512 0.24692765]\n",
      " [0.7287035  0.25948858 0.27015803]\n",
      " [0.44362321 0.36489389 0.35972455]\n",
      " [0.60843211 0.31638727 0.24169778]\n",
      " [0.26415874 0.51980032 0.34096268]\n",
      " [0.61741952 0.35812896 0.33318785]\n",
      " [0.39252551 0.53571087 0.36669575]\n",
      " [0.59984253 0.37609541 0.2137801 ]\n",
      " [0.36206573 0.48225655 0.42622208]\n",
      " [0.28223576 0.26025204 0.39127099]\n",
      " [0.65619258 0.43028512 0.27101127]\n",
      " [0.50549847 0.30536835 0.55465802]\n",
      " [0.67250559 0.31189019 0.33185943]\n",
      " [0.68068037 0.43012025 0.25689424]\n",
      " [0.4733896  0.43625222 0.43275708]\n",
      " [0.27779889 0.22996252 0.72615787]\n",
      " [0.58822996 0.33769411 0.43930485]\n",
      " [0.58892894 0.47861793 0.37211702]\n",
      " [0.28790059 0.27833322 0.72412698]\n",
      " [0.38464195 0.61298187 0.44890181]\n",
      " [0.36696181 0.46835186 0.45768098]\n",
      " [0.65166339 0.25399045 0.33881459]\n",
      " [0.59774873 0.41846176 0.265693  ]\n",
      " [0.21263013 0.31573017 0.69064978]\n",
      " [0.58846438 0.36184502 0.35067607]\n",
      " [0.36830017 0.51085825 0.38483496]\n",
      " [0.38604067 0.64729702 0.25817349]\n",
      " [0.51453865 0.49604761 0.38683231]\n",
      " [0.47522514 0.42042693 0.28559155]\n",
      " [0.35587454 0.58324694 0.36332172]\n",
      " [0.40820761 0.5309946  0.42801874]\n",
      " [0.55164324 0.58347444 0.28143764]\n",
      " [0.47908628 0.65064611 0.30434595]\n",
      " [0.49499644 0.51933861 0.31987256]\n",
      " [0.55770751 0.50373461 0.31071511]\n",
      " [0.6147355  0.47754965 0.2796591 ]\n",
      " [0.62060543 0.44205645 0.29723579]\n",
      " [0.49037175 0.64234457 0.30026939]]\n"
     ]
    }
   ],
   "source": [
    "loads = fa_y.loadings_\n",
    "print(loads)"
   ]
  },
  {
   "cell_type": "code",
   "execution_count": 184,
   "metadata": {},
   "outputs": [
    {
     "data": {
      "text/plain": [
       "<AxesSubplot:>"
      ]
     },
     "execution_count": 184,
     "metadata": {},
     "output_type": "execute_result"
    },
    {
     "data": {
      "image/png": "[encoded data removed]",
      "text/plain": [
       "<Figure size 1440x720 with 2 Axes>"
      ]
     },
     "metadata": {
      "needs_background": "light"
     },
     "output_type": "display_data"
    }
   ],
   "source": [
    "import seaborn as sns\n",
    "plt.figure(figsize=(20,10))\n",
    "c= y_quest.corr()\n",
    "sns.heatmap(c, annot = True)"
   ]
  },
  {
   "cell_type": "code",
   "execution_count": 190,
   "metadata": {},
   "outputs": [
    {
     "name": "stderr",
     "output_type": "stream",
     "text": [
      "/Users/Ulkar/opt/anaconda3/envs/insight/lib/python3.8/site-packages/factor_analyzer/factor_analyzer.py:342: DeprecationWarning: scipy.sum is deprecated and will be removed in SciPy 2.0.0, use numpy.sum instead\n",
      "  error = sp.sum(residual)\n"
     ]
    }
   ],
   "source": [
    "y_quest_transformed=fa_y.fit_transform(y_quest)"
   ]
  },
  {
   "cell_type": "code",
   "execution_count": 203,
   "metadata": {},
   "outputs": [],
   "source": [
    "#Create the factors\n",
    "factor1 = y_quest[[\"ti_3\", \"ti_4\", \"ti_5\", \"ti_10\", \"ti_12\", \"ti_26\", \"ti_28\", \"ti_29\", \"ti_40\"]]\n",
    "happiness_f = y_quest[[\"ti_37\", \"ti_48\", \"ti_55\", \"ti_60\" ]]\n",
    "dg_f = y_quest[[\"ti_32\", \"ti_36\", \"ti_42\"]]\n",
    "\n",
    "happiness_y=y_quest_transformed[:, 1]\n",
    "\n"
   ]
  },
  {
   "cell_type": "code",
   "execution_count": 211,
   "metadata": {},
   "outputs": [],
   "source": [
    "X_man_quest_transformed=X_man_quest_transformed[:, 0]"
   ]
  },
  {
   "cell_type": "code",
   "execution_count": 215,
   "metadata": {},
   "outputs": [
    {
     "data": {
      "text/plain": [
       "(7941,)"
      ]
     },
     "execution_count": 215,
     "metadata": {},
     "output_type": "execute_result"
    }
   ],
   "source": [
    "happiness_y.shape"
   ]
  },
  {
   "cell_type": "code",
   "execution_count": 204,
   "metadata": {},
   "outputs": [
    {
     "data": {
      "text/plain": [
       "(7941, 6)"
      ]
     },
     "execution_count": 204,
     "metadata": {},
     "output_type": "execute_result"
    }
   ],
   "source": [
    "mng_demog.shape; x_quest_transformed; happiness_y"
   ]
  },
  {
   "cell_type": "code",
   "execution_count": 218,
   "metadata": {},
   "outputs": [
    {
     "name": "stdout",
     "output_type": "stream",
     "text": [
      "[[ 0.10263255  0.35216621]\n",
      " [-0.18384091 -1.39795669]\n",
      " [ 0.58389933  0.82491472]\n",
      " ...\n",
      " [ 0.27932583  0.89303402]\n",
      " [ 0.0580594   0.89303402]\n",
      " [ 0.33279187  0.76264485]]\n"
     ]
    }
   ],
   "source": [
    "# for better visuals we concatenage horizontally below. \n",
    "   # 1. first change the shape of each array from horizontal to vertical, \n",
    "   # 2. then, put them side by side, next to each other. \n",
    "\n",
    "yx_array=(np.concatenate((happiness_y.reshape(len(happiness_y),1), X_man_quest_transformed.reshape(len(X_man_quest_transformed),1)),1))\n",
    "print(yx_array)"
   ]
  },
  {
   "cell_type": "code",
   "execution_count": 230,
   "metadata": {},
   "outputs": [],
   "source": [
    "mng_demog=mng_demog[[\"Race_m\", \"Age_m\", \"Female_m\", \"manager_tenure_month\", \"CurrentPay_m\"]]"
   ]
  },
  {
   "cell_type": "code",
   "execution_count": 231,
   "metadata": {},
   "outputs": [],
   "source": [
    "X_demog=mng_demog.iloc[:, :].values"
   ]
  },
  {
   "cell_type": "code",
   "execution_count": 233,
   "metadata": {},
   "outputs": [
    {
     "data": {
      "text/plain": [
       "array([['White', 57.0, 1.0, 44.0, 39.88673544583656],\n",
       "       ['White', 44.0, 1.0, 6.0, 39.88673544583656],\n",
       "       ['White', 48.0, 0.0, 125.0, 39.88673544583656],\n",
       "       ...,\n",
       "       ['White', 57.0, 1.0, 22.0, 24.43],\n",
       "       ['White', 36.0, 0.0, 52.0, 50.52],\n",
       "       ['White', 33.0, 1.0, 18.0, 42.28]], dtype=object)"
      ]
     },
     "execution_count": 233,
     "metadata": {},
     "output_type": "execute_result"
    }
   ],
   "source": [
    "X_demog"
   ]
  },
  {
   "cell_type": "code",
   "execution_count": 234,
   "metadata": {},
   "outputs": [],
   "source": [
    "from sklearn.compose import ColumnTransformer\n",
    "from sklearn.preprocessing import OneHotEncoder\n",
    "ct=ColumnTransformer(transformers=[('encoder', OneHotEncoder(), [0])], remainder='passthrough')\n",
    "X_demog = np.array(ct.fit_transform(X_demog))"
   ]
  },
  {
   "cell_type": "code",
   "execution_count": 277,
   "metadata": {},
   "outputs": [
    {
     "data": {
      "text/plain": [
       "array([[0.0, 0.0, 0.0, ..., 1.0, 44.0, 39.88673544583656],\n",
       "       [0.0, 0.0, 0.0, ..., 1.0, 6.0, 39.88673544583656],\n",
       "       [0.0, 0.0, 0.0, ..., 0.0, 125.0, 39.88673544583656],\n",
       "       ...,\n",
       "       [0.0, 0.0, 0.0, ..., 1.0, 22.0, 24.43],\n",
       "       [0.0, 0.0, 0.0, ..., 0.0, 52.0, 50.52],\n",
       "       [0.0, 0.0, 0.0, ..., 1.0, 18.0, 42.28]], dtype=object)"
      ]
     },
     "execution_count": 277,
     "metadata": {},
     "output_type": "execute_result"
    }
   ],
   "source": [
    "X_demog"
   ]
  },
  {
   "cell_type": "code",
   "execution_count": 273,
   "metadata": {},
   "outputs": [
    {
     "data": {
      "text/plain": [
       "(7941,)"
      ]
     },
     "execution_count": 273,
     "metadata": {},
     "output_type": "execute_result"
    }
   ],
   "source": [
    "X_man_quest_transformed.shape"
   ]
  },
  {
   "cell_type": "code",
   "execution_count": 269,
   "metadata": {},
   "outputs": [
    {
     "data": {
      "text/plain": [
       "(7941, 1)"
      ]
     },
     "execution_count": 269,
     "metadata": {},
     "output_type": "execute_result"
    }
   ],
   "source": [
    "(len(X_demog),1)"
   ]
  },
  {
   "cell_type": "code",
   "execution_count": 274,
   "metadata": {},
   "outputs": [],
   "source": [
    "xx_array=np.c_[X_demog, X_man_quest_transformed]"
   ]
  },
  {
   "cell_type": "code",
   "execution_count": 290,
   "metadata": {},
   "outputs": [],
   "source": [
    "xx_array2=xx_array"
   ]
  },
  {
   "cell_type": "code",
   "execution_count": 283,
   "metadata": {},
   "outputs": [],
   "source": [
    "# LASSO FOR FEATURE SELECTION"
   ]
  },
  {
   "cell_type": "code",
   "execution_count": 293,
   "metadata": {},
   "outputs": [],
   "source": [
    "from sklearn.preprocessing import StandardScaler\n",
    "sc = StandardScaler()\n",
    "xx_array2[:, 6:10] = sc.fit_transform(xx_array[:, 6:10])"
   ]
  },
  {
   "cell_type": "code",
   "execution_count": 294,
   "metadata": {},
   "outputs": [
    {
     "name": "stderr",
     "output_type": "stream",
     "text": [
      "/Users/Ulkar/opt/anaconda3/envs/insight/lib/python3.8/site-packages/ipykernel/ipkernel.py:287: DeprecationWarning: `should_run_async` will not call `transform_cell` automatically in the future. Please pass the result to `transformed_cell` argument and any exception that happen during thetransform in `preprocessing_exc_tuple` in IPython 7.17 and above.\n",
      "  and should_run_async(code)\n"
     ]
    },
    {
     "data": {
      "text/plain": [
       "array([[0.0, 0.0, 0.0, ..., 0.17901331203573748, -0.09965651208352612,\n",
       "        0.3521662106107118],\n",
       "       [0.0, 0.0, 0.0, ..., -0.7695651734556852, -0.09965651208352612,\n",
       "        -1.3979566896676106],\n",
       "       [0.0, 0.0, 0.0, ..., 2.200983241635875, -0.09965651208352612,\n",
       "        0.8249147159903149],\n",
       "       ...,\n",
       "       [0.0, 0.0, 0.0, ..., -0.37016370588034936, -1.3568143115985587,\n",
       "        0.8930340232850515],\n",
       "       [0.0, 0.0, 0.0, ..., 0.3787140458234054, 0.7651892061741444,\n",
       "        0.8930340232850515],\n",
       "       [0.0, 0.0, 0.0, ..., -0.47001407277418333, 0.09499721742569382,\n",
       "        0.7626448522640339]], dtype=object)"
      ]
     },
     "execution_count": 294,
     "metadata": {},
     "output_type": "execute_result"
    }
   ],
   "source": [
    "xx_array2"
   ]
  },
  {
   "cell_type": "code",
   "execution_count": 297,
   "metadata": {},
   "outputs": [
    {
     "data": {
      "text/plain": [
       "7941"
      ]
     },
     "execution_count": 297,
     "metadata": {},
     "output_type": "execute_result"
    }
   ],
   "source": [
    "xx_array2.shape[0]"
   ]
  },
  {
   "cell_type": "code",
   "execution_count": 301,
   "metadata": {},
   "outputs": [
    {
     "name": "stderr",
     "output_type": "stream",
     "text": [
      "/Users/Ulkar/opt/anaconda3/envs/insight/lib/python3.8/site-packages/ipykernel/ipkernel.py:287: DeprecationWarning: `should_run_async` will not call `transform_cell` automatically in the future. Please pass the result to `transformed_cell` argument and any exception that happen during thetransform in `preprocessing_exc_tuple` in IPython 7.17 and above.\n",
      "  and should_run_async(code)\n"
     ]
    }
   ],
   "source": [
    "# Try running the cross validation Lasso for different train test split and get the\n",
    "#mean r-squared, alpha, and weights. \n",
    "\n",
    "\n",
    "xCV = xx_array\n",
    "yCV = happiness_y\n",
    "\n",
    "train_number = 100\n",
    "#Run this part for 1000 times and get the values for r-squared, alpha, and the weights.\n",
    "#reg.alpha_, reg.coef_, r2score.\n",
    "\n",
    "#initialize\n",
    "test_r_squared = np.zeros((train_number,1))\n",
    "lasso_alpha = np.zeros((train_number,1))\n",
    "lasso_coef = np.zeros((train_number, xx_array2.shape[1]))\n",
    "\n",
    "\n",
    "for trialNo in range(train_number):\n",
    "    \n",
    "    #split 80-20\n",
    "    XCV_train, XCV_test, YCV_train, YCV_test = train_test_split(xCV, yCV, test_size=0.2)\n",
    "\n",
    "    reg = LassoCV(cv=5).fit(XCV_train, YCV_train)\n",
    "\n",
    "    YpredLassoCV = reg.predict(XCV_test)\n",
    "    test_r_squared[trialNo] = r2_score(YCV_test, YpredLassoCV)\n",
    "    lasso_alpha[trialNo] = reg.alpha_\n",
    "    lasso_coef[trialNo,:] = reg.coef_ \n"
   ]
  },
  {
   "cell_type": "code",
   "execution_count": 302,
   "metadata": {},
   "outputs": [
    {
     "name": "stderr",
     "output_type": "stream",
     "text": [
      "/Users/Ulkar/opt/anaconda3/envs/insight/lib/python3.8/site-packages/ipykernel/ipkernel.py:287: DeprecationWarning: `should_run_async` will not call `transform_cell` automatically in the future. Please pass the result to `transformed_cell` argument and any exception that happen during thetransform in `preprocessing_exc_tuple` in IPython 7.17 and above.\n",
      "  and should_run_async(code)\n"
     ]
    }
   ],
   "source": [
    "## Save the results"
   ]
  },
  {
   "cell_type": "code",
   "execution_count": 303,
   "metadata": {},
   "outputs": [],
   "source": [
    "with open('lasso_output.pickle', 'wb') as f:\n",
    "    pickle.dump([test_r_squared, lasso_alpha, lasso_coef], f)"
   ]
  },
  {
   "cell_type": "code",
   "execution_count": 304,
   "metadata": {},
   "outputs": [
    {
     "name": "stderr",
     "output_type": "stream",
     "text": [
      "/Users/Ulkar/opt/anaconda3/envs/insight/lib/python3.8/site-packages/seaborn/distributions.py:2551: FutureWarning: `distplot` is a deprecated function and will be removed in a future version. Please adapt your code to use either `displot` (a figure-level function with similar flexibility) or `histplot` (an axes-level function for histograms).\n",
      "  warnings.warn(msg, FutureWarning)\n"
     ]
    },
    {
     "data": {
      "image/png": "[encoded data removed]",
      "text/plain": [
       "<Figure size 432x288 with 1 Axes>"
      ]
     },
     "metadata": {
      "needs_background": "light"
     },
     "output_type": "display_data"
    }
   ],
   "source": [
    "#Distribution of coefficient of determination\n",
    "test_r_squared_df=pd.DataFrame(data=test_r_squared)\n",
    "test_r_squared_df.rename(columns = {0:'coefficient of determination'}, inplace = True) \n",
    "\n",
    "sb.distplot(test_r_squared_df)\n",
    "sb.despine()"
   ]
  },
  {
   "cell_type": "code",
   "execution_count": 305,
   "metadata": {},
   "outputs": [
    {
     "name": "stdout",
     "output_type": "stream",
     "text": [
      "3.896559845095909e-18\n"
     ]
    },
    {
     "name": "stderr",
     "output_type": "stream",
     "text": [
      "/Users/Ulkar/opt/anaconda3/envs/insight/lib/python3.8/site-packages/ipykernel/ipkernel.py:287: DeprecationWarning: `should_run_async` will not call `transform_cell` automatically in the future. Please pass the result to `transformed_cell` argument and any exception that happen during thetransform in `preprocessing_exc_tuple` in IPython 7.17 and above.\n",
      "  and should_run_async(code)\n"
     ]
    }
   ],
   "source": [
    "#Check the statistical significance\n",
    "sum_ranks, pval_w = wilcoxon(test_r_squared[:,0])\n",
    "print(pval_w)"
   ]
  },
  {
   "cell_type": "code",
   "execution_count": 306,
   "metadata": {},
   "outputs": [
    {
     "data": {
      "text/plain": [
       "[<matplotlib.lines.Line2D at 0x7fe9e52a6910>]"
      ]
     },
     "execution_count": 306,
     "metadata": {},
     "output_type": "execute_result"
    },
    {
     "data": {
      "image/png": "[encoded data removed]",
      "text/plain": [
       "<Figure size 432x288 with 1 Axes>"
      ]
     },
     "metadata": {
      "needs_background": "light"
     },
     "output_type": "display_data"
    }
   ],
   "source": [
    "lasso_coef_df = pd.DataFrame(data=lasso_coef)\n",
    "\n",
    "mean_coef=lasso_coef_df.mean()\n",
    "\n",
    "plt.plot(mean_coef,alpha=0.7,linestyle='none',marker='*',markersize=8,color='blue') "
   ]
  },
  {
   "cell_type": "code",
   "execution_count": 307,
   "metadata": {},
   "outputs": [
    {
     "data": {
      "text/plain": [
       "10    0.458172\n",
       "1     0.098281\n",
       "4     0.095534\n",
       "2     0.077018\n",
       "9     0.014606\n",
       "dtype: float64"
      ]
     },
     "execution_count": 307,
     "metadata": {},
     "output_type": "execute_result"
    }
   ],
   "source": [
    "abs_mean_coef=abs(mean_coef)\n",
    "top_coef=abs_mean_coef.sort_values(ascending=False)\n",
    "top_coef.head()"
   ]
  },
  {
   "cell_type": "code",
   "execution_count": 322,
   "metadata": {},
   "outputs": [],
   "source": [
    "## Regression\n",
    "xx_dataset = pd.DataFrame({'Race1': xx_array[:, 0], 'Race2': xx_array[:, 1],\n",
    "                          'Race3': xx_array[:, 2],\n",
    "                          'Race4': xx_array[:, 3],\n",
    "                          'Race5': xx_array[:, 4],\n",
    "                          'Race6': xx_array[:, 5], \n",
    "                            'Age': xx_array[:, 6], \n",
    "                        'female': xx_array[:, 7], \n",
    "                         'tenure': xx_array[:, 8],\n",
    "                         'pay': xx_array[:, 9],\n",
    "                         'questions': xx_array[:, 10]})"
   ]
  },
  {
   "cell_type": "code",
   "execution_count": 350,
   "metadata": {},
   "outputs": [
    {
     "data": {
      "text/plain": [
       "pandas.core.frame.DataFrame"
      ]
     },
     "execution_count": 350,
     "metadata": {},
     "output_type": "execute_result"
    }
   ],
   "source": [
    "happiness_dataset = pd.DataFrame({'happiness': happiness_y})\n",
    "type(happiness_dataset)"
   ]
  },
  {
   "cell_type": "code",
   "execution_count": 347,
   "metadata": {},
   "outputs": [],
   "source": [
    "happiness_dataset = sc.fit_transform(happiness_dataset)  ## Scaling"
   ]
  },
  {
   "cell_type": "code",
   "execution_count": 339,
   "metadata": {},
   "outputs": [
    {
     "data": {
      "text/plain": [
       "10    0.458172\n",
       "1     0.098281\n",
       "4     0.095534\n",
       "2     0.077018\n",
       "9     0.014606\n",
       "6     0.012943\n",
       "3     0.006483\n",
       "5     0.002365\n",
       "8     0.001291\n",
       "7     0.000983\n",
       "0     0.000000\n",
       "dtype: float64"
      ]
     },
     "execution_count": 339,
     "metadata": {},
     "output_type": "execute_result"
    }
   ],
   "source": [
    "top_coef=abs_mean_coef.sort_values(ascending=False)\n",
    "top_coef"
   ]
  },
  {
   "cell_type": "code",
   "execution_count": 324,
   "metadata": {},
   "outputs": [],
   "source": [
    "#Choose top 5 features.\n",
    "\n",
    "#all features.\n",
    "all_features = xx_dataset\n",
    "\n",
    "features_number = 5\n",
    "#get the top n features\n",
    "top_coef=abs_mean_coef.sort_values(ascending=False)\n",
    "\n",
    "selected_features = all_features.iloc[:,top_coef.index[0]]\n",
    "\n",
    "for features in range(features_number-1):\n",
    "    selected_features = pd.concat([selected_features, all_features.iloc[:,top_coef.index[features+1]]], axis = 1)\n"
   ]
  },
  {
   "cell_type": "code",
   "execution_count": 335,
   "metadata": {},
   "outputs": [],
   "source": [
    "\n",
    "x_linear = selected_features\n",
    "y_linear = happiness_dataset\n",
    "\n",
    "train_number = 1000\n",
    "#Run this part for 1000 times and get the values for r-squared, alpha, and the weights.\n",
    "#reg.alpha_, reg.coef_, r2score.\n",
    "\n",
    "#initialize\n",
    "linear_r_squared = np.zeros((train_number,1))\n",
    "linear_coef = np.zeros((train_number,x_linear.shape[1]))\n",
    "\n",
    "for trialNo in range(train_number):\n",
    "    \n",
    "    #split 80-20\n",
    "    Xl_train, Xl_test, Yl_train, Yl_test = train_test_split(x_linear, y_linear, test_size=0.2)\n",
    "    \n",
    "\n",
    "    linear_reg = linear_model.LinearRegression()\n",
    "    linear_reg.fit(Xl_train,Yl_train)\n",
    "    \n",
    "    \n",
    "    Ypredl = linear_reg.predict(Xl_test)\n",
    "    \n",
    "    linear_r_squared[trialNo] = r2_score(Yl_test, Ypredl)\n",
    "    linear_coef[trialNo,:] = linear_reg.coef_"
   ]
  },
  {
   "cell_type": "code",
   "execution_count": 336,
   "metadata": {},
   "outputs": [
    {
     "name": "stderr",
     "output_type": "stream",
     "text": [
      "/Users/Ulkar/opt/anaconda3/envs/insight/lib/python3.8/site-packages/ipykernel/ipkernel.py:287: DeprecationWarning: `should_run_async` will not call `transform_cell` automatically in the future. Please pass the result to `transformed_cell` argument and any exception that happen during thetransform in `preprocessing_exc_tuple` in IPython 7.17 and above.\n",
      "  and should_run_async(code)\n"
     ]
    },
    {
     "data": {
      "text/plain": [
       "[<matplotlib.lines.Line2D at 0x7fe9e5c090a0>]"
      ]
     },
     "execution_count": 336,
     "metadata": {},
     "output_type": "execute_result"
    },
    {
     "data": {
      "image/png": "[encoded data removed]",
      "text/plain": [
       "<Figure size 432x288 with 1 Axes>"
      ]
     },
     "metadata": {
      "needs_background": "light"
     },
     "output_type": "display_data"
    }
   ],
   "source": [
    "#Average weight of the coefficient for each feature\n",
    "linear_coef_df = pd.DataFrame(data=linear_coef)\n",
    "\n",
    "mean_linear_coef=linear_coef_df.mean()\n",
    "\n",
    "plt.plot(mean_linear_coef,alpha=0.7,linestyle='none',marker='o',markersize=10,color='red') "
   ]
  },
  {
   "cell_type": "code",
   "execution_count": 337,
   "metadata": {},
   "outputs": [
    {
     "name": "stdout",
     "output_type": "stream",
     "text": [
      "Feature: 0, Score: 0.52653\n",
      "Feature: 1, Score: -0.17869\n",
      "Feature: 2, Score: -0.27525\n",
      "Feature: 3, Score: 0.12919\n",
      "Feature: 4, Score: 0.02080\n"
     ]
    }
   ],
   "source": [
    "for i,v in enumerate(mean_linear_coef):\n",
    "    print('Feature: %0d, Score: %.5f' % (i,v))"
   ]
  },
  {
   "cell_type": "code",
   "execution_count": 353,
   "metadata": {},
   "outputs": [],
   "source": [
    "## Save and exit\n",
    "xx_dataset.to_pickle(\"./xx.pkl\")\n",
    "happiness_dataset.to_pickle(\"./y.pkl\")\n",
    "x_man_quest.to_pickle(\"./x_quest19.pkl\")"
   ]
  },
  {
   "cell_type": "code",
   "execution_count": null,
   "metadata": {},
   "outputs": [],
   "source": []
  }
 ],
 "metadata": {
  "kernelspec": {
   "display_name": "insight",
   "language": "python",
   "name": "insight"
  },
  "language_info": {
   "codemirror_mode": {
    "name": "ipython",
    "version": 3
   },
   "file_extension": ".py",
   "mimetype": "text/x-python",
   "name": "python",
   "nbconvert_exporter": "python",
   "pygments_lexer": "ipython3",
   "version": "3.8.5"
  }
 },
 "nbformat": 4,
 "nbformat_minor": 4
}
